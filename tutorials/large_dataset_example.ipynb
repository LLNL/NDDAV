{
 "cells": [
  {
   "cell_type": "code",
   "execution_count": 1,
   "metadata": {},
   "outputs": [
    {
     "name": "stdout",
     "output_type": "stream",
     "text": [
      "OptimalAxisAlignModule not available\n",
      "DynamicProjModule not available\n",
      "ViewGraphModule not available\n"
     ]
    }
   ],
   "source": [
    "from nddav_nbextension import nddav_nbextension as nddav\n",
    "from hdff import *"
   ]
  },
  {
   "cell_type": "markdown",
   "metadata": {},
   "source": [
    "For large datasets, it is more efficient to compute the topology separately and upload the data as a .hdff file. \n",
    "\n",
    "**(We need to insert something here about how to create .hdff files.)**"
   ]
  },
  {
   "cell_type": "markdown",
   "metadata": {},
   "source": [
    "### Example 1 - uploading a .hdff file from your file system"
   ]
  },
  {
   "cell_type": "code",
   "execution_count": 2,
   "metadata": {},
   "outputs": [],
   "source": [
    "# you can specify a path:\n",
    "filename = '/home/username/project-data/summaryTopologyTest.hdff'\n",
    "\n",
    "# or you can place your file in the 'nddav_nbextension/data' directory and give the name of the file:\n",
    "filename = 'summaryTopologyTest.hdff'"
   ]
  },
  {
   "cell_type": "markdown",
   "metadata": {},
   "source": [
    "create an NDDAV display with the nddav.createDisplay() command. It takes the following three arguments:\n",
    "- layout: summary datasets require the \"summary\" argument. .hdff file types will not work with the default sample layout.\n",
    "- port: 5000 is the default value. If you specify an occupied port, it will automatically find an open one.\n",
    "- data: your data source"
   ]
  },
  {
   "cell_type": "code",
   "execution_count": 5,
   "metadata": {},
   "outputs": [],
   "source": [
    "%%capture\n",
    "# the capture cell magic suppresses cell output - remove it for more detailed information.\n",
    "display = nddav.createDisplay(layout=\"summary\", port=5000, data=filename)"
   ]
  },
  {
   "cell_type": "markdown",
   "metadata": {},
   "source": [
    "An NDDAV display for a large dataset will have the following three modules:\n",
    "1. Topological Spine: presents the minima, maxima, and saddle points in a contour map form. \n",
    "  - The number of local peaks can be selected with the blue arrows.\n",
    "2. Summary Parallel Coordinates:  presents the data as a parallel coordinates plot. \n",
    "  - The gamma slider controls the opacity of the lines. A higher gamma value will lead to lighter lines.\n",
    "3. Summary Scatterplot: presents the data as a scatterplot.\n",
    "  - The two axes dropdowns control which features are set as the x and y coordinates."
   ]
  },
  {
   "cell_type": "code",
   "execution_count": 6,
   "metadata": {},
   "outputs": [
    {
     "data": {
      "application/vnd.jupyter.widget-view+json": {
       "model_id": "02d1f798efa046bda65be564d1ce915f",
       "version_major": 2,
       "version_minor": 0
      },
      "text/plain": [
       "NDDAVDisplay()"
      ]
     },
     "metadata": {},
     "output_type": "display_data"
    }
   ],
   "source": [
    "display"
   ]
  },
  {
   "cell_type": "code",
   "execution_count": null,
   "metadata": {},
   "outputs": [],
   "source": []
  }
 ],
 "metadata": {
  "kernelspec": {
   "display_name": "Python 3",
   "language": "python",
   "name": "python3"
  },
  "language_info": {
   "codemirror_mode": {
    "name": "ipython",
    "version": 3
   },
   "file_extension": ".py",
   "mimetype": "text/x-python",
   "name": "python",
   "nbconvert_exporter": "python",
   "pygments_lexer": "ipython3",
   "version": "3.8.3"
  }
 },
 "nbformat": 4,
 "nbformat_minor": 4
}
