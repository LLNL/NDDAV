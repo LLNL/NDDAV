{
 "cells": [
  {
   "cell_type": "code",
   "execution_count": 1,
   "metadata": {},
   "outputs": [
    {
     "name": "stdout",
     "output_type": "stream",
     "text": [
      "OptimalAxisAlignModule not available\n",
      "DynamicProjModule not available\n",
      "ViewGraphModule not available\n"
     ]
    }
   ],
   "source": [
    "from nddav_nbextension import nddav_nbextension as nddav\n",
    "import numpy as np"
   ]
  },
  {
   "cell_type": "markdown",
   "metadata": {},
   "source": [
    "data can be loaded into an NDDAV display from a .txt file or from a numpy array. These methods only work for small datasets (less than *insert number here* records), however - for larger datasets, see *large_dataset_example.ipynb*."
   ]
  },
  {
   "cell_type": "markdown",
   "metadata": {},
   "source": [
    "### Example 1 (.txt file)"
   ]
  },
  {
   "cell_type": "code",
   "execution_count": 2,
   "metadata": {},
   "outputs": [],
   "source": [
    "# you can specify a path:\n",
    "filename = '/home/username/project-data/terrain1.txt'\n",
    "\n",
    "# or you can place your file in the 'nddav_nbextension/data' directory and give the name of the file:\n",
    "filename = 'terrain1.txt'"
   ]
  },
  {
   "cell_type": "markdown",
   "metadata": {},
   "source": [
    "create a NDDAV display with the nddav.createDisplay() command.\n",
    "\n",
    "* layout: not required for small datasets - \"sample\" is the default.\n",
    "* port: 5000 is the default value. If you specify an occupied port, it will automatically find an open one.\n",
    "* data: your data source."
   ]
  },
  {
   "cell_type": "code",
   "execution_count": 3,
   "metadata": {},
   "outputs": [],
   "source": [
    "%%capture\n",
    "# the capture cell magic suppresses cell output - remove it for more detailed information.\n",
    "display = nddav.createDisplay(layout=\"sample\", port=5000, data=filename)"
   ]
  },
  {
   "cell_type": "markdown",
   "metadata": {},
   "source": [
    "Once your display is created, you can view it by typing the variable name for Jupyter notebook to display.\n",
    "\n",
    "A small dataset will have the following four modules:\n",
    "1. Neighborhood: controls how the topology of a function is computed.\n",
    "2. Topological Spine: presents the minima, maxima, and saddle points in a contour map form. \n",
    "  - The number of local peaks can be selected with the blue arrows.\n",
    "3. Parallel Coordinates: presents the data as a parallel coordinates plot. \n",
    "  - The dropdown selects which feature to treat as the function, and will color the lines accordingly. \n",
    "  - By dragging your cursor down the axes, you can select a range and only display data points whose values fall in that range for that feature. These ranges can be stacked (i.e. you can select a range for all existing axes to filter the data further). Any selection you make on the parallel coordinates plot will be reflected in the scatterplot as well.\n",
    "4. Scatterplot: presents the data as a scatterplot. \n",
    "  - The two axes dropdowns control which features are set as the x and y coordinates, while the third dropdown controls which feature is selected as the function. Points are colored according to the value of the function.   - You can select a subset of points to highlight by clicking and dragging your cursor over the plot to select a rectangular area. Any selection you make on the scatterplot will be reflected in the parallel coordinates plot as well."
   ]
  },
  {
   "cell_type": "code",
   "execution_count": 5,
   "metadata": {},
   "outputs": [
    {
     "data": {
      "application/vnd.jupyter.widget-view+json": {
       "model_id": "359111e52a8c48acb9ff1697b85222a9",
       "version_major": 2,
       "version_minor": 0
      },
      "text/plain": [
       "NDDAVDisplay()"
      ]
     },
     "metadata": {},
     "output_type": "display_data"
    }
   ],
   "source": [
    "display"
   ]
  },
  {
   "cell_type": "markdown",
   "metadata": {},
   "source": [
    "### Example 2 (numpy array)"
   ]
  },
  {
   "cell_type": "code",
   "execution_count": 2,
   "metadata": {},
   "outputs": [],
   "source": [
    "# create your numpy array\n",
    "file = '../data/terrain1.csv'\n",
    "dataset = np.genfromtxt(file,delimiter=',', dtype=np.float32)"
   ]
  },
  {
   "cell_type": "markdown",
   "metadata": {},
   "source": [
    "Displays are created from numpy arrays with the same command as text files. Simply change the _data_ argument. All other arguments and output remain the same.\n",
    "- layout: omitted here for brevity. Small datasets use the default \"sample\" value.\n",
    "- port: 5000 is the default value. If you specify an occupied port, it will automatically find an open one.\n",
    "- data: your data source."
   ]
  },
  {
   "cell_type": "code",
   "execution_count": 3,
   "metadata": {},
   "outputs": [],
   "source": [
    "%%capture\n",
    "# the capture cell magic suppresses cell output - remove it for more detailed information.\n",
    "display = nddav.createDisplay(data=dataset)"
   ]
  },
  {
   "cell_type": "code",
   "execution_count": 4,
   "metadata": {},
   "outputs": [
    {
     "data": {
      "application/vnd.jupyter.widget-view+json": {
       "model_id": "359111e52a8c48acb9ff1697b85222a9",
       "version_major": 2,
       "version_minor": 0
      },
      "text/plain": [
       "NDDAVDisplay()"
      ]
     },
     "metadata": {},
     "output_type": "display_data"
    }
   ],
   "source": [
    "display"
   ]
  },
  {
   "cell_type": "code",
   "execution_count": null,
   "metadata": {},
   "outputs": [],
   "source": []
  }
 ],
 "metadata": {
  "kernelspec": {
   "display_name": "Python 3",
   "language": "python",
   "name": "python3"
  },
  "language_info": {
   "codemirror_mode": {
    "name": "ipython",
    "version": 3
   },
   "file_extension": ".py",
   "mimetype": "text/x-python",
   "name": "python",
   "nbconvert_exporter": "python",
   "pygments_lexer": "ipython3",
   "version": "3.8.3"
  }
 },
 "nbformat": 4,
 "nbformat_minor": 4
}
