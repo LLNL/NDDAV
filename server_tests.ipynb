{
 "cells": [
  {
   "cell_type": "code",
   "execution_count": 1,
   "metadata": {},
   "outputs": [
    {
     "name": "stdout",
     "output_type": "stream",
     "text": [
      "OptimalAxisAlignModule not available\n",
      "DynamicProjModule not available\n",
      "ViewGraphModule not available\n"
     ]
    }
   ],
   "source": [
    "from nddav_nbextension import nddav_nbextension as nddav\n",
    "from IPython.display import IFrame"
   ]
  },
  {
   "cell_type": "code",
   "execution_count": 11,
   "metadata": {},
   "outputs": [
    {
     "name": "stdout",
     "output_type": "stream",
     "text": [
      "{'column': [{'row': ['Summary P.C.']}, {'row': ['Topological Spine', 'Summary Scatter']}]}\n",
      "5000\n",
      "5000\n"
     ]
    },
    {
     "name": "stderr",
     "output_type": "stream",
     "text": [
      "(18833) wsgi starting up on http://127.0.0.1:5000\n",
      "(18833) accepted ('127.0.0.1', 53516)\n"
     ]
    },
    {
     "name": "stdout",
     "output_type": "stream",
     "text": [
      "name:  componentLayout data:  {'column': [{'row': ['Summary P.C.']}, {'row': ['Topological Spine', 'Summary Scatter']}]}\n"
     ]
    },
    {
     "name": "stderr",
     "output_type": "stream",
     "text": [
      "127.0.0.1 - - [29/Jun/2020 10:42:46] \"HEAD / HTTP/1.1\" 200 310 0.006947\n"
     ]
    },
    {
     "name": "stdout",
     "output_type": "stream",
     "text": [
      "current process:  15484\n",
      "parent process:  15283\n"
     ]
    },
    {
     "name": "stderr",
     "output_type": "stream",
     "text": [
      "(18833) accepted ('127.0.0.1', 53544)\n",
      "127.0.0.1 - - [29/Jun/2020 10:42:48] \"GET /socket.io/?EIO=3&transport=polling&t=NC0XzDJ HTTP/1.1\" 200 355 0.001312\n",
      "(18833) accepted ('127.0.0.1', 53550)\n",
      "(18833) accepted ('127.0.0.1', 53554)\n",
      "127.0.0.1 - - [29/Jun/2020 10:42:48] \"GET /socket.io/?EIO=3&transport=polling&t=NC0XzE_&sid=7be10ee478fc49cf8057a7c805669ed7 HTTP/1.1\" 200 183 0.000130\n",
      "127.0.0.1 - - [29/Jun/2020 10:42:48] \"POST /socket.io/?EIO=3&transport=polling&t=NC0XzE-&sid=7be10ee478fc49cf8057a7c805669ed7 HTTP/1.1\" 200 219 0.000277\n",
      "127.0.0.1 - - [29/Jun/2020 10:42:48] \"GET /socket.io/?EIO=3&transport=polling&t=NC0XzFv&sid=7be10ee478fc49cf8057a7c805669ed7 HTTP/1.1\" 200 183 0.000144\n"
     ]
    },
    {
     "name": "stdout",
     "output_type": "stream",
     "text": [
      "subscribeData\n",
      "converting py to js\n",
      "====================== other\n",
      "in sendToClient function\n",
      "initialised\n",
      "addModule\n",
      "        addModule =>  SumParallelCoordinateModule div_cd5ad3b0-ba16-11ea-8007-7f87760e1afd ['sumdata', 'curPC', 'globalMinMax', 'selectPC', 'selectExt']\n",
      "add module in context:  <class 'nddav_nbextension.hdanalysis.modules.SumParallelCoordinateModule.SumParallelCoordinateModule'>\n",
      "SumDataModule\n",
      "input registered\n",
      "shared value\n",
      "!!!!!!!!!!!!!!!!!!!!Module.link:  (<nddav_nbextension.hdanalysis.core.DataProxy.DataProxy object at 0x7fd2858c8370>, <nddav_nbextension.hdanalysis.core.DataProxy.DataProxy object at 0x7fd2858c84c0>, <bound method SumDataModule.setSum of <nddav_nbextension.hdanalysis.modules.SumParallelCoordinateModule.SumParallelCoordinateModule object at 0x7fd2858c8340>>)\n",
      "shared value\n",
      "shared value\n",
      "shared value\n",
      "shared value\n",
      "shared value\n",
      "shared value\n",
      "converting py to js\n",
      "====================== other\n",
      "in sendToClient function\n",
      "converting py to js\n",
      "====================== other\n",
      "in sendToClient function\n",
      "converting py to js\n",
      "====================== other\n",
      "in sendToClient function\n",
      "context:  1\n",
      "registry:  1\n",
      "<class 'nddav_nbextension.hdanalysis.modules.HDFileModule.HDFileModule'>\n",
      "add module in context:  <class 'nddav_nbextension.hdanalysis.modules.HDFileModule.HDFileModule'>\n",
      "<nddav_nbextension.hdanalysis.core.DataContext.DataContext object at 0x7fd2374f2160>\n",
      "<class 'nddav_nbextension.hdanalysis.core.DataContext.DataContext'>\n",
      "##### Load file: summaryTopologyTest.hdff   ######\n",
      "EG init\n",
      "EG Load\n",
      "*************** Data Set ********************************\n",
      "\n",
      "\n",
      " Module.update: \n",
      " <bound method SumDataModule.setSum of <nddav_nbextension.hdanalysis.modules.SumParallelCoordinateModule.SumParallelCoordinateModule object at 0x7fd2858c8340>> \n",
      "\n",
      "setSum\n",
      "*************** Data Set ********************************\n",
      "\n",
      "========== signalObject_call =============\n",
      "converting py to js\n",
      "====================== GlobalSummary\n",
      "addModule\n",
      "        addModule =>  EGModule -1 []\n",
      "add module in context:  <class 'nddav_nbextension.hdanalysis.modules.EGModule.EGModule'>\n",
      "acccessed EG\n",
      "input registered\n",
      "input registered\n",
      "shared value\n",
      "EG init\n",
      "!!!!!!!!!!!!!!!!!!!!Module.link:  (<nddav_nbextension.hdanalysis.core.DataProxy.DataProxy object at 0x7fd2858d1430>, <nddav_nbextension.hdanalysis.core.DataProxy.DataProxy object at 0x7fd2858d1b80>, <nddav_nbextension.hdanalysis.core.DataProxy.DataProxy object at 0x7fd2858d1a90>, <bound method EGModule.computeExtremumGraph of <nddav_nbextension.hdanalysis.modules.EGModule.EGModule object at 0x7fd2858d1490>>)\n",
      "context:  1\n",
      "registry:  1\n",
      "<class 'nddav_nbextension.hdanalysis.modules.HDFileModule.HDFileModule'>\n",
      "add module in context:  <class 'nddav_nbextension.hdanalysis.modules.HDFileModule.HDFileModule'>\n",
      "<nddav_nbextension.hdanalysis.core.DataContext.DataContext object at 0x7fd2374f2160>\n",
      "<class 'nddav_nbextension.hdanalysis.core.DataContext.DataContext'>\n",
      "##### Load file: summaryTopologyTest.hdff   ######\n",
      "EG init\n",
      "EG Load\n",
      "*************** Data Set ********************************\n",
      "\n",
      "addModule\n",
      "        addModule =>  TopospineModule div_cd5b9700-ba16-11ea-8007-7f87760e1afd ['EGgraph', 'subselection', 'selectExt', 'brushedrange']\n",
      "add module in context:  <class 'nddav_nbextension.hdanalysis.modules.TopospineModule.TopospineModule'>\n",
      "input registered\n",
      "input registered\n",
      "shared value\n",
      "shared value\n",
      "shared value\n",
      "shared value\n",
      "shared value\n",
      "shared value\n",
      "######### TopospineModule::initTopoSpine ########\n",
      "converting py to js\n",
      "====================== ExtremumGraph\n",
      "in sendToClient function\n",
      "converting py to js\n",
      "in sendToClient function\n",
      "converting py to js\n",
      "====================== other\n",
      "in sendToClient function\n",
      "converting py to js\n",
      "====================== other\n",
      "in sendToClient function\n",
      "context:  1\n",
      "registry:  2\n",
      "addModule\n",
      "        addModule =>  SumScatterPlotModule div_cd5d44b0-ba16-11ea-8007-7f87760e1afd ['sumdata', 'subselection', 'curSP', 'selectExt', 'globalMinMax']\n",
      "add module in context:  <class 'nddav_nbextension.hdanalysis.modules.SumScatterPlotModule.SumScatterPlotModule'>\n",
      "SumDataModule\n",
      "input registered\n",
      "shared value\n",
      "!!!!!!!!!!!!!!!!!!!!Module.link:  (<nddav_nbextension.hdanalysis.core.DataProxy.DataProxy object at 0x7fd2858d1a90>, <nddav_nbextension.hdanalysis.core.DataProxy.DataProxy object at 0x7fd2858df8b0>, <bound method SumDataModule.setSum of <nddav_nbextension.hdanalysis.modules.SumScatterPlotModule.SumScatterPlotModule object at 0x7fd2858df970>>)\n",
      "shared value\n",
      "shared value\n",
      "shared value\n",
      "shared value\n",
      "shared value\n",
      "shared value\n",
      "========== signalObject_call =============\n",
      "converting py to js\n",
      "====================== ExtremumGraph\n",
      "\n",
      " Module.update: \n",
      " <bound method SumDataModule.setSum of <nddav_nbextension.hdanalysis.modules.SumScatterPlotModule.SumScatterPlotModule object at 0x7fd2858df970>> \n",
      "\n",
      "setSum\n",
      "*************** Data Set ********************************\n",
      "\n",
      "######### TopospineModule::initTopoSpine ########\n",
      "converting py to js\n",
      "====================== GlobalSummary\n",
      "in sendToClient function\n",
      "converting py to js\n",
      "in sendToClient function\n",
      "converting py to js\n",
      "====================== other\n",
      "in sendToClient function\n",
      "converting py to js\n",
      "====================== other\n",
      "in sendToClient function\n",
      "context:  1\n",
      "registry:  3\n",
      "setSignal\n",
      "========== signalObject_call =============\n",
      "converting py to js\n",
      "====================== other\n",
      "uid:  div_cd5b9700-ba16-11ea-8007-7f87760e1afd function:  computeTopoSpineJSON parameter:  {'persistence': 0.4682244807481766, 'variation': 0, 'layoutType': 'graph', 'scale': 1}\n",
      "============================== Call: computeTopoSpineJSON\n",
      "div_cd5b9700-ba16-11ea-8007-7f87760e1afd\n",
      "{'persistence': 0.4682244807481766, 'variation': 0, 'layoutType': 'graph', 'scale': 1}\n",
      "in sendToClient function\n",
      "uid:  div_cd5b9700-ba16-11ea-8007-7f87760e1afd function:  computeTopoSpineJSON parameter:  {'persistence': 0.4682244807481766, 'variation': 0, 'layoutType': 'graph', 'scale': 1}\n",
      "============================== Call: computeTopoSpineJSON\n",
      "div_cd5b9700-ba16-11ea-8007-7f87760e1afd\n",
      "{'persistence': 0.4682244807481766, 'variation': 0, 'layoutType': 'graph', 'scale': 1}\n",
      "in sendToClient function\n",
      "uid:  div_cd5b9700-ba16-11ea-8007-7f87760e1afd function:  computeTopoSpineJSON parameter:  {'persistence': 0.4682244807481766, 'variation': 0, 'layoutType': 'graph', 'scale': 1}\n",
      "============================== Call: computeTopoSpineJSON\n",
      "div_cd5b9700-ba16-11ea-8007-7f87760e1afd\n",
      "{'persistence': 0.4682244807481766, 'variation': 0, 'layoutType': 'graph', 'scale': 1}\n",
      "in sendToClient function\n",
      "uid:  div_cd5b9700-ba16-11ea-8007-7f87760e1afd function:  computeTopoSpineJSON parameter:  {'persistence': 0.4682244807481766, 'variation': 0, 'layoutType': 'graph', 'scale': 1}\n",
      "============================== Call: computeTopoSpineJSON\n",
      "div_cd5b9700-ba16-11ea-8007-7f87760e1afd\n",
      "{'persistence': 0.4682244807481766, 'variation': 0, 'layoutType': 'graph', 'scale': 1}\n",
      "in sendToClient function\n",
      "uid:  div_cd5b9700-ba16-11ea-8007-7f87760e1afd function:  computeTopoSpineJSON parameter:  {'persistence': 0.4682244807481766, 'variation': 0, 'layoutType': 'graph', 'scale': 0.64}\n",
      "============================== Call: computeTopoSpineJSON\n",
      "div_cd5b9700-ba16-11ea-8007-7f87760e1afd\n",
      "{'persistence': 0.4682244807481766, 'variation': 0, 'layoutType': 'graph', 'scale': 0.64}\n",
      "in sendToClient function\n"
     ]
    }
   ],
   "source": [
    "display = nddav.startServer('/home/emma/LLNL/nddav_nbextension/config/summaryDataHDVis_withoutLoaderUI.json', 5000, 'sum', 'summaryTopologyTest.hdff')"
   ]
  },
  {
   "cell_type": "code",
   "execution_count": 12,
   "metadata": {
    "scrolled": false
   },
   "outputs": [
    {
     "data": {
      "application/vnd.jupyter.widget-view+json": {
       "model_id": "a32c8328930d4c5b9f6e94e65ccdc221",
       "version_major": 2,
       "version_minor": 0
      },
      "text/plain": [
       "NDDAVDisplay()"
      ]
     },
     "metadata": {},
     "output_type": "display_data"
    }
   ],
   "source": [
    "display"
   ]
  },
  {
   "cell_type": "code",
   "execution_count": 8,
   "metadata": {},
   "outputs": [
    {
     "name": "stdout",
     "output_type": "stream",
     "text": [
      "{'column': [{'row': ['Neighborhood', 'Parallel Coordinate']}, {'row': ['Topological Spine', 'Scatter Plot']}]}\n",
      "5000\n",
      "56577\n"
     ]
    },
    {
     "name": "stderr",
     "output_type": "stream",
     "text": [
      "(17722) wsgi starting up on http://127.0.0.1:56577\n",
      "(17722) accepted ('127.0.0.1', 52494)\n"
     ]
    },
    {
     "name": "stdout",
     "output_type": "stream",
     "text": [
      "name:  componentLayout data:  {'column': [{'row': ['Neighborhood', 'Parallel Coordinate']}, {'row': ['Topological Spine', 'Scatter Plot']}]}\n"
     ]
    },
    {
     "name": "stderr",
     "output_type": "stream",
     "text": [
      "127.0.0.1 - - [29/Jun/2020 10:40:16] \"HEAD / HTTP/1.1\" 200 310 0.009066\n"
     ]
    },
    {
     "name": "stdout",
     "output_type": "stream",
     "text": [
      "current process:  15484\n",
      "parent process:  15283\n"
     ]
    },
    {
     "name": "stderr",
     "output_type": "stream",
     "text": [
      "(17722) accepted ('127.0.0.1', 52522)\n"
     ]
    },
    {
     "name": "stdout",
     "output_type": "stream",
     "text": [
      "name:  componentLayout data:  {'column': [{'row': ['Neighborhood', 'Parallel Coordinate']}, {'row': ['Topological Spine', 'Scatter Plot']}]}\n"
     ]
    },
    {
     "name": "stderr",
     "output_type": "stream",
     "text": [
      "127.0.0.1 - - [29/Jun/2020 10:40:17] \"GET / HTTP/1.1\" 200 7370 0.006732\n",
      "127.0.0.1 - - [29/Jun/2020 10:40:18] \"GET /static/css/bootstrap.min.css HTTP/1.1\" 200 151309 0.001107\n",
      "127.0.0.1 - - [29/Jun/2020 10:40:18] \"GET /static/css/scatter.css HTTP/1.1\" 200 358 0.000738\n",
      "127.0.0.1 - - [29/Jun/2020 10:40:18] \"GET /static/lib/d3.v3.min.js HTTP/1.1\" 200 152052 0.000818\n",
      "127.0.0.1 - - [29/Jun/2020 10:40:18] \"GET /static/lib/jquery.min.js HTTP/1.1\" 200 97488 0.000750\n",
      "(17722) accepted ('127.0.0.1', 52544)\n",
      "(17722) accepted ('127.0.0.1', 52546)\n",
      "(17722) accepted ('127.0.0.1', 52548)\n",
      "(17722) accepted ('127.0.0.1', 52550)\n",
      "(17722) accepted ('127.0.0.1', 52552)\n",
      "127.0.0.1 - - [29/Jun/2020 10:40:18] \"GET /static/css/goldenlayout-light-theme.css HTTP/1.1\" 200 105028 0.000993\n",
      "127.0.0.1 - - [29/Jun/2020 10:40:18] \"GET /static/lib/tether.min.js HTTP/1.1\" 200 23708 0.000635\n",
      "127.0.0.1 - - [29/Jun/2020 10:40:18] \"GET /static/lib/bootstrap.min.js HTTP/1.1\" 200 46978 0.000786\n",
      "127.0.0.1 - - [29/Jun/2020 10:40:18] \"GET /static/css/goldenlayout-base.css HTTP/1.1\" 200 3078 0.000569\n",
      "127.0.0.1 - - [29/Jun/2020 10:40:18] \"GET /static/lib/goldenlayout.min.js HTTP/1.1\" 200 56489 0.000659\n",
      "127.0.0.1 - - [29/Jun/2020 10:40:18] \"GET /static/lib/socket.io.min.js HTTP/1.1\" 200 72527 0.000747\n",
      "127.0.0.1 - - [29/Jun/2020 10:40:18] \"GET /static/lib/chroma.min.js HTTP/1.1\" 200 34024 0.000656\n",
      "127.0.0.1 - - [29/Jun/2020 10:40:18] \"GET /static/lib/utilityFunctions.js HTTP/1.1\" 200 462 0.000793\n",
      "127.0.0.1 - - [29/Jun/2020 10:40:18] \"GET /static/lib/mustache.min.js HTTP/1.1\" 200 9850 0.001167\n",
      "127.0.0.1 - - [29/Jun/2020 10:40:18] \"GET /static/css/d3.parcoords.css HTTP/1.1\" 200 950 0.000661\n",
      "127.0.0.1 - - [29/Jun/2020 10:40:18] \"GET /static/lib/uuidv1.js HTTP/1.1\" 200 2655 0.000591\n",
      "127.0.0.1 - - [29/Jun/2020 10:40:18] \"GET /static/lib/d3.centerScale.js HTTP/1.1\" 200 2077 0.000870\n",
      "127.0.0.1 - - [29/Jun/2020 10:40:18] \"GET /static/lib/d3-ForceEdgeBundling.js HTTP/1.1\" 200 13724 0.000648\n",
      "127.0.0.1 - - [29/Jun/2020 10:40:18] \"GET /static/lib/fabric.min.js HTTP/1.1\" 200 261653 0.001294\n",
      "127.0.0.1 - - [29/Jun/2020 10:40:18] \"GET /static/css/app.css HTTP/1.1\" 200 2543 0.000766\n",
      "127.0.0.1 - - [29/Jun/2020 10:40:18] \"GET /static/lib/vectorious.min.js HTTP/1.1\" 200 13938 0.000762\n",
      "127.0.0.1 - - [29/Jun/2020 10:40:18] \"GET /static/lib/d3UIitemSelector.js HTTP/1.1\" 200 3409 0.000626\n",
      "127.0.0.1 - - [29/Jun/2020 10:40:18] \"GET /static/lib/d3UIslider.js HTTP/1.1\" 200 3097 0.000645\n",
      "127.0.0.1 - - [29/Jun/2020 10:40:18] \"GET /static/lib/d3UIcolorMap.js HTTP/1.1\" 200 6459 0.001033\n",
      "127.0.0.1 - - [29/Jun/2020 10:40:18] \"GET /static/lib/d3UIglyph.js HTTP/1.1\" 200 12232 0.000671\n",
      "127.0.0.1 - - [29/Jun/2020 10:40:18] \"GET /static/lib/d3.parcoords.js HTTP/1.1\" 200 72457 0.000859\n",
      "127.0.0.1 - - [29/Jun/2020 10:40:18] \"GET /static/css/slider.css HTTP/1.1\" 200 372 0.000660\n",
      "127.0.0.1 - - [29/Jun/2020 10:40:18] \"GET /static/lib/d3CheckBox.js HTTP/1.1\" 200 2880 0.000629\n",
      "127.0.0.1 - - [29/Jun/2020 10:40:18] \"GET /static/lib/parallel.js HTTP/1.1\" 200 90077 0.000960\n",
      "127.0.0.1 - - [29/Jun/2020 10:40:18] \"GET /static/plots/scatterplots.js HTTP/1.1\" 200 13221 0.001173\n",
      "127.0.0.1 - - [29/Jun/2020 10:40:18] \"GET /static/plots/summaryscatterplots.js HTTP/1.1\" 200 29491 0.001261\n",
      "127.0.0.1 - - [29/Jun/2020 10:40:18] \"GET /static/plots/parallelcoordinatesPlot.js HTTP/1.1\" 200 5961 0.000642\n",
      "127.0.0.1 - - [29/Jun/2020 10:40:18] \"GET /static/plots/summaryparallelcoordinatesPlot.js HTTP/1.1\" 200 11530 0.000975\n",
      "127.0.0.1 - - [29/Jun/2020 10:40:18] \"GET /static/plots/heatmapPlot.js HTTP/1.1\" 200 3566 0.000972\n",
      "127.0.0.1 - - [29/Jun/2020 10:40:18] \"GET /static/plots/persistencePlot.js HTTP/1.1\" 200 11706 0.000811\n",
      "127.0.0.1 - - [29/Jun/2020 10:40:18] \"GET /static/plots/topospinesPlot.js HTTP/1.1\" 200 25707 0.000931\n",
      "127.0.0.1 - - [29/Jun/2020 10:40:18] \"GET /static/plots/optimalAxisAlignPlot.js HTTP/1.1\" 200 15625 0.000868\n",
      "127.0.0.1 - - [29/Jun/2020 10:40:18] \"GET /static/plots/slabPlot.js HTTP/1.1\" 200 16192 0.000799\n",
      "127.0.0.1 - - [29/Jun/2020 10:40:18] \"GET /static/lib/clipper.js HTTP/1.1\" 200 138532 0.001167\n",
      "127.0.0.1 - - [29/Jun/2020 10:40:18] \"GET /static/plots/basePlot.js HTTP/1.1\" 200 1213 0.001013\n",
      "127.0.0.1 - - [29/Jun/2020 10:40:18] \"GET /static/plots/peelingPlot.js HTTP/1.1\" 200 412 0.000855\n",
      "127.0.0.1 - - [29/Jun/2020 10:40:18] \"GET /static/components/baseComponent.js HTTP/1.1\" 200 3765 0.000880\n",
      "127.0.0.1 - - [29/Jun/2020 10:40:18] \"GET /static/components/filterComponent.js HTTP/1.1\" 200 5032 0.000984\n",
      "127.0.0.1 - - [29/Jun/2020 10:40:18] \"GET /static/components/neighborhoodComponent.js HTTP/1.1\" 200 1721 0.000968\n",
      "127.0.0.1 - - [29/Jun/2020 10:40:18] \"GET /static/components/dimensionReductionComponent.js HTTP/1.1\" 200 1441 0.000955\n",
      "127.0.0.1 - - [29/Jun/2020 10:40:18] \"GET /static/components/clusteringComponent.js HTTP/1.1\" 200 2107 0.000910\n",
      "127.0.0.1 - - [29/Jun/2020 10:40:18] \"GET /static/components/tableComponent.js HTTP/1.1\" 200 2280 0.000989\n",
      "127.0.0.1 - - [29/Jun/2020 10:40:18] \"GET /static/components/scatterplotsComponent.js HTTP/1.1\" 200 2485 0.001045\n",
      "127.0.0.1 - - [29/Jun/2020 10:40:18] \"GET /static/components/topospineComponent.js HTTP/1.1\" 200 5137 0.001010\n",
      "127.0.0.1 - - [29/Jun/2020 10:40:18] \"GET /static/components/summaryparallelcoordinatesComponent.js HTTP/1.1\" 200 2126 0.000641\n",
      "127.0.0.1 - - [29/Jun/2020 10:40:18] \"GET /static/components/summaryscatterplotsComponent.js HTTP/1.1\" 200 2613 0.000799\n",
      "127.0.0.1 - - [29/Jun/2020 10:40:18] \"GET /static/components/multiTopospineComponent.js HTTP/1.1\" 200 2299 0.001044\n",
      "127.0.0.1 - - [29/Jun/2020 10:40:18] \"GET /static/components/optimalAxisAlignComponent.js HTTP/1.1\" 200 1476 0.001009\n",
      "127.0.0.1 - - [29/Jun/2020 10:40:18] \"GET /static/components/peakShapeComponent.js HTTP/1.1\" 200 3268 0.000864\n",
      "127.0.0.1 - - [29/Jun/2020 10:40:18] \"GET /static/components/scatterplotPeelingComponent.js HTTP/1.1\" 200 2368 0.000902\n",
      "127.0.0.1 - - [29/Jun/2020 10:40:18] \"GET /static/components/imageComponent.js HTTP/1.1\" 200 5689 0.000883\n",
      "127.0.0.1 - - [29/Jun/2020 10:40:18] \"GET /static/components/viewGraphComponenet.js HTTP/1.1\" 200 6452 0.000728\n",
      "127.0.0.1 - - [29/Jun/2020 10:40:18] \"GET /static/glayout.js HTTP/1.1\" 200 4787 0.000948\n",
      "127.0.0.1 - - [29/Jun/2020 10:40:18] \"GET /static/main.js HTTP/1.1\" 200 4958 0.001051\n",
      "127.0.0.1 - - [29/Jun/2020 10:40:18] \"GET /static/plots/dynamicProjPlot.js HTTP/1.1\" 200 4342 0.000703\n",
      "127.0.0.1 - - [29/Jun/2020 10:40:18] \"GET /static/components/parallelcoordinatesComponent.js HTTP/1.1\" 200 2284 0.000932\n",
      "127.0.0.1 - - [29/Jun/2020 10:40:18] \"GET /static/components/funcDistComponent.js HTTP/1.1\" 200 1477 0.000757\n",
      "127.0.0.1 - - [29/Jun/2020 10:40:18] \"GET /static/components/dynamicProjComponent.js HTTP/1.1\" 200 2000 0.000710\n",
      "127.0.0.1 - - [29/Jun/2020 10:40:18] \"GET /static/components/hdfileComponent.js HTTP/1.1\" 200 1536 0.001000\n",
      "127.0.0.1 - - [29/Jun/2020 10:40:18] \"GET /socket.io/?EIO=3&transport=polling&t=NC0XOh5 HTTP/1.1\" 200 355 0.001414\n",
      "(17722) accepted ('127.0.0.1', 52696)\n",
      "127.0.0.1 - - [29/Jun/2020 10:40:18] \"GET /socket.io/?EIO=3&transport=polling&t=NC0XOhs&sid=3de69e8c533a41cc90efb18ccea8a782 HTTP/1.1\" 200 183 0.002024\n",
      "127.0.0.1 - - [29/Jun/2020 10:40:18] \"POST /socket.io/?EIO=3&transport=polling&t=NC0XOhq&sid=3de69e8c533a41cc90efb18ccea8a782 HTTP/1.1\" 200 220 0.000362\n",
      "127.0.0.1 - - [29/Jun/2020 10:40:18] \"GET /socket.io/?EIO=3&transport=polling&t=NC0XOit&sid=3de69e8c533a41cc90efb18ccea8a782 HTTP/1.1\" 200 183 0.000175\n"
     ]
    },
    {
     "name": "stdout",
     "output_type": "stream",
     "text": [
      "subscribeData\n",
      "converting py to js\n",
      "====================== other\n",
      "in sendToClient function\n"
     ]
    },
    {
     "name": "stderr",
     "output_type": "stream",
     "text": [
      "127.0.0.1 - - [29/Jun/2020 10:40:18] \"GET /neighborhood_view HTTP/1.1\" 200 1209 0.003739\n",
      "127.0.0.1 - - [29/Jun/2020 10:40:18] \"GET /template_view HTTP/1.1\" 200 347 0.003792\n",
      "127.0.0.1 - - [29/Jun/2020 10:40:18] \"GET /template_view HTTP/1.1\" 200 347 0.003717\n",
      "127.0.0.1 - - [29/Jun/2020 10:40:18] \"GET /template_view HTTP/1.1\" 200 347 0.002724\n"
     ]
    },
    {
     "name": "stdout",
     "output_type": "stream",
     "text": [
      "initialised\n",
      "addModule\n",
      "        addModule =>  NeighborhoodModule div_7426fb20-ba16-11ea-8e57-217fd7131d8d []\n",
      "add module in context:  <class 'nddav_nbextension.hdanalysis.modules.NeighborhoodModule.NeighborhoodModule'>\n",
      "input registered\n",
      "!!!!!!!!!!!!!!!!!!!!Module.link:  (<nddav_nbextension.hdanalysis.core.DataProxy.DataProxy object at 0x7fd2858b9a30>, <nddav_nbextension.hdanalysis.core.DataProxy.DataProxy object at 0x7fd2858b98e0>, <bound method NeighborhoodModule.computeNeighborhood of <nddav_nbextension.hdanalysis.modules.NeighborhoodModule.NeighborhoodModule object at 0x7fd2858b9a60>>)\n",
      "context:  2\n",
      "registry:  1\n",
      "uid:  div_7426fb20-ba16-11ea-8e57-217fd7131d8d function:  getModuleInfoDict parameter:  {}\n",
      "============================== Call: getModuleInfoDict\n",
      "div_7426fb20-ba16-11ea-8e57-217fd7131d8d\n",
      "{}\n",
      "in sendToClient function\n",
      "addModule\n",
      "        addModule =>  PlotModule div_7428a8d0-ba16-11ea-8e57-217fd7131d8d ['data', 'subselection', 'seg', 'embedding']\n",
      "add module in context:  <class 'nddav_nbextension.hdanalysis.modules.PlotModule.PlotModule'>\n",
      "input registered\n",
      "input registered\n",
      "input registered\n",
      "input registered\n",
      "shared value\n",
      "shared value\n",
      "converting py to js\n",
      "in sendToClient function\n",
      "context:  2\n",
      "registry:  2\n",
      "add module in context:  <class 'nddav_nbextension.hdanalysis.modules.DataModule.DataModule'>\n",
      "====== DataModule.__init__ <nddav_nbextension.hdanalysis.core.DataContext.DataContext object at 0x7fd2374f2160> None None\n",
      "!!!!!!!!!!!!!!!!!!!!Module.link:  (<nddav_nbextension.hdanalysis.core.DataProxy.DataProxy object at 0x7fd2858b9490>, <nddav_nbextension.hdanalysis.core.DataProxy.DataProxy object at 0x7fd2858b9a30>, <bound method DataModule.computeFunction of <nddav_nbextension.hdanalysis.modules.DataModule.DataModule object at 0x7fd2858c2070>>)\n",
      "*************** Data Set ********************************\n",
      "\n",
      "\n",
      " Module.update: \n",
      " <bound method DataModule.computeFunction of <nddav_nbextension.hdanalysis.modules.DataModule.DataModule object at 0x7fd2858c2070>> \n",
      "\n",
      "============= DataModule.computeFunction:\n",
      "  <class 'nddav_nbextension.hdanalysis.core.HDData.HDData'>\n"
     ]
    },
    {
     "name": "stderr",
     "output_type": "stream",
     "text": [
      "/home/emma/LLNL/nddav_nbextension/nddav_nbextension/hdanalysis/core/HDWarning.py:4: HDWarning: Pointset not a function\n",
      "  warnings.warn(HDWarning(short,doc))\n"
     ]
    },
    {
     "name": "stdout",
     "output_type": "stream",
     "text": [
      "*************** Data Set ********************************\n",
      "\n",
      "\n",
      " Module.update: \n",
      " <bound method NeighborhoodModule.computeNeighborhood of <nddav_nbextension.hdanalysis.modules.NeighborhoodModule.NeighborhoodModule object at 0x7fd2858b9a60>> \n",
      "\n",
      "\n",
      "============ computeNeighborhood(self,function): ============\n",
      "\n",
      "construct_neighborhood :  RelaxedGabriel 20 0.7071067811865475 none\n",
      "*************** Data Set ********************************\n",
      "\n",
      "========== signalObject_call =============\n",
      "converting py to js\n",
      "============ py2js HDData =========== \n",
      "addModule\n",
      "        addModule =>  PlotModule div_74294510-ba16-11ea-8e57-217fd7131d8d ['data', 'subselection']\n",
      "add module in context:  <class 'nddav_nbextension.hdanalysis.modules.PlotModule.PlotModule'>\n",
      "input registered\n",
      "input registered\n",
      "input registered\n",
      "input registered\n",
      "shared value\n",
      "shared value\n",
      "\n",
      " Module.update: \n",
      " <bound method DataModule.computeFunction of <nddav_nbextension.hdanalysis.modules.DataModule.DataModule object at 0x7fd2858c2070>> \n",
      "\n",
      "========== signalObject_call =============\n",
      "converting py to js\n",
      "============ py2js HDData =========== \n",
      "\n",
      " Module.update: \n",
      " <bound method NeighborhoodModule.computeNeighborhood of <nddav_nbextension.hdanalysis.modules.NeighborhoodModule.NeighborhoodModule object at 0x7fd2858b9a60>> \n",
      "\n",
      "converting py to js\n",
      "============ py2js HDData =========== \n",
      "in sendToClient function\n",
      "converting py to js\n",
      "in sendToClient function\n",
      "context:  2\n",
      "registry:  3\n",
      "addModule\n",
      "        addModule =>  EGModule -1 []\n",
      "add module in context:  <class 'nddav_nbextension.hdanalysis.modules.EGModule.EGModule'>\n",
      "acccessed EG\n",
      "input registered\n",
      "input registered\n",
      "shared value\n",
      "EG init\n",
      "!!!!!!!!!!!!!!!!!!!!Module.link:  (<nddav_nbextension.hdanalysis.core.DataProxy.DataProxy object at 0x7fd2858b9a30>, <nddav_nbextension.hdanalysis.core.DataProxy.DataProxy object at 0x7fd2858b98e0>, <nddav_nbextension.hdanalysis.core.DataProxy.DataProxy object at 0x7fd28587cc70>, <bound method EGModule.computeExtremumGraph of <nddav_nbextension.hdanalysis.modules.EGModule.EGModule object at 0x7fd28587cd90>>)\n",
      "\n",
      " Module.update: \n",
      " <bound method NeighborhoodModule.computeNeighborhood of <nddav_nbextension.hdanalysis.modules.NeighborhoodModule.NeighborhoodModule object at 0x7fd2858b9a60>> \n",
      "\n",
      "\n",
      " Module.update: \n",
      " <bound method EGModule.computeExtremumGraph of <nddav_nbextension.hdanalysis.modules.EGModule.EGModule object at 0x7fd28587cd90>> \n",
      "\n",
      "*************** Data Set ********************************\n",
      "\n",
      "\n",
      " Module.update: \n",
      " <bound method EGModule.computeExtremumGraph of <nddav_nbextension.hdanalysis.modules.EGModule.EGModule object at 0x7fd28587cd90>> \n",
      "\n",
      "context:  2\n",
      "registry:  3\n",
      "addModule\n",
      "        addModule =>  TopospineModule div_742bb610-ba16-11ea-8e57-217fd7131d8d ['EGgraph', 'subselection', 'selectExt', 'brushedrange']\n",
      "add module in context:  <class 'nddav_nbextension.hdanalysis.modules.TopospineModule.TopospineModule'>\n",
      "input registered\n",
      "input registered\n",
      "shared value\n",
      "shared value\n",
      "shared value\n",
      "shared value\n",
      "shared value\n",
      "shared value\n",
      "######### TopospineModule::initTopoSpine ########\n",
      "\n",
      " Module.update: \n",
      " <bound method NeighborhoodModule.computeNeighborhood of <nddav_nbextension.hdanalysis.modules.NeighborhoodModule.NeighborhoodModule object at 0x7fd2858b9a60>> \n",
      "\n",
      "\n",
      " Module.update: \n",
      " <bound method EGModule.computeExtremumGraph of <nddav_nbextension.hdanalysis.modules.EGModule.EGModule object at 0x7fd28587cd90>> \n",
      "\n",
      "converting py to js\n",
      "====================== ExtremumGraph\n",
      "in sendToClient function\n",
      "converting py to js\n",
      "in sendToClient function\n",
      "converting py to js\n",
      "====================== other\n",
      "in sendToClient function\n",
      "converting py to js\n",
      "====================== other\n",
      "in sendToClient function\n",
      "context:  2\n",
      "registry:  4\n",
      "uid:  div_742bb610-ba16-11ea-8e57-217fd7131d8d function:  computeTopoSpineJSON parameter:  {'persistence': 0.25614233314991, 'variation': 0, 'layoutType': 'graph', 'scale': 1}\n",
      "============================== Call: computeTopoSpineJSON\n",
      "div_742bb610-ba16-11ea-8e57-217fd7131d8d\n",
      "{'persistence': 0.25614233314991, 'variation': 0, 'layoutType': 'graph', 'scale': 1}\n"
     ]
    },
    {
     "name": "stderr",
     "output_type": "stream",
     "text": [
      "Warning: bad edge len \"0.0\" in ER - setting to 1.00\n"
     ]
    },
    {
     "name": "stdout",
     "output_type": "stream",
     "text": [
      "in sendToClient function\n",
      "uid:  div_742bb610-ba16-11ea-8e57-217fd7131d8d function:  computeTopoSpineJSON parameter:  {'persistence': 0.25614233314991, 'variation': 0, 'layoutType': 'graph', 'scale': 1}\n",
      "============================== Call: computeTopoSpineJSON\n",
      "div_742bb610-ba16-11ea-8e57-217fd7131d8d\n",
      "{'persistence': 0.25614233314991, 'variation': 0, 'layoutType': 'graph', 'scale': 1}\n",
      "in sendToClient function\n",
      "uid:  div_742bb610-ba16-11ea-8e57-217fd7131d8d function:  computeTopoSpineJSON parameter:  {'persistence': 0.25614233314991, 'variation': 0, 'layoutType': 'graph', 'scale': 1}\n",
      "============================== Call: computeTopoSpineJSON\n",
      "div_742bb610-ba16-11ea-8e57-217fd7131d8d\n",
      "{'persistence': 0.25614233314991, 'variation': 0, 'layoutType': 'graph', 'scale': 1}\n",
      "in sendToClient function\n",
      "uid:  div_742bb610-ba16-11ea-8e57-217fd7131d8d function:  computeTopoSpineJSON parameter:  {'persistence': 0.25614233314991, 'variation': 0, 'layoutType': 'graph', 'scale': 0.64}\n",
      "============================== Call: computeTopoSpineJSON\n",
      "div_742bb610-ba16-11ea-8e57-217fd7131d8d\n",
      "{'persistence': 0.25614233314991, 'variation': 0, 'layoutType': 'graph', 'scale': 0.64}\n",
      "in sendToClient function\n"
     ]
    }
   ],
   "source": [
    "display2 = nddav.startServer('/home/emma/LLNL/nddav_nbextension/config/smallDataHDVis_withoutLoaderUI.json', 5000, 'small', 'upload/terrain1.txt')"
   ]
  },
  {
   "cell_type": "code",
   "execution_count": 9,
   "metadata": {},
   "outputs": [
    {
     "data": {
      "application/vnd.jupyter.widget-view+json": {
       "model_id": "9078772418884a8f894991ccd36c7726",
       "version_major": 2,
       "version_minor": 0
      },
      "text/plain": [
       "NDDAVDisplay()"
      ]
     },
     "metadata": {},
     "output_type": "display_data"
    }
   ],
   "source": [
    "display2"
   ]
  },
  {
   "cell_type": "code",
   "execution_count": null,
   "metadata": {},
   "outputs": [],
   "source": []
  }
 ],
 "metadata": {
  "kernelspec": {
   "display_name": "Python 3",
   "language": "python",
   "name": "python3"
  },
  "language_info": {
   "codemirror_mode": {
    "name": "ipython",
    "version": 3
   },
   "file_extension": ".py",
   "mimetype": "text/x-python",
   "name": "python",
   "nbconvert_exporter": "python",
   "pygments_lexer": "ipython3",
   "version": "3.8.3"
  }
 },
 "nbformat": 4,
 "nbformat_minor": 4
}
