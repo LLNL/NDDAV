{
 "cells": [
  {
   "cell_type": "code",
   "execution_count": 1,
   "metadata": {},
   "outputs": [
    {
     "name": "stdout",
     "output_type": "stream",
     "text": [
      "jupyter\n",
      "OptimalAxisAlignModule not available\n",
      "DynamicProjModule not available\n",
      "ViewGraphModule not available\n"
     ]
    }
   ],
   "source": [
    "from nddav_nbextension import nddav_nbextension as nddav\n",
    "import numpy as np\n",
    "from nddav_nbextension.hdanalysis.modules.HDFileModule import *\n",
    "from hdff import *\n",
    "from nddav_nbextension.hdanalysis.core.DataContext import *"
   ]
  },
  {
   "cell_type": "code",
   "execution_count": 2,
   "metadata": {},
   "outputs": [],
   "source": [
    "# example of loading data from a file (can be .txt or .hdff)\n",
    "filename = '/home/emma/summaryTopologyTest.hdff'"
   ]
  },
  {
   "cell_type": "code",
   "execution_count": 3,
   "metadata": {},
   "outputs": [],
   "source": [
    "%%capture\n",
    "display = nddav.createDisplay('/home/emma/LLNL/nddav_nbextension/config/summaryDataHDVis_withoutLoaderUI.json', port=5000, data=filename)"
   ]
  },
  {
   "cell_type": "code",
   "execution_count": 4,
   "metadata": {},
   "outputs": [
    {
     "data": {
      "application/vnd.jupyter.widget-view+json": {
       "model_id": "f70a61dc3bf241b18a38ed406bf7f5d8",
       "version_major": 2,
       "version_minor": 0
      },
      "text/plain": [
       "NDDAVDisplay()"
      ]
     },
     "metadata": {},
     "output_type": "display_data"
    }
   ],
   "source": [
    "display"
   ]
  },
  {
   "cell_type": "code",
   "execution_count": 5,
   "metadata": {},
   "outputs": [],
   "source": [
    "#example of loading data from a numpy array\n",
    "filename = 'upload/terrain1.txt'\n",
    "\n",
    "file = open(filename, 'r')\n",
    "dim = len(file.readline().split())\n",
    "file.close()\n",
    "\n",
    "contents = np.loadtxt(filename, dtype=np.float32)\n",
    "num_rows = int(len(contents)/3)\n",
    "contents = np.array(contents).astype(np.float32)"
   ]
  },
  {
   "cell_type": "code",
   "execution_count": 6,
   "metadata": {},
   "outputs": [],
   "source": [
    "%%capture\n",
    "display = nddav.createDisplay('/home/emma/LLNL/nddav_nbextension/config/smallDataHDVis_withoutLoaderUI.json', port=5000, data=contents)"
   ]
  },
  {
   "cell_type": "code",
   "execution_count": 7,
   "metadata": {},
   "outputs": [
    {
     "data": {
      "application/vnd.jupyter.widget-view+json": {
       "model_id": "163851dc2d2e472ab028493eba951e6d",
       "version_major": 2,
       "version_minor": 0
      },
      "text/plain": [
       "NDDAVDisplay()"
      ]
     },
     "metadata": {},
     "output_type": "display_data"
    }
   ],
   "source": [
    "display"
   ]
  },
  {
   "cell_type": "code",
   "execution_count": 8,
   "metadata": {},
   "outputs": [],
   "source": [
    "#example of loading an hdff DataCollectionHandle\n",
    "filename = 'summaryTopologyTest.hdff'\n",
    "\n",
    "collection = DataCollectionHandle()\n",
    "collection.attach(\"data/\"+filename)\n",
    "dataset = collection.dataset(0)\n",
    "handle = dataset.getDataBlock(0)"
   ]
  },
  {
   "cell_type": "code",
   "execution_count": 9,
   "metadata": {},
   "outputs": [],
   "source": [
    "%%capture\n",
    "display = nddav.createDisplay('/home/emma/LLNL/nddav_nbextension/config/summaryDataHDVis_withoutLoaderUI.json', port=5000, data=handle)"
   ]
  },
  {
   "cell_type": "code",
   "execution_count": 10,
   "metadata": {},
   "outputs": [
    {
     "data": {
      "application/vnd.jupyter.widget-view+json": {
       "model_id": "bdf6c7c90b88423d9c2ff981cf0e6c15",
       "version_major": 2,
       "version_minor": 0
      },
      "text/plain": [
       "NDDAVDisplay()"
      ]
     },
     "metadata": {},
     "output_type": "display_data"
    }
   ],
   "source": [
    "display"
   ]
  },
  {
   "cell_type": "code",
   "execution_count": 11,
   "metadata": {},
   "outputs": [
    {
     "name": "stdout",
     "output_type": "stream",
     "text": [
      "<class 'nddav_nbextension.hdanalysis.modules.HDFileModule.HDFileModule'>\n"
     ]
    }
   ],
   "source": [
    "# example of loading an entire HDFileModule\n",
    "context = DataContext()\n",
    "test_hdf = HDFileModule(context,'summaryTopologyTest.hdff')\n",
    "print(type(test_hdf))"
   ]
  },
  {
   "cell_type": "code",
   "execution_count": 12,
   "metadata": {},
   "outputs": [],
   "source": [
    "%%capture\n",
    "display = nddav.createDisplay('/home/emma/LLNL/nddav_nbextension/config/summaryDataHDVis_withoutLoaderUI.json', port=5000, data=test_hdf)"
   ]
  },
  {
   "cell_type": "code",
   "execution_count": 13,
   "metadata": {},
   "outputs": [
    {
     "data": {
      "application/vnd.jupyter.widget-view+json": {
       "model_id": "1a552b9acc9d49b7af242898dec89525",
       "version_major": 2,
       "version_minor": 0
      },
      "text/plain": [
       "NDDAVDisplay()"
      ]
     },
     "metadata": {},
     "output_type": "display_data"
    }
   ],
   "source": [
    "display"
   ]
  },
  {
   "cell_type": "code",
   "execution_count": null,
   "metadata": {},
   "outputs": [],
   "source": []
  }
 ],
 "metadata": {
  "kernelspec": {
   "display_name": "Python 3",
   "language": "python",
   "name": "python3"
  },
  "language_info": {
   "codemirror_mode": {
    "name": "ipython",
    "version": 3
   },
   "file_extension": ".py",
   "mimetype": "text/x-python",
   "name": "python",
   "nbconvert_exporter": "python",
   "pygments_lexer": "ipython3",
   "version": "3.8.3"
  }
 },
 "nbformat": 4,
 "nbformat_minor": 4
}
