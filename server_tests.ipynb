{
 "cells": [
  {
   "cell_type": "code",
   "execution_count": 1,
   "metadata": {},
   "outputs": [
    {
     "name": "stdout",
     "output_type": "stream",
     "text": [
      "OptimalAxisAlignModule not available\n",
      "DynamicProjModule not available\n",
      "ViewGraphModule not available\n"
     ]
    }
   ],
   "source": [
    "from nddav_nbextension import nddav_nbextension as nddav\n",
    "from IPython.display import IFrame"
   ]
  },
  {
   "cell_type": "code",
   "execution_count": 2,
   "metadata": {},
   "outputs": [
    {
     "name": "stdout",
     "output_type": "stream",
     "text": [
      "{'column': [{'row': ['HDFile', 'Summary P.C.']}, {'row': ['Topological Spine', 'Summary Scatter']}]}\n"
     ]
    },
    {
     "name": "stderr",
     "output_type": "stream",
     "text": [
      "(19837) wsgi starting up on http://127.0.0.1:5000\n",
      "(19837) accepted ('127.0.0.1', 60134)\n",
      "127.0.0.1 - - [23/Jun/2020 14:26:40] \"HEAD / HTTP/1.1\" 200 304 0.003419\n",
      "(19837) accepted ('127.0.0.1', 60142)\n",
      "127.0.0.1 - - [23/Jun/2020 14:26:44] \"GET /socket.io/?EIO=3&transport=polling&t=NBYRh7s HTTP/1.1\" 200 355 0.002726\n",
      "(19837) accepted ('127.0.0.1', 60148)\n",
      "127.0.0.1 - - [23/Jun/2020 14:26:45] \"POST /socket.io/?EIO=3&transport=polling&t=NBYRh8m&sid=f4d19f0c304d414e87fdf4b9ba93312c HTTP/1.1\" 200 219 0.000282\n",
      "(19837) accepted ('127.0.0.1', 60152)\n",
      "127.0.0.1 - - [23/Jun/2020 14:26:45] \"GET /socket.io/?EIO=3&transport=polling&t=NBYRh8r&sid=f4d19f0c304d414e87fdf4b9ba93312c HTTP/1.1\" 200 183 0.000159\n",
      "(19837) accepted ('127.0.0.1', 60160)\n",
      "127.0.0.1 - - [23/Jun/2020 14:26:47] \"GET /socket.io/?EIO=3&transport=polling&t=NBYRhqO HTTP/1.1\" 200 355 0.000299\n",
      "(19837) accepted ('127.0.0.1', 60166)\n",
      "(19837) accepted ('127.0.0.1', 60170)\n",
      "127.0.0.1 - - [23/Jun/2020 14:26:47] \"POST /socket.io/?EIO=3&transport=polling&t=NBYRhsj&sid=8bd56fcdd3c24fe78e98d5894f236d6b HTTP/1.1\" 200 219 0.000327\n",
      "127.0.0.1 - - [23/Jun/2020 14:26:47] \"GET /socket.io/?EIO=3&transport=polling&t=NBYRhss&sid=8bd56fcdd3c24fe78e98d5894f236d6b HTTP/1.1\" 200 183 0.000177\n"
     ]
    },
    {
     "name": "stdout",
     "output_type": "stream",
     "text": [
      "        addModule =>  HDFileModule div_196c1850-b57f-11ea-b6d5-877f73bc563a []\n",
      "        addModule =>  SumParallelCoordinateModule div_196d02b0-b57f-11ea-b6d5-877f73bc563a ['sumdata', 'curPC', 'globalMinMax', 'selectPC', 'selectExt']\n",
      "        addModule =>  EGModule -1 []\n",
      "        addModule =>  TopospineModule div_196d50d0-b57f-11ea-b6d5-877f73bc563a ['EGgraph', 'subselection', 'selectExt', 'brushedrange']\n",
      "        addModule =>  SumScatterPlotModule div_196eb060-b57f-11ea-b6d5-877f73bc563a ['sumdata', 'subselection', 'curSP', 'selectExt', 'globalMinMax']\n",
      "##### Load file: summaryTopologyTest.hdff   ######\n",
      "\n",
      " Module.update: \n",
      " <bound method SumDataModule.setSum of <nddav_nbextension.hdanalysis.modules.SumParallelCoordinateModule.SumParallelCoordinateModule object at 0x7fd7afad9490>> \n",
      "\n",
      "\n",
      " Module.update: \n",
      " <bound method SumDataModule.setSum of <nddav_nbextension.hdanalysis.modules.SumScatterPlotModule.SumScatterPlotModule object at 0x7fd7afadd550>> \n",
      "\n"
     ]
    }
   ],
   "source": [
    "display = nddav.startServer('/home/emma/LLNL/nddav_nbextension/config/summaryDataHDVis.json', 5000)"
   ]
  },
  {
   "cell_type": "code",
   "execution_count": 3,
   "metadata": {},
   "outputs": [
    {
     "data": {
      "application/vnd.jupyter.widget-view+json": {
       "model_id": "63e8ca3868c245b580a038b2168b5e4c",
       "version_major": 2,
       "version_minor": 0
      },
      "text/plain": [
       "NDDAVDisplay()"
      ]
     },
     "metadata": {},
     "output_type": "display_data"
    }
   ],
   "source": [
    "display"
   ]
  },
  {
   "cell_type": "code",
   "execution_count": null,
   "metadata": {},
   "outputs": [],
   "source": []
  }
 ],
 "metadata": {
  "kernelspec": {
   "display_name": "Python 3",
   "language": "python",
   "name": "python3"
  },
  "language_info": {
   "codemirror_mode": {
    "name": "ipython",
    "version": 3
   },
   "file_extension": ".py",
   "mimetype": "text/x-python",
   "name": "python",
   "nbconvert_exporter": "python",
   "pygments_lexer": "ipython3",
   "version": "3.8.3"
  }
 },
 "nbformat": 4,
 "nbformat_minor": 4
}
