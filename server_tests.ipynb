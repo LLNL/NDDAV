{
 "cells": [
  {
   "cell_type": "code",
   "execution_count": 1,
   "metadata": {},
   "outputs": [
    {
     "name": "stdout",
     "output_type": "stream",
     "text": [
      "OptimalAxisAlignModule not available\n",
      "DynamicProjModule not available\n",
      "ViewGraphModule not available\n"
     ]
    }
   ],
   "source": [
    "from nddav_nbextension import nddav_nbextension as nddav\n",
    "from IPython.display import IFrame"
   ]
  },
  {
   "cell_type": "code",
   "execution_count": 2,
   "metadata": {},
   "outputs": [
    {
     "name": "stdout",
     "output_type": "stream",
     "text": [
      "{'column': [{'row': ['Filtering', 'Neighborhood', 'Topological Spine']}, {'row': ['Parallel Coordinate', 'Scatter Plot']}]}\n"
     ]
    },
    {
     "name": "stderr",
     "output_type": "stream",
     "text": [
      "(21810) wsgi starting up on http://127.0.0.1:5000\n",
      "(21810) accepted ('127.0.0.1', 58004)\n"
     ]
    },
    {
     "name": "stdout",
     "output_type": "stream",
     "text": [
      "setData in M_UI_Reg  componentLayout <class 'dict'>\n"
     ]
    },
    {
     "name": "stderr",
     "output_type": "stream",
     "text": [
      "127.0.0.1 - - [19/Jun/2020 19:10:29] \"HEAD / HTTP/1.1\" 200 304 0.007661\n"
     ]
    },
    {
     "name": "stdout",
     "output_type": "stream",
     "text": [
      "{'QbFz2XoKQiu4vxqcpFUEPA': <Process name='Process-1' pid=21810 parent=21756 started>}\n",
      "here\n"
     ]
    },
    {
     "name": "stderr",
     "output_type": "stream",
     "text": [
      "(21810) accepted ('127.0.0.1', 58022)\n",
      "127.0.0.1 - - [19/Jun/2020 19:10:31] \"GET /socket.io/?EIO=3&transport=polling&t=NBEsGvT HTTP/1.1\" 200 355 0.000998\n",
      "(21810) accepted ('127.0.0.1', 58028)\n",
      "127.0.0.1 - - [19/Jun/2020 19:10:31] \"POST /socket.io/?EIO=3&transport=polling&t=NBEsGwB&sid=4a86bb9c4dd243dab6269cc672f147bf HTTP/1.1\" 200 219 0.000437\n",
      "(21810) accepted ('127.0.0.1', 58032)\n",
      "127.0.0.1 - - [19/Jun/2020 19:10:31] \"GET /socket.io/?EIO=3&transport=polling&t=NBEsGwC&sid=4a86bb9c4dd243dab6269cc672f147bf HTTP/1.1\" 200 183 0.000248\n",
      "(21810) accepted ('127.0.0.1', 58040)\n",
      "127.0.0.1 - - [19/Jun/2020 19:10:33] \"GET /socket.io/?EIO=3&transport=polling&t=NBEsHQp HTTP/1.1\" 200 355 0.000322\n",
      "(21810) accepted ('127.0.0.1', 58046)\n",
      "127.0.0.1 - - [19/Jun/2020 19:10:33] \"POST /socket.io/?EIO=3&transport=polling&t=NBEsHRU&sid=92b05fb5da6e48099a1f361da14f8520 HTTP/1.1\" 200 219 0.000352\n",
      "127.0.0.1 - - [19/Jun/2020 19:10:33] \"GET /socket.io/?EIO=3&transport=polling&t=NBEsHRX&sid=92b05fb5da6e48099a1f361da14f8520 HTTP/1.1\" 200 183 0.000194\n",
      "(21810) accepted ('127.0.0.1', 58050)\n",
      "127.0.0.1 - - [19/Jun/2020 19:10:33] \"GET /socket.io/?EIO=3&transport=polling&t=NBEsHSs&sid=92b05fb5da6e48099a1f361da14f8520 HTTP/1.1\" 200 183 0.000154\n"
     ]
    },
    {
     "name": "stdout",
     "output_type": "stream",
     "text": [
      "####### parsingMessage #################### MSG.KEYS dict_keys(['type', 'name', 'uid'])\n",
      "subscribe\n",
      "subscribeData: componentLayout div_ed237270-b281-11ea-b90f-49440598359c\n",
      "data type:  <class 'dict'>\n",
      "converting py to js\n",
      "send to client: {'column': [{'row': ['Filtering', 'Neighborhood', 'Topological Spine']}, {'row': ['Parallel Coordinate', 'Scatter Plot']}]}  =>  {'data': {'column': [{'row': ['Filtering', 'Neighborhood', 'Topological Spine']}, {'row': ['Parallel Coordinate', 'Scatter Plot']}]}}\n",
      "sending to client\n",
      "####### parsingMessage #################### MSG.KEYS dict_keys(['type', 'name', 'uid'])\n",
      "####### parsingMessage #################### MSG.KEYS dict_keys(['type', 'uid', 'moduleName', 'listOfSignals'])\n",
      "add\n",
      "        addModule =>  DataModule div_13c82d80-b282-11ea-b90f-49440598359c []\n"
     ]
    },
    {
     "name": "stderr",
     "output_type": "stream",
     "text": [
      "Exception in thread Thread-9:\n",
      "Traceback (most recent call last):\n",
      "  File \"/home/emma/anaconda3/envs/testextension/lib/python3.8/threading.py\", line 932, in _bootstrap_inner\n",
      "    self.run()\n",
      "  File \"/home/emma/anaconda3/envs/testextension/lib/python3.8/threading.py\", line 870, in run\n",
      "    self._target(*self._args, **self._kwargs)\n",
      "  File \"/home/emma/anaconda3/envs/testextension/lib/python3.8/site-packages/socketio/server.py\", line 682, in _handle_event_internal\n",
      "    r = server._trigger_event(data[0], namespace, sid, *data[1:])\n",
      "  File \"/home/emma/anaconda3/envs/testextension/lib/python3.8/site-packages/socketio/server.py\", line 711, in _trigger_event\n",
      "    return self.handlers[namespace][event](*args)\n",
      "  File \"/home/emma/LLNL/nddav_nbextension/nddav_nbextension/nddavPackage.py\", line 104, in parsingMessage\n",
      "    registry.parsingMessage(msg)\n",
      "  File \"/home/emma/LLNL/nddav_nbextension/nddav_nbextension/hdanalysis/modules/ModuleUIRegistry.py\", line 65, in parsingMessage\n",
      "    self.addModule(uid, moduleName, listOfSignals)\n",
      "  File \"/home/emma/LLNL/nddav_nbextension/nddav_nbextension/hdanalysis/modules/ModuleUIRegistry.py\", line 94, in addModule\n",
      "    importlib.import_module(\"hdanalysis.modules.\"+moduleName),\n",
      "  File \"/home/emma/anaconda3/envs/testextension/lib/python3.8/importlib/__init__.py\", line 127, in import_module\n",
      "    return _bootstrap._gcd_import(name[level:], package, level)\n",
      "  File \"<frozen importlib._bootstrap>\", line 1014, in _gcd_import\n",
      "  File \"<frozen importlib._bootstrap>\", line 991, in _find_and_load\n",
      "  File \"<frozen importlib._bootstrap>\", line 961, in _find_and_load_unlocked\n",
      "  File \"<frozen importlib._bootstrap>\", line 219, in _call_with_frames_removed\n",
      "  File \"<frozen importlib._bootstrap>\", line 1014, in _gcd_import\n",
      "  File \"<frozen importlib._bootstrap>\", line 991, in _find_and_load\n",
      "  File \"<frozen importlib._bootstrap>\", line 961, in _find_and_load_unlocked\n",
      "  File \"<frozen importlib._bootstrap>\", line 219, in _call_with_frames_removed\n",
      "  File \"<frozen importlib._bootstrap>\", line 1014, in _gcd_import\n",
      "  File \"<frozen importlib._bootstrap>\", line 991, in _find_and_load\n",
      "  File \"<frozen importlib._bootstrap>\", line 973, in _find_and_load_unlocked\n",
      "ModuleNotFoundError: No module named 'hdanalysis'\n"
     ]
    },
    {
     "name": "stdout",
     "output_type": "stream",
     "text": [
      "####### parsingMessage #################### MSG.KEYS dict_keys(['type', 'uid', 'moduleName', 'listOfSignals'])\n",
      "add\n",
      "        addModule =>  NeighborhoodModule div_13ce4800-b282-11ea-b90f-49440598359c []\n"
     ]
    },
    {
     "name": "stderr",
     "output_type": "stream",
     "text": [
      "Exception in thread Thread-10:\n",
      "Traceback (most recent call last):\n",
      "  File \"/home/emma/anaconda3/envs/testextension/lib/python3.8/threading.py\", line 932, in _bootstrap_inner\n",
      "    self.run()\n",
      "  File \"/home/emma/anaconda3/envs/testextension/lib/python3.8/threading.py\", line 870, in run\n",
      "    self._target(*self._args, **self._kwargs)\n",
      "  File \"/home/emma/anaconda3/envs/testextension/lib/python3.8/site-packages/socketio/server.py\", line 682, in _handle_event_internal\n",
      "    r = server._trigger_event(data[0], namespace, sid, *data[1:])\n",
      "  File \"/home/emma/anaconda3/envs/testextension/lib/python3.8/site-packages/socketio/server.py\", line 711, in _trigger_event\n",
      "    return self.handlers[namespace][event](*args)\n",
      "  File \"/home/emma/LLNL/nddav_nbextension/nddav_nbextension/nddavPackage.py\", line 104, in parsingMessage\n",
      "    registry.parsingMessage(msg)\n",
      "  File \"/home/emma/LLNL/nddav_nbextension/nddav_nbextension/hdanalysis/modules/ModuleUIRegistry.py\", line 65, in parsingMessage\n",
      "    self.addModule(uid, moduleName, listOfSignals)\n",
      "  File \"/home/emma/LLNL/nddav_nbextension/nddav_nbextension/hdanalysis/modules/ModuleUIRegistry.py\", line 94, in addModule\n",
      "    importlib.import_module(\"hdanalysis.modules.\"+moduleName),\n",
      "  File \"/home/emma/anaconda3/envs/testextension/lib/python3.8/importlib/__init__.py\", line 127, in import_module\n",
      "    return _bootstrap._gcd_import(name[level:], package, level)\n",
      "  File \"<frozen importlib._bootstrap>\", line 1014, in _gcd_import\n",
      "  File \"<frozen importlib._bootstrap>\", line 991, in _find_and_load\n",
      "  File \"<frozen importlib._bootstrap>\", line 961, in _find_and_load_unlocked\n",
      "  File \"<frozen importlib._bootstrap>\", line 219, in _call_with_frames_removed\n",
      "  File \"<frozen importlib._bootstrap>\", line 1014, in _gcd_import\n",
      "  File \"<frozen importlib._bootstrap>\", line 991, in _find_and_load\n",
      "  File \"<frozen importlib._bootstrap>\", line 961, in _find_and_load_unlocked\n",
      "  File \"<frozen importlib._bootstrap>\", line 219, in _call_with_frames_removed\n",
      "  File \"<frozen importlib._bootstrap>\", line 1014, in _gcd_import\n",
      "  File \"<frozen importlib._bootstrap>\", line 991, in _find_and_load\n",
      "  File \"<frozen importlib._bootstrap>\", line 973, in _find_and_load_unlocked\n",
      "ModuleNotFoundError: No module named 'hdanalysis'\n"
     ]
    },
    {
     "name": "stdout",
     "output_type": "stream",
     "text": [
      "####### parsingMessage #################### MSG.KEYS dict_keys(['type', 'uid', 'function', 'parameter'])\n",
      "Call\n",
      "uid:  div_13ce4800-b282-11ea-b90f-49440598359c function:  getModuleInfoDict parameter:  {}\n"
     ]
    },
    {
     "name": "stderr",
     "output_type": "stream",
     "text": [
      "Exception in thread Thread-11:\n",
      "Traceback (most recent call last):\n",
      "  File \"/home/emma/anaconda3/envs/testextension/lib/python3.8/threading.py\", line 932, in _bootstrap_inner\n",
      "    self.run()\n",
      "  File \"/home/emma/anaconda3/envs/testextension/lib/python3.8/threading.py\", line 870, in run\n",
      "    self._target(*self._args, **self._kwargs)\n",
      "  File \"/home/emma/anaconda3/envs/testextension/lib/python3.8/site-packages/socketio/server.py\", line 682, in _handle_event_internal\n",
      "    r = server._trigger_event(data[0], namespace, sid, *data[1:])\n",
      "  File \"/home/emma/anaconda3/envs/testextension/lib/python3.8/site-packages/socketio/server.py\", line 711, in _trigger_event\n",
      "    return self.handlers[namespace][event](*args)\n",
      "  File \"/home/emma/LLNL/nddav_nbextension/nddav_nbextension/nddavPackage.py\", line 104, in parsingMessage\n",
      "    registry.parsingMessage(msg)\n",
      "  File \"/home/emma/LLNL/nddav_nbextension/nddav_nbextension/hdanalysis/modules/ModuleUIRegistry.py\", line 60, in parsingMessage\n",
      "    self.callModule(uid, function, parameter)\n",
      "  File \"/home/emma/LLNL/nddav_nbextension/nddav_nbextension/hdanalysis/modules/ModuleUIRegistry.py\", line 218, in callModule\n",
      "    func = getattr(self.uid2Module[uid],function)\n",
      "KeyError: 'div_13ce4800-b282-11ea-b90f-49440598359c'\n"
     ]
    },
    {
     "name": "stdout",
     "output_type": "stream",
     "text": [
      "####### parsingMessage #################### MSG.KEYS dict_keys(['type', 'uid', 'moduleName', 'listOfSignals'])\n",
      "add\n",
      "        addModule =>  EGModule -1 []\n"
     ]
    },
    {
     "name": "stderr",
     "output_type": "stream",
     "text": [
      "Exception in thread Thread-12:\n",
      "Traceback (most recent call last):\n",
      "  File \"/home/emma/anaconda3/envs/testextension/lib/python3.8/threading.py\", line 932, in _bootstrap_inner\n",
      "    self.run()\n",
      "  File \"/home/emma/anaconda3/envs/testextension/lib/python3.8/threading.py\", line 870, in run\n",
      "    self._target(*self._args, **self._kwargs)\n",
      "  File \"/home/emma/anaconda3/envs/testextension/lib/python3.8/site-packages/socketio/server.py\", line 682, in _handle_event_internal\n",
      "    r = server._trigger_event(data[0], namespace, sid, *data[1:])\n",
      "  File \"/home/emma/anaconda3/envs/testextension/lib/python3.8/site-packages/socketio/server.py\", line 711, in _trigger_event\n",
      "    return self.handlers[namespace][event](*args)\n",
      "  File \"/home/emma/LLNL/nddav_nbextension/nddav_nbextension/nddavPackage.py\", line 104, in parsingMessage\n",
      "    registry.parsingMessage(msg)\n",
      "  File \"/home/emma/LLNL/nddav_nbextension/nddav_nbextension/hdanalysis/modules/ModuleUIRegistry.py\", line 65, in parsingMessage\n",
      "    self.addModule(uid, moduleName, listOfSignals)\n",
      "  File \"/home/emma/LLNL/nddav_nbextension/nddav_nbextension/hdanalysis/modules/ModuleUIRegistry.py\", line 94, in addModule\n",
      "    importlib.import_module(\"hdanalysis.modules.\"+moduleName),\n",
      "  File \"/home/emma/anaconda3/envs/testextension/lib/python3.8/importlib/__init__.py\", line 127, in import_module\n",
      "    return _bootstrap._gcd_import(name[level:], package, level)\n",
      "  File \"<frozen importlib._bootstrap>\", line 1014, in _gcd_import\n",
      "  File \"<frozen importlib._bootstrap>\", line 991, in _find_and_load\n",
      "  File \"<frozen importlib._bootstrap>\", line 961, in _find_and_load_unlocked\n",
      "  File \"<frozen importlib._bootstrap>\", line 219, in _call_with_frames_removed\n",
      "  File \"<frozen importlib._bootstrap>\", line 1014, in _gcd_import\n",
      "  File \"<frozen importlib._bootstrap>\", line 991, in _find_and_load\n",
      "  File \"<frozen importlib._bootstrap>\", line 961, in _find_and_load_unlocked\n",
      "  File \"<frozen importlib._bootstrap>\", line 219, in _call_with_frames_removed\n",
      "  File \"<frozen importlib._bootstrap>\", line 1014, in _gcd_import\n",
      "  File \"<frozen importlib._bootstrap>\", line 991, in _find_and_load\n",
      "  File \"<frozen importlib._bootstrap>\", line 973, in _find_and_load_unlocked\n",
      "ModuleNotFoundError: No module named 'hdanalysis'\n"
     ]
    },
    {
     "name": "stdout",
     "output_type": "stream",
     "text": [
      "####### parsingMessage #################### MSG.KEYS dict_keys(['type', 'uid', 'moduleName', 'listOfSignals'])\n",
      "add\n",
      "        addModule =>  TopospineModule div_13cf3260-b282-11ea-b90f-49440598359c ['EGgraph', 'subselection', 'selectExt', 'brushedrange']\n"
     ]
    },
    {
     "name": "stderr",
     "output_type": "stream",
     "text": [
      "Exception in thread Thread-13:\n",
      "Traceback (most recent call last):\n",
      "  File \"/home/emma/anaconda3/envs/testextension/lib/python3.8/threading.py\", line 932, in _bootstrap_inner\n",
      "    self.run()\n",
      "  File \"/home/emma/anaconda3/envs/testextension/lib/python3.8/threading.py\", line 870, in run\n",
      "    self._target(*self._args, **self._kwargs)\n",
      "  File \"/home/emma/anaconda3/envs/testextension/lib/python3.8/site-packages/socketio/server.py\", line 682, in _handle_event_internal\n",
      "    r = server._trigger_event(data[0], namespace, sid, *data[1:])\n",
      "  File \"/home/emma/anaconda3/envs/testextension/lib/python3.8/site-packages/socketio/server.py\", line 711, in _trigger_event\n",
      "    return self.handlers[namespace][event](*args)\n",
      "  File \"/home/emma/LLNL/nddav_nbextension/nddav_nbextension/nddavPackage.py\", line 104, in parsingMessage\n",
      "    registry.parsingMessage(msg)\n",
      "  File \"/home/emma/LLNL/nddav_nbextension/nddav_nbextension/hdanalysis/modules/ModuleUIRegistry.py\", line 65, in parsingMessage\n",
      "    self.addModule(uid, moduleName, listOfSignals)\n",
      "  File \"/home/emma/LLNL/nddav_nbextension/nddav_nbextension/hdanalysis/modules/ModuleUIRegistry.py\", line 94, in addModule\n",
      "    importlib.import_module(\"hdanalysis.modules.\"+moduleName),\n",
      "  File \"/home/emma/anaconda3/envs/testextension/lib/python3.8/importlib/__init__.py\", line 127, in import_module\n",
      "    return _bootstrap._gcd_import(name[level:], package, level)\n",
      "  File \"<frozen importlib._bootstrap>\", line 1014, in _gcd_import\n",
      "  File \"<frozen importlib._bootstrap>\", line 991, in _find_and_load\n",
      "  File \"<frozen importlib._bootstrap>\", line 961, in _find_and_load_unlocked\n",
      "  File \"<frozen importlib._bootstrap>\", line 219, in _call_with_frames_removed\n",
      "  File \"<frozen importlib._bootstrap>\", line 1014, in _gcd_import\n",
      "  File \"<frozen importlib._bootstrap>\", line 991, in _find_and_load\n",
      "  File \"<frozen importlib._bootstrap>\", line 961, in _find_and_load_unlocked\n",
      "  File \"<frozen importlib._bootstrap>\", line 219, in _call_with_frames_removed\n",
      "  File \"<frozen importlib._bootstrap>\", line 1014, in _gcd_import\n",
      "  File \"<frozen importlib._bootstrap>\", line 991, in _find_and_load\n",
      "  File \"<frozen importlib._bootstrap>\", line 973, in _find_and_load_unlocked\n",
      "ModuleNotFoundError: No module named 'hdanalysis'\n"
     ]
    },
    {
     "name": "stdout",
     "output_type": "stream",
     "text": [
      "####### parsingMessage #################### MSG.KEYS dict_keys(['type', 'uid', 'moduleName', 'listOfSignals'])\n",
      "add\n",
      "        addModule =>  PlotModule div_13d1f180-b282-11ea-b90f-49440598359c ['data', 'subselection']\n"
     ]
    },
    {
     "name": "stderr",
     "output_type": "stream",
     "text": [
      "Exception in thread Thread-14:\n",
      "Traceback (most recent call last):\n",
      "  File \"/home/emma/anaconda3/envs/testextension/lib/python3.8/threading.py\", line 932, in _bootstrap_inner\n",
      "    self.run()\n",
      "  File \"/home/emma/anaconda3/envs/testextension/lib/python3.8/threading.py\", line 870, in run\n",
      "    self._target(*self._args, **self._kwargs)\n",
      "  File \"/home/emma/anaconda3/envs/testextension/lib/python3.8/site-packages/socketio/server.py\", line 682, in _handle_event_internal\n",
      "    r = server._trigger_event(data[0], namespace, sid, *data[1:])\n",
      "  File \"/home/emma/anaconda3/envs/testextension/lib/python3.8/site-packages/socketio/server.py\", line 711, in _trigger_event\n",
      "    return self.handlers[namespace][event](*args)\n",
      "  File \"/home/emma/LLNL/nddav_nbextension/nddav_nbextension/nddavPackage.py\", line 104, in parsingMessage\n",
      "    registry.parsingMessage(msg)\n",
      "  File \"/home/emma/LLNL/nddav_nbextension/nddav_nbextension/hdanalysis/modules/ModuleUIRegistry.py\", line 65, in parsingMessage\n",
      "    self.addModule(uid, moduleName, listOfSignals)\n",
      "  File \"/home/emma/LLNL/nddav_nbextension/nddav_nbextension/hdanalysis/modules/ModuleUIRegistry.py\", line 94, in addModule\n",
      "    importlib.import_module(\"hdanalysis.modules.\"+moduleName),\n",
      "  File \"/home/emma/anaconda3/envs/testextension/lib/python3.8/importlib/__init__.py\", line 127, in import_module\n",
      "    return _bootstrap._gcd_import(name[level:], package, level)\n",
      "  File \"<frozen importlib._bootstrap>\", line 1014, in _gcd_import\n",
      "  File \"<frozen importlib._bootstrap>\", line 991, in _find_and_load\n",
      "  File \"<frozen importlib._bootstrap>\", line 961, in _find_and_load_unlocked\n",
      "  File \"<frozen importlib._bootstrap>\", line 219, in _call_with_frames_removed\n",
      "  File \"<frozen importlib._bootstrap>\", line 1014, in _gcd_import\n",
      "  File \"<frozen importlib._bootstrap>\", line 991, in _find_and_load\n",
      "  File \"<frozen importlib._bootstrap>\", line 961, in _find_and_load_unlocked\n",
      "  File \"<frozen importlib._bootstrap>\", line 219, in _call_with_frames_removed\n",
      "  File \"<frozen importlib._bootstrap>\", line 1014, in _gcd_import\n",
      "  File \"<frozen importlib._bootstrap>\", line 991, in _find_and_load\n",
      "  File \"<frozen importlib._bootstrap>\", line 973, in _find_and_load_unlocked\n",
      "ModuleNotFoundError: No module named 'hdanalysis'\n"
     ]
    },
    {
     "name": "stdout",
     "output_type": "stream",
     "text": [
      "####### parsingMessage #################### MSG.KEYS dict_keys(['type', 'uid', 'moduleName', 'listOfSignals'])\n",
      "add\n",
      "        addModule =>  PlotModule div_13d266b0-b282-11ea-b90f-49440598359c ['data', 'subselection', 'seg', 'embedding']\n"
     ]
    },
    {
     "name": "stderr",
     "output_type": "stream",
     "text": [
      "Exception in thread Thread-15:\n",
      "Traceback (most recent call last):\n",
      "  File \"/home/emma/anaconda3/envs/testextension/lib/python3.8/threading.py\", line 932, in _bootstrap_inner\n",
      "    self.run()\n",
      "  File \"/home/emma/anaconda3/envs/testextension/lib/python3.8/threading.py\", line 870, in run\n",
      "    self._target(*self._args, **self._kwargs)\n",
      "  File \"/home/emma/anaconda3/envs/testextension/lib/python3.8/site-packages/socketio/server.py\", line 682, in _handle_event_internal\n",
      "    r = server._trigger_event(data[0], namespace, sid, *data[1:])\n",
      "  File \"/home/emma/anaconda3/envs/testextension/lib/python3.8/site-packages/socketio/server.py\", line 711, in _trigger_event\n",
      "    return self.handlers[namespace][event](*args)\n",
      "  File \"/home/emma/LLNL/nddav_nbextension/nddav_nbextension/nddavPackage.py\", line 104, in parsingMessage\n",
      "    registry.parsingMessage(msg)\n",
      "  File \"/home/emma/LLNL/nddav_nbextension/nddav_nbextension/hdanalysis/modules/ModuleUIRegistry.py\", line 65, in parsingMessage\n",
      "    self.addModule(uid, moduleName, listOfSignals)\n",
      "  File \"/home/emma/LLNL/nddav_nbextension/nddav_nbextension/hdanalysis/modules/ModuleUIRegistry.py\", line 94, in addModule\n",
      "    importlib.import_module(\"hdanalysis.modules.\"+moduleName),\n",
      "  File \"/home/emma/anaconda3/envs/testextension/lib/python3.8/importlib/__init__.py\", line 127, in import_module\n",
      "    return _bootstrap._gcd_import(name[level:], package, level)\n",
      "  File \"<frozen importlib._bootstrap>\", line 1014, in _gcd_import\n",
      "  File \"<frozen importlib._bootstrap>\", line 991, in _find_and_load\n",
      "  File \"<frozen importlib._bootstrap>\", line 961, in _find_and_load_unlocked\n",
      "  File \"<frozen importlib._bootstrap>\", line 219, in _call_with_frames_removed\n",
      "  File \"<frozen importlib._bootstrap>\", line 1014, in _gcd_import\n",
      "  File \"<frozen importlib._bootstrap>\", line 991, in _find_and_load\n",
      "  File \"<frozen importlib._bootstrap>\", line 961, in _find_and_load_unlocked\n",
      "  File \"<frozen importlib._bootstrap>\", line 219, in _call_with_frames_removed\n",
      "  File \"<frozen importlib._bootstrap>\", line 1014, in _gcd_import\n",
      "  File \"<frozen importlib._bootstrap>\", line 991, in _find_and_load\n",
      "  File \"<frozen importlib._bootstrap>\", line 973, in _find_and_load_unlocked\n",
      "ModuleNotFoundError: No module named 'hdanalysis'\n"
     ]
    },
    {
     "name": "stdout",
     "output_type": "stream",
     "text": [
      "\n",
      "\n",
      "!!!!!!!!! socketIO disconnected !!!!!!!!\n",
      "\n",
      " 92b05fb5da6e48099a1f361da14f8520\n"
     ]
    },
    {
     "name": "stderr",
     "output_type": "stream",
     "text": [
      "127.0.0.1 - - [19/Jun/2020 19:10:39] \"GET /socket.io/?EIO=3&transport=websocket&sid=92b05fb5da6e48099a1f361da14f8520 HTTP/1.1\" 200 0 6.164696\n",
      "127.0.0.1 - - [19/Jun/2020 19:10:39] \"GET /static/plots/basePlot.js HTTP/1.1\" 200 1212 0.000809\n",
      "(21810) accepted ('127.0.0.1', 58636)\n",
      "127.0.0.1 - - [19/Jun/2020 19:10:39] \"GET /static/plots/peelingPlot.js HTTP/1.1\" 200 406 0.000628\n",
      "127.0.0.1 - - [19/Jun/2020 19:10:39] \"GET /socket.io/?EIO=3&transport=polling&t=NBEsJ2Q HTTP/1.1\" 200 355 0.000309\n",
      "(21810) accepted ('127.0.0.1', 58646)\n",
      "127.0.0.1 - - [19/Jun/2020 19:10:39] \"GET /socket.io/?EIO=3&transport=polling&t=NBEsJ3N&sid=c05de87b4d6a4a1597ea828b114cc2cd HTTP/1.1\" 200 183 0.000128\n",
      "127.0.0.1 - - [19/Jun/2020 19:10:39] \"POST /socket.io/?EIO=3&transport=polling&t=NBEsJ3L&sid=c05de87b4d6a4a1597ea828b114cc2cd HTTP/1.1\" 200 219 0.000253\n",
      "127.0.0.1 - - [19/Jun/2020 19:10:39] \"GET /socket.io/?EIO=3&transport=polling&t=NBEsJ4M&sid=c05de87b4d6a4a1597ea828b114cc2cd HTTP/1.1\" 200 183 0.000154\n"
     ]
    },
    {
     "name": "stdout",
     "output_type": "stream",
     "text": [
      "####### parsingMessage #################### MSG.KEYS dict_keys(['type', 'name', 'uid'])\n",
      "subscribe\n",
      "subscribeData: componentLayout div_177be6b0-b282-11ea-b0ce-370892410d1c\n",
      "data type:  <class 'dict'>\n",
      "converting py to js\n",
      "send to client: {'column': [{'row': ['Filtering', 'Neighborhood', 'Topological Spine']}, {'row': ['Parallel Coordinate', 'Scatter Plot']}]}  =>  {'data': {'column': [{'row': ['Filtering', 'Neighborhood', 'Topological Spine']}, {'row': ['Parallel Coordinate', 'Scatter Plot']}]}}\n",
      "sending to client\n",
      "####### parsingMessage #################### MSG.KEYS dict_keys(['type', 'name', 'uid'])\n",
      "####### parsingMessage #################### MSG.KEYS dict_keys(['type', 'uid', 'moduleName', 'listOfSignals'])\n",
      "add\n",
      "        addModule =>  DataModule div_17a5b5d0-b282-11ea-b0ce-370892410d1c []\n"
     ]
    },
    {
     "name": "stderr",
     "output_type": "stream",
     "text": [
      "Exception in thread Thread-19:\n",
      "Traceback (most recent call last):\n",
      "  File \"/home/emma/anaconda3/envs/testextension/lib/python3.8/threading.py\", line 932, in _bootstrap_inner\n",
      "    self.run()\n",
      "  File \"/home/emma/anaconda3/envs/testextension/lib/python3.8/threading.py\", line 870, in run\n",
      "    self._target(*self._args, **self._kwargs)\n",
      "  File \"/home/emma/anaconda3/envs/testextension/lib/python3.8/site-packages/socketio/server.py\", line 682, in _handle_event_internal\n",
      "    r = server._trigger_event(data[0], namespace, sid, *data[1:])\n",
      "  File \"/home/emma/anaconda3/envs/testextension/lib/python3.8/site-packages/socketio/server.py\", line 711, in _trigger_event\n",
      "    return self.handlers[namespace][event](*args)\n",
      "  File \"/home/emma/LLNL/nddav_nbextension/nddav_nbextension/nddavPackage.py\", line 104, in parsingMessage\n",
      "    registry.parsingMessage(msg)\n",
      "  File \"/home/emma/LLNL/nddav_nbextension/nddav_nbextension/hdanalysis/modules/ModuleUIRegistry.py\", line 65, in parsingMessage\n",
      "    self.addModule(uid, moduleName, listOfSignals)\n",
      "  File \"/home/emma/LLNL/nddav_nbextension/nddav_nbextension/hdanalysis/modules/ModuleUIRegistry.py\", line 94, in addModule\n",
      "    importlib.import_module(\"hdanalysis.modules.\"+moduleName),\n",
      "  File \"/home/emma/anaconda3/envs/testextension/lib/python3.8/importlib/__init__.py\", line 127, in import_module\n",
      "    return _bootstrap._gcd_import(name[level:], package, level)\n",
      "  File \"<frozen importlib._bootstrap>\", line 1014, in _gcd_import\n",
      "  File \"<frozen importlib._bootstrap>\", line 991, in _find_and_load\n",
      "  File \"<frozen importlib._bootstrap>\", line 961, in _find_and_load_unlocked\n",
      "  File \"<frozen importlib._bootstrap>\", line 219, in _call_with_frames_removed\n",
      "  File \"<frozen importlib._bootstrap>\", line 1014, in _gcd_import\n",
      "  File \"<frozen importlib._bootstrap>\", line 991, in _find_and_load\n",
      "  File \"<frozen importlib._bootstrap>\", line 961, in _find_and_load_unlocked\n",
      "  File \"<frozen importlib._bootstrap>\", line 219, in _call_with_frames_removed\n",
      "  File \"<frozen importlib._bootstrap>\", line 1014, in _gcd_import\n",
      "  File \"<frozen importlib._bootstrap>\", line 991, in _find_and_load\n",
      "  File \"<frozen importlib._bootstrap>\", line 973, in _find_and_load_unlocked\n",
      "ModuleNotFoundError: No module named 'hdanalysis'\n"
     ]
    },
    {
     "name": "stdout",
     "output_type": "stream",
     "text": [
      "####### parsingMessage #################### MSG.KEYS dict_keys(['type', 'uid', 'moduleName', 'listOfSignals'])\n",
      "add\n",
      "        addModule =>  NeighborhoodModule div_17a84de0-b282-11ea-b0ce-370892410d1c []\n"
     ]
    },
    {
     "name": "stderr",
     "output_type": "stream",
     "text": [
      "Exception in thread Thread-20:\n",
      "Traceback (most recent call last):\n",
      "  File \"/home/emma/anaconda3/envs/testextension/lib/python3.8/threading.py\", line 932, in _bootstrap_inner\n",
      "    self.run()\n",
      "  File \"/home/emma/anaconda3/envs/testextension/lib/python3.8/threading.py\", line 870, in run\n",
      "    self._target(*self._args, **self._kwargs)\n",
      "  File \"/home/emma/anaconda3/envs/testextension/lib/python3.8/site-packages/socketio/server.py\", line 682, in _handle_event_internal\n",
      "    r = server._trigger_event(data[0], namespace, sid, *data[1:])\n",
      "  File \"/home/emma/anaconda3/envs/testextension/lib/python3.8/site-packages/socketio/server.py\", line 711, in _trigger_event\n",
      "    return self.handlers[namespace][event](*args)\n",
      "  File \"/home/emma/LLNL/nddav_nbextension/nddav_nbextension/nddavPackage.py\", line 104, in parsingMessage\n",
      "    registry.parsingMessage(msg)\n",
      "  File \"/home/emma/LLNL/nddav_nbextension/nddav_nbextension/hdanalysis/modules/ModuleUIRegistry.py\", line 65, in parsingMessage\n",
      "    self.addModule(uid, moduleName, listOfSignals)\n",
      "  File \"/home/emma/LLNL/nddav_nbextension/nddav_nbextension/hdanalysis/modules/ModuleUIRegistry.py\", line 94, in addModule\n",
      "    importlib.import_module(\"hdanalysis.modules.\"+moduleName),\n",
      "  File \"/home/emma/anaconda3/envs/testextension/lib/python3.8/importlib/__init__.py\", line 127, in import_module\n",
      "    return _bootstrap._gcd_import(name[level:], package, level)\n",
      "  File \"<frozen importlib._bootstrap>\", line 1014, in _gcd_import\n",
      "  File \"<frozen importlib._bootstrap>\", line 991, in _find_and_load\n",
      "  File \"<frozen importlib._bootstrap>\", line 961, in _find_and_load_unlocked\n",
      "  File \"<frozen importlib._bootstrap>\", line 219, in _call_with_frames_removed\n",
      "  File \"<frozen importlib._bootstrap>\", line 1014, in _gcd_import\n",
      "  File \"<frozen importlib._bootstrap>\", line 991, in _find_and_load\n",
      "  File \"<frozen importlib._bootstrap>\", line 961, in _find_and_load_unlocked\n",
      "  File \"<frozen importlib._bootstrap>\", line 219, in _call_with_frames_removed\n",
      "  File \"<frozen importlib._bootstrap>\", line 1014, in _gcd_import\n",
      "  File \"<frozen importlib._bootstrap>\", line 991, in _find_and_load\n",
      "  File \"<frozen importlib._bootstrap>\", line 973, in _find_and_load_unlocked\n",
      "ModuleNotFoundError: No module named 'hdanalysis'\n"
     ]
    },
    {
     "name": "stdout",
     "output_type": "stream",
     "text": [
      "####### parsingMessage #################### MSG.KEYS dict_keys(['type', 'uid', 'function', 'parameter'])\n",
      "Call\n",
      "uid:  div_17a84de0-b282-11ea-b0ce-370892410d1c function:  getModuleInfoDict parameter:  {}\n"
     ]
    },
    {
     "name": "stderr",
     "output_type": "stream",
     "text": [
      "Exception in thread Thread-21:\n",
      "Traceback (most recent call last):\n",
      "  File \"/home/emma/anaconda3/envs/testextension/lib/python3.8/threading.py\", line 932, in _bootstrap_inner\n",
      "    self.run()\n",
      "  File \"/home/emma/anaconda3/envs/testextension/lib/python3.8/threading.py\", line 870, in run\n",
      "    self._target(*self._args, **self._kwargs)\n",
      "  File \"/home/emma/anaconda3/envs/testextension/lib/python3.8/site-packages/socketio/server.py\", line 682, in _handle_event_internal\n",
      "    r = server._trigger_event(data[0], namespace, sid, *data[1:])\n",
      "  File \"/home/emma/anaconda3/envs/testextension/lib/python3.8/site-packages/socketio/server.py\", line 711, in _trigger_event\n",
      "    return self.handlers[namespace][event](*args)\n",
      "  File \"/home/emma/LLNL/nddav_nbextension/nddav_nbextension/nddavPackage.py\", line 104, in parsingMessage\n",
      "    registry.parsingMessage(msg)\n",
      "  File \"/home/emma/LLNL/nddav_nbextension/nddav_nbextension/hdanalysis/modules/ModuleUIRegistry.py\", line 60, in parsingMessage\n",
      "    self.callModule(uid, function, parameter)\n",
      "  File \"/home/emma/LLNL/nddav_nbextension/nddav_nbextension/hdanalysis/modules/ModuleUIRegistry.py\", line 218, in callModule\n",
      "    func = getattr(self.uid2Module[uid],function)\n",
      "KeyError: 'div_17a84de0-b282-11ea-b0ce-370892410d1c'\n"
     ]
    },
    {
     "name": "stdout",
     "output_type": "stream",
     "text": [
      "####### parsingMessage #################### MSG.KEYS dict_keys(['type', 'uid', 'moduleName', 'listOfSignals'])\n",
      "add\n",
      "        addModule =>  EGModule -1 []\n"
     ]
    },
    {
     "name": "stderr",
     "output_type": "stream",
     "text": [
      "Exception in thread Thread-22:\n",
      "Traceback (most recent call last):\n",
      "  File \"/home/emma/anaconda3/envs/testextension/lib/python3.8/threading.py\", line 932, in _bootstrap_inner\n",
      "    self.run()\n",
      "  File \"/home/emma/anaconda3/envs/testextension/lib/python3.8/threading.py\", line 870, in run\n",
      "    self._target(*self._args, **self._kwargs)\n",
      "  File \"/home/emma/anaconda3/envs/testextension/lib/python3.8/site-packages/socketio/server.py\", line 682, in _handle_event_internal\n",
      "    r = server._trigger_event(data[0], namespace, sid, *data[1:])\n",
      "  File \"/home/emma/anaconda3/envs/testextension/lib/python3.8/site-packages/socketio/server.py\", line 711, in _trigger_event\n",
      "    return self.handlers[namespace][event](*args)\n",
      "  File \"/home/emma/LLNL/nddav_nbextension/nddav_nbextension/nddavPackage.py\", line 104, in parsingMessage\n",
      "    registry.parsingMessage(msg)\n",
      "  File \"/home/emma/LLNL/nddav_nbextension/nddav_nbextension/hdanalysis/modules/ModuleUIRegistry.py\", line 65, in parsingMessage\n",
      "    self.addModule(uid, moduleName, listOfSignals)\n",
      "  File \"/home/emma/LLNL/nddav_nbextension/nddav_nbextension/hdanalysis/modules/ModuleUIRegistry.py\", line 94, in addModule\n",
      "    importlib.import_module(\"hdanalysis.modules.\"+moduleName),\n",
      "  File \"/home/emma/anaconda3/envs/testextension/lib/python3.8/importlib/__init__.py\", line 127, in import_module\n",
      "    return _bootstrap._gcd_import(name[level:], package, level)\n",
      "  File \"<frozen importlib._bootstrap>\", line 1014, in _gcd_import\n",
      "  File \"<frozen importlib._bootstrap>\", line 991, in _find_and_load\n",
      "  File \"<frozen importlib._bootstrap>\", line 961, in _find_and_load_unlocked\n",
      "  File \"<frozen importlib._bootstrap>\", line 219, in _call_with_frames_removed\n",
      "  File \"<frozen importlib._bootstrap>\", line 1014, in _gcd_import\n",
      "  File \"<frozen importlib._bootstrap>\", line 991, in _find_and_load\n",
      "  File \"<frozen importlib._bootstrap>\", line 961, in _find_and_load_unlocked\n",
      "  File \"<frozen importlib._bootstrap>\", line 219, in _call_with_frames_removed\n",
      "  File \"<frozen importlib._bootstrap>\", line 1014, in _gcd_import\n",
      "  File \"<frozen importlib._bootstrap>\", line 991, in _find_and_load\n",
      "  File \"<frozen importlib._bootstrap>\", line 973, in _find_and_load_unlocked\n",
      "ModuleNotFoundError: No module named 'hdanalysis'\n"
     ]
    },
    {
     "name": "stdout",
     "output_type": "stream",
     "text": [
      "####### parsingMessage #################### MSG.KEYS dict_keys(['type', 'uid', 'moduleName', 'listOfSignals'])\n",
      "add\n",
      "        addModule =>  TopospineModule div_17a9ad70-b282-11ea-b0ce-370892410d1c ['EGgraph', 'subselection', 'selectExt', 'brushedrange']\n"
     ]
    },
    {
     "name": "stderr",
     "output_type": "stream",
     "text": [
      "Exception in thread Thread-23:\n",
      "Traceback (most recent call last):\n",
      "  File \"/home/emma/anaconda3/envs/testextension/lib/python3.8/threading.py\", line 932, in _bootstrap_inner\n",
      "    self.run()\n",
      "  File \"/home/emma/anaconda3/envs/testextension/lib/python3.8/threading.py\", line 870, in run\n",
      "    self._target(*self._args, **self._kwargs)\n",
      "  File \"/home/emma/anaconda3/envs/testextension/lib/python3.8/site-packages/socketio/server.py\", line 682, in _handle_event_internal\n",
      "    r = server._trigger_event(data[0], namespace, sid, *data[1:])\n",
      "  File \"/home/emma/anaconda3/envs/testextension/lib/python3.8/site-packages/socketio/server.py\", line 711, in _trigger_event\n",
      "    return self.handlers[namespace][event](*args)\n",
      "  File \"/home/emma/LLNL/nddav_nbextension/nddav_nbextension/nddavPackage.py\", line 104, in parsingMessage\n",
      "    registry.parsingMessage(msg)\n",
      "  File \"/home/emma/LLNL/nddav_nbextension/nddav_nbextension/hdanalysis/modules/ModuleUIRegistry.py\", line 65, in parsingMessage\n",
      "    self.addModule(uid, moduleName, listOfSignals)\n",
      "  File \"/home/emma/LLNL/nddav_nbextension/nddav_nbextension/hdanalysis/modules/ModuleUIRegistry.py\", line 94, in addModule\n",
      "    importlib.import_module(\"hdanalysis.modules.\"+moduleName),\n",
      "  File \"/home/emma/anaconda3/envs/testextension/lib/python3.8/importlib/__init__.py\", line 127, in import_module\n",
      "    return _bootstrap._gcd_import(name[level:], package, level)\n",
      "  File \"<frozen importlib._bootstrap>\", line 1014, in _gcd_import\n",
      "  File \"<frozen importlib._bootstrap>\", line 991, in _find_and_load\n",
      "  File \"<frozen importlib._bootstrap>\", line 961, in _find_and_load_unlocked\n",
      "  File \"<frozen importlib._bootstrap>\", line 219, in _call_with_frames_removed\n",
      "  File \"<frozen importlib._bootstrap>\", line 1014, in _gcd_import\n",
      "  File \"<frozen importlib._bootstrap>\", line 991, in _find_and_load\n",
      "  File \"<frozen importlib._bootstrap>\", line 961, in _find_and_load_unlocked\n",
      "  File \"<frozen importlib._bootstrap>\", line 219, in _call_with_frames_removed\n",
      "  File \"<frozen importlib._bootstrap>\", line 1014, in _gcd_import\n",
      "  File \"<frozen importlib._bootstrap>\", line 991, in _find_and_load\n",
      "  File \"<frozen importlib._bootstrap>\", line 973, in _find_and_load_unlocked\n",
      "ModuleNotFoundError: No module named 'hdanalysis'\n"
     ]
    },
    {
     "name": "stdout",
     "output_type": "stream",
     "text": [
      "####### parsingMessage #################### MSG.KEYS dict_keys(['type', 'uid', 'moduleName', 'listOfSignals'])\n",
      "add\n",
      "        addModule =>  PlotModule div_17aa49b0-b282-11ea-b0ce-370892410d1c ['data', 'subselection']\n"
     ]
    },
    {
     "name": "stderr",
     "output_type": "stream",
     "text": [
      "Exception in thread Thread-24:\n",
      "Traceback (most recent call last):\n",
      "  File \"/home/emma/anaconda3/envs/testextension/lib/python3.8/threading.py\", line 932, in _bootstrap_inner\n",
      "    self.run()\n",
      "  File \"/home/emma/anaconda3/envs/testextension/lib/python3.8/threading.py\", line 870, in run\n",
      "    self._target(*self._args, **self._kwargs)\n",
      "  File \"/home/emma/anaconda3/envs/testextension/lib/python3.8/site-packages/socketio/server.py\", line 682, in _handle_event_internal\n",
      "    r = server._trigger_event(data[0], namespace, sid, *data[1:])\n",
      "  File \"/home/emma/anaconda3/envs/testextension/lib/python3.8/site-packages/socketio/server.py\", line 711, in _trigger_event\n",
      "    return self.handlers[namespace][event](*args)\n",
      "  File \"/home/emma/LLNL/nddav_nbextension/nddav_nbextension/nddavPackage.py\", line 104, in parsingMessage\n",
      "    registry.parsingMessage(msg)\n",
      "  File \"/home/emma/LLNL/nddav_nbextension/nddav_nbextension/hdanalysis/modules/ModuleUIRegistry.py\", line 65, in parsingMessage\n",
      "    self.addModule(uid, moduleName, listOfSignals)\n",
      "  File \"/home/emma/LLNL/nddav_nbextension/nddav_nbextension/hdanalysis/modules/ModuleUIRegistry.py\", line 94, in addModule\n",
      "    importlib.import_module(\"hdanalysis.modules.\"+moduleName),\n",
      "  File \"/home/emma/anaconda3/envs/testextension/lib/python3.8/importlib/__init__.py\", line 127, in import_module\n",
      "    return _bootstrap._gcd_import(name[level:], package, level)\n",
      "  File \"<frozen importlib._bootstrap>\", line 1014, in _gcd_import\n",
      "  File \"<frozen importlib._bootstrap>\", line 991, in _find_and_load\n",
      "  File \"<frozen importlib._bootstrap>\", line 961, in _find_and_load_unlocked\n",
      "  File \"<frozen importlib._bootstrap>\", line 219, in _call_with_frames_removed\n",
      "  File \"<frozen importlib._bootstrap>\", line 1014, in _gcd_import\n",
      "  File \"<frozen importlib._bootstrap>\", line 991, in _find_and_load\n",
      "  File \"<frozen importlib._bootstrap>\", line 961, in _find_and_load_unlocked\n",
      "  File \"<frozen importlib._bootstrap>\", line 219, in _call_with_frames_removed\n",
      "  File \"<frozen importlib._bootstrap>\", line 1014, in _gcd_import\n",
      "  File \"<frozen importlib._bootstrap>\", line 991, in _find_and_load\n",
      "  File \"<frozen importlib._bootstrap>\", line 973, in _find_and_load_unlocked\n",
      "ModuleNotFoundError: No module named 'hdanalysis'\n"
     ]
    },
    {
     "name": "stdout",
     "output_type": "stream",
     "text": [
      "####### parsingMessage #################### MSG.KEYS dict_keys(['type', 'uid', 'moduleName', 'listOfSignals'])\n",
      "add\n",
      "        addModule =>  PlotModule div_17aa97d0-b282-11ea-b0ce-370892410d1c ['data', 'subselection', 'seg', 'embedding']\n"
     ]
    },
    {
     "name": "stderr",
     "output_type": "stream",
     "text": [
      "Exception in thread Thread-25:\n",
      "Traceback (most recent call last):\n",
      "  File \"/home/emma/anaconda3/envs/testextension/lib/python3.8/threading.py\", line 932, in _bootstrap_inner\n",
      "    self.run()\n",
      "  File \"/home/emma/anaconda3/envs/testextension/lib/python3.8/threading.py\", line 870, in run\n",
      "    self._target(*self._args, **self._kwargs)\n",
      "  File \"/home/emma/anaconda3/envs/testextension/lib/python3.8/site-packages/socketio/server.py\", line 682, in _handle_event_internal\n",
      "    r = server._trigger_event(data[0], namespace, sid, *data[1:])\n",
      "  File \"/home/emma/anaconda3/envs/testextension/lib/python3.8/site-packages/socketio/server.py\", line 711, in _trigger_event\n",
      "    return self.handlers[namespace][event](*args)\n",
      "  File \"/home/emma/LLNL/nddav_nbextension/nddav_nbextension/nddavPackage.py\", line 104, in parsingMessage\n",
      "    registry.parsingMessage(msg)\n",
      "  File \"/home/emma/LLNL/nddav_nbextension/nddav_nbextension/hdanalysis/modules/ModuleUIRegistry.py\", line 65, in parsingMessage\n",
      "    self.addModule(uid, moduleName, listOfSignals)\n",
      "  File \"/home/emma/LLNL/nddav_nbextension/nddav_nbextension/hdanalysis/modules/ModuleUIRegistry.py\", line 94, in addModule\n",
      "    importlib.import_module(\"hdanalysis.modules.\"+moduleName),\n",
      "  File \"/home/emma/anaconda3/envs/testextension/lib/python3.8/importlib/__init__.py\", line 127, in import_module\n",
      "    return _bootstrap._gcd_import(name[level:], package, level)\n",
      "  File \"<frozen importlib._bootstrap>\", line 1014, in _gcd_import\n",
      "  File \"<frozen importlib._bootstrap>\", line 991, in _find_and_load\n",
      "  File \"<frozen importlib._bootstrap>\", line 961, in _find_and_load_unlocked\n",
      "  File \"<frozen importlib._bootstrap>\", line 219, in _call_with_frames_removed\n",
      "  File \"<frozen importlib._bootstrap>\", line 1014, in _gcd_import\n",
      "  File \"<frozen importlib._bootstrap>\", line 991, in _find_and_load\n",
      "  File \"<frozen importlib._bootstrap>\", line 961, in _find_and_load_unlocked\n",
      "  File \"<frozen importlib._bootstrap>\", line 219, in _call_with_frames_removed\n",
      "  File \"<frozen importlib._bootstrap>\", line 1014, in _gcd_import\n",
      "  File \"<frozen importlib._bootstrap>\", line 991, in _find_and_load\n",
      "  File \"<frozen importlib._bootstrap>\", line 973, in _find_and_load_unlocked\n",
      "ModuleNotFoundError: No module named 'hdanalysis'\n"
     ]
    },
    {
     "name": "stdout",
     "output_type": "stream",
     "text": [
      "\n",
      "\n",
      "!!!!!!!!! socketIO disconnected !!!!!!!!\n",
      "\n",
      " c05de87b4d6a4a1597ea828b114cc2cd\n"
     ]
    },
    {
     "name": "stderr",
     "output_type": "stream",
     "text": [
      "127.0.0.1 - - [19/Jun/2020 19:10:51] \"GET /socket.io/?EIO=3&transport=websocket&sid=c05de87b4d6a4a1597ea828b114cc2cd HTTP/1.1\" 200 0 11.384478\n",
      "127.0.0.1 - - [19/Jun/2020 19:10:51] \"GET /socket.io/?EIO=3&transport=polling&t=NBEsLyv HTTP/1.1\" 200 355 0.000264\n",
      "(21810) accepted ('127.0.0.1', 59236)\n",
      "127.0.0.1 - - [19/Jun/2020 19:10:51] \"GET /socket.io/?EIO=3&transport=polling&t=NBEsLzi&sid=6668caf351c54ab49d96e26e822c2d61 HTTP/1.1\" 200 183 0.000192\n",
      "127.0.0.1 - - [19/Jun/2020 19:10:51] \"POST /socket.io/?EIO=3&transport=polling&t=NBEsLzg&sid=6668caf351c54ab49d96e26e822c2d61 HTTP/1.1\" 200 219 0.000381\n",
      "127.0.0.1 - - [19/Jun/2020 19:10:51] \"GET /socket.io/?EIO=3&transport=polling&t=NBEsL_K&sid=6668caf351c54ab49d96e26e822c2d61 HTTP/1.1\" 200 183 0.000155\n"
     ]
    },
    {
     "name": "stdout",
     "output_type": "stream",
     "text": [
      "####### parsingMessage #################### MSG.KEYS dict_keys(['type', 'name', 'uid'])\n",
      "subscribe\n",
      "subscribeData: componentLayout div_1e9909a0-b282-11ea-8b43-d5bee556a2b5\n",
      "data type:  <class 'dict'>\n",
      "converting py to js\n",
      "send to client: {'column': [{'row': ['Filtering', 'Neighborhood', 'Topological Spine']}, {'row': ['Parallel Coordinate', 'Scatter Plot']}]}  =>  {'data': {'column': [{'row': ['Filtering', 'Neighborhood', 'Topological Spine']}, {'row': ['Parallel Coordinate', 'Scatter Plot']}]}}\n",
      "sending to client\n",
      "####### parsingMessage #################### MSG.KEYS dict_keys(['type', 'name', 'uid'])\n",
      "####### parsingMessage #################### MSG.KEYS dict_keys(['type', 'uid', 'moduleName', 'listOfSignals'])\n",
      "add\n",
      "        addModule =>  DataModule div_1eca2bc0-b282-11ea-8b43-d5bee556a2b5 []\n"
     ]
    },
    {
     "name": "stderr",
     "output_type": "stream",
     "text": [
      "Exception in thread Thread-30:\n",
      "Traceback (most recent call last):\n",
      "  File \"/home/emma/anaconda3/envs/testextension/lib/python3.8/threading.py\", line 932, in _bootstrap_inner\n",
      "    self.run()\n",
      "  File \"/home/emma/anaconda3/envs/testextension/lib/python3.8/threading.py\", line 870, in run\n",
      "    self._target(*self._args, **self._kwargs)\n",
      "  File \"/home/emma/anaconda3/envs/testextension/lib/python3.8/site-packages/socketio/server.py\", line 682, in _handle_event_internal\n",
      "    r = server._trigger_event(data[0], namespace, sid, *data[1:])\n",
      "  File \"/home/emma/anaconda3/envs/testextension/lib/python3.8/site-packages/socketio/server.py\", line 711, in _trigger_event\n",
      "    return self.handlers[namespace][event](*args)\n",
      "  File \"/home/emma/LLNL/nddav_nbextension/nddav_nbextension/nddavPackage.py\", line 104, in parsingMessage\n",
      "    registry.parsingMessage(msg)\n",
      "  File \"/home/emma/LLNL/nddav_nbextension/nddav_nbextension/hdanalysis/modules/ModuleUIRegistry.py\", line 65, in parsingMessage\n",
      "    self.addModule(uid, moduleName, listOfSignals)\n",
      "  File \"/home/emma/LLNL/nddav_nbextension/nddav_nbextension/hdanalysis/modules/ModuleUIRegistry.py\", line 94, in addModule\n",
      "    importlib.import_module(\"hdanalysis.modules.\"+moduleName),\n",
      "  File \"/home/emma/anaconda3/envs/testextension/lib/python3.8/importlib/__init__.py\", line 127, in import_module\n",
      "    return _bootstrap._gcd_import(name[level:], package, level)\n",
      "  File \"<frozen importlib._bootstrap>\", line 1014, in _gcd_import\n",
      "  File \"<frozen importlib._bootstrap>\", line 991, in _find_and_load\n",
      "  File \"<frozen importlib._bootstrap>\", line 961, in _find_and_load_unlocked\n",
      "  File \"<frozen importlib._bootstrap>\", line 219, in _call_with_frames_removed\n",
      "  File \"<frozen importlib._bootstrap>\", line 1014, in _gcd_import\n",
      "  File \"<frozen importlib._bootstrap>\", line 991, in _find_and_load\n",
      "  File \"<frozen importlib._bootstrap>\", line 961, in _find_and_load_unlocked\n",
      "  File \"<frozen importlib._bootstrap>\", line 219, in _call_with_frames_removed\n",
      "  File \"<frozen importlib._bootstrap>\", line 1014, in _gcd_import\n",
      "  File \"<frozen importlib._bootstrap>\", line 991, in _find_and_load\n",
      "  File \"<frozen importlib._bootstrap>\", line 973, in _find_and_load_unlocked\n",
      "ModuleNotFoundError: No module named 'hdanalysis'\n"
     ]
    },
    {
     "name": "stdout",
     "output_type": "stream",
     "text": [
      "####### parsingMessage #################### MSG.KEYS dict_keys(['type', 'uid', 'moduleName', 'listOfSignals'])\n",
      "add\n",
      "        addModule =>  NeighborhoodModule div_1ecdae30-b282-11ea-8b43-d5bee556a2b5 []\n"
     ]
    },
    {
     "name": "stderr",
     "output_type": "stream",
     "text": [
      "Exception in thread Thread-31:\n",
      "Traceback (most recent call last):\n",
      "  File \"/home/emma/anaconda3/envs/testextension/lib/python3.8/threading.py\", line 932, in _bootstrap_inner\n",
      "    self.run()\n",
      "  File \"/home/emma/anaconda3/envs/testextension/lib/python3.8/threading.py\", line 870, in run\n",
      "    self._target(*self._args, **self._kwargs)\n",
      "  File \"/home/emma/anaconda3/envs/testextension/lib/python3.8/site-packages/socketio/server.py\", line 682, in _handle_event_internal\n",
      "    r = server._trigger_event(data[0], namespace, sid, *data[1:])\n",
      "  File \"/home/emma/anaconda3/envs/testextension/lib/python3.8/site-packages/socketio/server.py\", line 711, in _trigger_event\n",
      "    return self.handlers[namespace][event](*args)\n",
      "  File \"/home/emma/LLNL/nddav_nbextension/nddav_nbextension/nddavPackage.py\", line 104, in parsingMessage\n",
      "    registry.parsingMessage(msg)\n",
      "  File \"/home/emma/LLNL/nddav_nbextension/nddav_nbextension/hdanalysis/modules/ModuleUIRegistry.py\", line 65, in parsingMessage\n",
      "    self.addModule(uid, moduleName, listOfSignals)\n",
      "  File \"/home/emma/LLNL/nddav_nbextension/nddav_nbextension/hdanalysis/modules/ModuleUIRegistry.py\", line 94, in addModule\n",
      "    importlib.import_module(\"hdanalysis.modules.\"+moduleName),\n",
      "  File \"/home/emma/anaconda3/envs/testextension/lib/python3.8/importlib/__init__.py\", line 127, in import_module\n",
      "    return _bootstrap._gcd_import(name[level:], package, level)\n",
      "  File \"<frozen importlib._bootstrap>\", line 1014, in _gcd_import\n",
      "  File \"<frozen importlib._bootstrap>\", line 991, in _find_and_load\n",
      "  File \"<frozen importlib._bootstrap>\", line 961, in _find_and_load_unlocked\n",
      "  File \"<frozen importlib._bootstrap>\", line 219, in _call_with_frames_removed\n",
      "  File \"<frozen importlib._bootstrap>\", line 1014, in _gcd_import\n",
      "  File \"<frozen importlib._bootstrap>\", line 991, in _find_and_load\n",
      "  File \"<frozen importlib._bootstrap>\", line 961, in _find_and_load_unlocked\n",
      "  File \"<frozen importlib._bootstrap>\", line 219, in _call_with_frames_removed\n",
      "  File \"<frozen importlib._bootstrap>\", line 1014, in _gcd_import\n",
      "  File \"<frozen importlib._bootstrap>\", line 991, in _find_and_load\n",
      "  File \"<frozen importlib._bootstrap>\", line 973, in _find_and_load_unlocked\n",
      "ModuleNotFoundError: No module named 'hdanalysis'\n"
     ]
    },
    {
     "name": "stdout",
     "output_type": "stream",
     "text": [
      "####### parsingMessage #################### MSG.KEYS dict_keys(['type', 'uid', 'function', 'parameter'])\n",
      "Call\n",
      "uid:  div_1ecdae30-b282-11ea-8b43-d5bee556a2b5 function:  getModuleInfoDict parameter:  {}\n"
     ]
    },
    {
     "name": "stderr",
     "output_type": "stream",
     "text": [
      "Exception in thread Thread-32:\n",
      "Traceback (most recent call last):\n",
      "  File \"/home/emma/anaconda3/envs/testextension/lib/python3.8/threading.py\", line 932, in _bootstrap_inner\n",
      "    self.run()\n",
      "  File \"/home/emma/anaconda3/envs/testextension/lib/python3.8/threading.py\", line 870, in run\n",
      "    self._target(*self._args, **self._kwargs)\n",
      "  File \"/home/emma/anaconda3/envs/testextension/lib/python3.8/site-packages/socketio/server.py\", line 682, in _handle_event_internal\n",
      "    r = server._trigger_event(data[0], namespace, sid, *data[1:])\n",
      "  File \"/home/emma/anaconda3/envs/testextension/lib/python3.8/site-packages/socketio/server.py\", line 711, in _trigger_event\n",
      "    return self.handlers[namespace][event](*args)\n",
      "  File \"/home/emma/LLNL/nddav_nbextension/nddav_nbextension/nddavPackage.py\", line 104, in parsingMessage\n",
      "    registry.parsingMessage(msg)\n",
      "  File \"/home/emma/LLNL/nddav_nbextension/nddav_nbextension/hdanalysis/modules/ModuleUIRegistry.py\", line 60, in parsingMessage\n",
      "    self.callModule(uid, function, parameter)\n",
      "  File \"/home/emma/LLNL/nddav_nbextension/nddav_nbextension/hdanalysis/modules/ModuleUIRegistry.py\", line 218, in callModule\n",
      "    func = getattr(self.uid2Module[uid],function)\n",
      "KeyError: 'div_1ecdae30-b282-11ea-8b43-d5bee556a2b5'\n"
     ]
    },
    {
     "name": "stdout",
     "output_type": "stream",
     "text": [
      "####### parsingMessage #################### MSG.KEYS dict_keys(['type', 'uid', 'moduleName', 'listOfSignals'])\n",
      "add\n",
      "        addModule =>  EGModule -1 []\n"
     ]
    },
    {
     "name": "stderr",
     "output_type": "stream",
     "text": [
      "Exception in thread Thread-33:\n",
      "Traceback (most recent call last):\n",
      "  File \"/home/emma/anaconda3/envs/testextension/lib/python3.8/threading.py\", line 932, in _bootstrap_inner\n",
      "    self.run()\n",
      "  File \"/home/emma/anaconda3/envs/testextension/lib/python3.8/threading.py\", line 870, in run\n",
      "    self._target(*self._args, **self._kwargs)\n",
      "  File \"/home/emma/anaconda3/envs/testextension/lib/python3.8/site-packages/socketio/server.py\", line 682, in _handle_event_internal\n",
      "    r = server._trigger_event(data[0], namespace, sid, *data[1:])\n",
      "  File \"/home/emma/anaconda3/envs/testextension/lib/python3.8/site-packages/socketio/server.py\", line 711, in _trigger_event\n",
      "    return self.handlers[namespace][event](*args)\n",
      "  File \"/home/emma/LLNL/nddav_nbextension/nddav_nbextension/nddavPackage.py\", line 104, in parsingMessage\n",
      "    registry.parsingMessage(msg)\n",
      "  File \"/home/emma/LLNL/nddav_nbextension/nddav_nbextension/hdanalysis/modules/ModuleUIRegistry.py\", line 65, in parsingMessage\n",
      "    self.addModule(uid, moduleName, listOfSignals)\n",
      "  File \"/home/emma/LLNL/nddav_nbextension/nddav_nbextension/hdanalysis/modules/ModuleUIRegistry.py\", line 94, in addModule\n",
      "    importlib.import_module(\"hdanalysis.modules.\"+moduleName),\n",
      "  File \"/home/emma/anaconda3/envs/testextension/lib/python3.8/importlib/__init__.py\", line 127, in import_module\n",
      "    return _bootstrap._gcd_import(name[level:], package, level)\n",
      "  File \"<frozen importlib._bootstrap>\", line 1014, in _gcd_import\n",
      "  File \"<frozen importlib._bootstrap>\", line 991, in _find_and_load\n",
      "  File \"<frozen importlib._bootstrap>\", line 961, in _find_and_load_unlocked\n",
      "  File \"<frozen importlib._bootstrap>\", line 219, in _call_with_frames_removed\n",
      "  File \"<frozen importlib._bootstrap>\", line 1014, in _gcd_import\n",
      "  File \"<frozen importlib._bootstrap>\", line 991, in _find_and_load\n",
      "  File \"<frozen importlib._bootstrap>\", line 961, in _find_and_load_unlocked\n",
      "  File \"<frozen importlib._bootstrap>\", line 219, in _call_with_frames_removed\n",
      "  File \"<frozen importlib._bootstrap>\", line 1014, in _gcd_import\n",
      "  File \"<frozen importlib._bootstrap>\", line 991, in _find_and_load\n",
      "  File \"<frozen importlib._bootstrap>\", line 973, in _find_and_load_unlocked\n",
      "ModuleNotFoundError: No module named 'hdanalysis'\n"
     ]
    },
    {
     "name": "stdout",
     "output_type": "stream",
     "text": [
      "####### parsingMessage #################### MSG.KEYS dict_keys(['type', 'uid', 'moduleName', 'listOfSignals'])\n",
      "add\n",
      "        addModule =>  TopospineModule div_1ece9890-b282-11ea-8b43-d5bee556a2b5 ['EGgraph', 'subselection', 'selectExt', 'brushedrange']\n"
     ]
    },
    {
     "name": "stderr",
     "output_type": "stream",
     "text": [
      "Exception in thread Thread-34:\n",
      "Traceback (most recent call last):\n",
      "  File \"/home/emma/anaconda3/envs/testextension/lib/python3.8/threading.py\", line 932, in _bootstrap_inner\n",
      "    self.run()\n",
      "  File \"/home/emma/anaconda3/envs/testextension/lib/python3.8/threading.py\", line 870, in run\n",
      "    self._target(*self._args, **self._kwargs)\n",
      "  File \"/home/emma/anaconda3/envs/testextension/lib/python3.8/site-packages/socketio/server.py\", line 682, in _handle_event_internal\n",
      "    r = server._trigger_event(data[0], namespace, sid, *data[1:])\n",
      "  File \"/home/emma/anaconda3/envs/testextension/lib/python3.8/site-packages/socketio/server.py\", line 711, in _trigger_event\n",
      "    return self.handlers[namespace][event](*args)\n",
      "  File \"/home/emma/LLNL/nddav_nbextension/nddav_nbextension/nddavPackage.py\", line 104, in parsingMessage\n",
      "    registry.parsingMessage(msg)\n",
      "  File \"/home/emma/LLNL/nddav_nbextension/nddav_nbextension/hdanalysis/modules/ModuleUIRegistry.py\", line 65, in parsingMessage\n",
      "    self.addModule(uid, moduleName, listOfSignals)\n",
      "  File \"/home/emma/LLNL/nddav_nbextension/nddav_nbextension/hdanalysis/modules/ModuleUIRegistry.py\", line 94, in addModule\n",
      "    importlib.import_module(\"hdanalysis.modules.\"+moduleName),\n",
      "  File \"/home/emma/anaconda3/envs/testextension/lib/python3.8/importlib/__init__.py\", line 127, in import_module\n",
      "    return _bootstrap._gcd_import(name[level:], package, level)\n",
      "  File \"<frozen importlib._bootstrap>\", line 1014, in _gcd_import\n",
      "  File \"<frozen importlib._bootstrap>\", line 991, in _find_and_load\n",
      "  File \"<frozen importlib._bootstrap>\", line 961, in _find_and_load_unlocked\n",
      "  File \"<frozen importlib._bootstrap>\", line 219, in _call_with_frames_removed\n",
      "  File \"<frozen importlib._bootstrap>\", line 1014, in _gcd_import\n",
      "  File \"<frozen importlib._bootstrap>\", line 991, in _find_and_load\n",
      "  File \"<frozen importlib._bootstrap>\", line 961, in _find_and_load_unlocked\n",
      "  File \"<frozen importlib._bootstrap>\", line 219, in _call_with_frames_removed\n",
      "  File \"<frozen importlib._bootstrap>\", line 1014, in _gcd_import\n",
      "  File \"<frozen importlib._bootstrap>\", line 991, in _find_and_load\n",
      "  File \"<frozen importlib._bootstrap>\", line 973, in _find_and_load_unlocked\n",
      "ModuleNotFoundError: No module named 'hdanalysis'\n"
     ]
    },
    {
     "name": "stdout",
     "output_type": "stream",
     "text": [
      "####### parsingMessage #################### MSG.KEYS dict_keys(['type', 'uid', 'moduleName', 'listOfSignals'])\n",
      "add\n",
      "        addModule =>  PlotModule div_1ecf5be0-b282-11ea-8b43-d5bee556a2b5 ['data', 'subselection']\n"
     ]
    },
    {
     "name": "stderr",
     "output_type": "stream",
     "text": [
      "Exception in thread Thread-35:\n",
      "Traceback (most recent call last):\n",
      "  File \"/home/emma/anaconda3/envs/testextension/lib/python3.8/threading.py\", line 932, in _bootstrap_inner\n",
      "    self.run()\n",
      "  File \"/home/emma/anaconda3/envs/testextension/lib/python3.8/threading.py\", line 870, in run\n",
      "    self._target(*self._args, **self._kwargs)\n",
      "  File \"/home/emma/anaconda3/envs/testextension/lib/python3.8/site-packages/socketio/server.py\", line 682, in _handle_event_internal\n",
      "    r = server._trigger_event(data[0], namespace, sid, *data[1:])\n",
      "  File \"/home/emma/anaconda3/envs/testextension/lib/python3.8/site-packages/socketio/server.py\", line 711, in _trigger_event\n",
      "    return self.handlers[namespace][event](*args)\n",
      "  File \"/home/emma/LLNL/nddav_nbextension/nddav_nbextension/nddavPackage.py\", line 104, in parsingMessage\n",
      "    registry.parsingMessage(msg)\n",
      "  File \"/home/emma/LLNL/nddav_nbextension/nddav_nbextension/hdanalysis/modules/ModuleUIRegistry.py\", line 65, in parsingMessage\n",
      "    self.addModule(uid, moduleName, listOfSignals)\n",
      "  File \"/home/emma/LLNL/nddav_nbextension/nddav_nbextension/hdanalysis/modules/ModuleUIRegistry.py\", line 94, in addModule\n",
      "    importlib.import_module(\"hdanalysis.modules.\"+moduleName),\n",
      "  File \"/home/emma/anaconda3/envs/testextension/lib/python3.8/importlib/__init__.py\", line 127, in import_module\n",
      "    return _bootstrap._gcd_import(name[level:], package, level)\n",
      "  File \"<frozen importlib._bootstrap>\", line 1014, in _gcd_import\n",
      "  File \"<frozen importlib._bootstrap>\", line 991, in _find_and_load\n",
      "  File \"<frozen importlib._bootstrap>\", line 961, in _find_and_load_unlocked\n",
      "  File \"<frozen importlib._bootstrap>\", line 219, in _call_with_frames_removed\n",
      "  File \"<frozen importlib._bootstrap>\", line 1014, in _gcd_import\n",
      "  File \"<frozen importlib._bootstrap>\", line 991, in _find_and_load\n",
      "  File \"<frozen importlib._bootstrap>\", line 961, in _find_and_load_unlocked\n",
      "  File \"<frozen importlib._bootstrap>\", line 219, in _call_with_frames_removed\n",
      "  File \"<frozen importlib._bootstrap>\", line 1014, in _gcd_import\n",
      "  File \"<frozen importlib._bootstrap>\", line 991, in _find_and_load\n",
      "  File \"<frozen importlib._bootstrap>\", line 973, in _find_and_load_unlocked\n",
      "ModuleNotFoundError: No module named 'hdanalysis'\n"
     ]
    },
    {
     "name": "stdout",
     "output_type": "stream",
     "text": [
      "####### parsingMessage #################### MSG.KEYS dict_keys(['type', 'uid', 'moduleName', 'listOfSignals'])\n",
      "add\n",
      "        addModule =>  PlotModule div_1ed10990-b282-11ea-8b43-d5bee556a2b5 ['data', 'subselection', 'seg', 'embedding']\n"
     ]
    },
    {
     "name": "stderr",
     "output_type": "stream",
     "text": [
      "Exception in thread Thread-36:\n",
      "Traceback (most recent call last):\n",
      "  File \"/home/emma/anaconda3/envs/testextension/lib/python3.8/threading.py\", line 932, in _bootstrap_inner\n",
      "    self.run()\n",
      "  File \"/home/emma/anaconda3/envs/testextension/lib/python3.8/threading.py\", line 870, in run\n",
      "    self._target(*self._args, **self._kwargs)\n",
      "  File \"/home/emma/anaconda3/envs/testextension/lib/python3.8/site-packages/socketio/server.py\", line 682, in _handle_event_internal\n",
      "    r = server._trigger_event(data[0], namespace, sid, *data[1:])\n",
      "  File \"/home/emma/anaconda3/envs/testextension/lib/python3.8/site-packages/socketio/server.py\", line 711, in _trigger_event\n",
      "    return self.handlers[namespace][event](*args)\n",
      "  File \"/home/emma/LLNL/nddav_nbextension/nddav_nbextension/nddavPackage.py\", line 104, in parsingMessage\n",
      "    registry.parsingMessage(msg)\n",
      "  File \"/home/emma/LLNL/nddav_nbextension/nddav_nbextension/hdanalysis/modules/ModuleUIRegistry.py\", line 65, in parsingMessage\n",
      "    self.addModule(uid, moduleName, listOfSignals)\n",
      "  File \"/home/emma/LLNL/nddav_nbextension/nddav_nbextension/hdanalysis/modules/ModuleUIRegistry.py\", line 94, in addModule\n",
      "    importlib.import_module(\"hdanalysis.modules.\"+moduleName),\n",
      "  File \"/home/emma/anaconda3/envs/testextension/lib/python3.8/importlib/__init__.py\", line 127, in import_module\n",
      "    return _bootstrap._gcd_import(name[level:], package, level)\n",
      "  File \"<frozen importlib._bootstrap>\", line 1014, in _gcd_import\n",
      "  File \"<frozen importlib._bootstrap>\", line 991, in _find_and_load\n",
      "  File \"<frozen importlib._bootstrap>\", line 961, in _find_and_load_unlocked\n",
      "  File \"<frozen importlib._bootstrap>\", line 219, in _call_with_frames_removed\n",
      "  File \"<frozen importlib._bootstrap>\", line 1014, in _gcd_import\n",
      "  File \"<frozen importlib._bootstrap>\", line 991, in _find_and_load\n",
      "  File \"<frozen importlib._bootstrap>\", line 961, in _find_and_load_unlocked\n",
      "  File \"<frozen importlib._bootstrap>\", line 219, in _call_with_frames_removed\n",
      "  File \"<frozen importlib._bootstrap>\", line 1014, in _gcd_import\n",
      "  File \"<frozen importlib._bootstrap>\", line 991, in _find_and_load\n",
      "  File \"<frozen importlib._bootstrap>\", line 973, in _find_and_load_unlocked\n",
      "ModuleNotFoundError: No module named 'hdanalysis'\n"
     ]
    },
    {
     "name": "stdout",
     "output_type": "stream",
     "text": [
      "\n",
      "\n",
      "!!!!!!!!! socketIO disconnected !!!!!!!!\n",
      "\n",
      " 6668caf351c54ab49d96e26e822c2d61\n"
     ]
    },
    {
     "name": "stderr",
     "output_type": "stream",
     "text": [
      "127.0.0.1 - - [19/Jun/2020 19:11:00] \"GET /socket.io/?EIO=3&transport=websocket&sid=6668caf351c54ab49d96e26e822c2d61 HTTP/1.1\" 200 0 8.405788\n",
      "127.0.0.1 - - [19/Jun/2020 19:11:00] \"GET /socket.io/?EIO=3&transport=polling&t=NBEsO8Y HTTP/1.1\" 200 355 0.000712\n",
      "(21810) accepted ('127.0.0.1', 59824)\n",
      "127.0.0.1 - - [19/Jun/2020 19:11:00] \"GET /socket.io/?EIO=3&transport=polling&t=NBEsOAq&sid=11e3c86f520e4a478f3378324eb84286 HTTP/1.1\" 200 183 0.000141\n",
      "127.0.0.1 - - [19/Jun/2020 19:11:00] \"POST /socket.io/?EIO=3&transport=polling&t=NBEsOAl&sid=11e3c86f520e4a478f3378324eb84286 HTTP/1.1\" 200 219 0.000270\n",
      "127.0.0.1 - - [19/Jun/2020 19:11:00] \"GET /socket.io/?EIO=3&transport=polling&t=NBEsOBM&sid=11e3c86f520e4a478f3378324eb84286 HTTP/1.1\" 200 183 0.000160\n"
     ]
    },
    {
     "name": "stdout",
     "output_type": "stream",
     "text": [
      "####### parsingMessage #################### MSG.KEYS dict_keys(['type', 'name', 'uid'])\n",
      "subscribe\n",
      "subscribeData: componentLayout div_23ecb730-b282-11ea-9f48-f32e62561200\n",
      "data type:  <class 'dict'>\n",
      "converting py to js\n",
      "send to client: {'column': [{'row': ['Filtering', 'Neighborhood', 'Topological Spine']}, {'row': ['Parallel Coordinate', 'Scatter Plot']}]}  =>  {'data': {'column': [{'row': ['Filtering', 'Neighborhood', 'Topological Spine']}, {'row': ['Parallel Coordinate', 'Scatter Plot']}]}}\n",
      "sending to client\n",
      "####### parsingMessage #################### MSG.KEYS dict_keys(['type', 'name', 'uid'])\n",
      "####### parsingMessage #################### MSG.KEYS dict_keys(['type', 'uid', 'moduleName', 'listOfSignals'])\n",
      "add\n",
      "        addModule =>  DataModule div_2421a9e0-b282-11ea-9f48-f32e62561200 []\n"
     ]
    },
    {
     "name": "stderr",
     "output_type": "stream",
     "text": [
      "Exception in thread Thread-40:\n",
      "Traceback (most recent call last):\n",
      "  File \"/home/emma/anaconda3/envs/testextension/lib/python3.8/threading.py\", line 932, in _bootstrap_inner\n",
      "    self.run()\n",
      "  File \"/home/emma/anaconda3/envs/testextension/lib/python3.8/threading.py\", line 870, in run\n",
      "    self._target(*self._args, **self._kwargs)\n",
      "  File \"/home/emma/anaconda3/envs/testextension/lib/python3.8/site-packages/socketio/server.py\", line 682, in _handle_event_internal\n",
      "    r = server._trigger_event(data[0], namespace, sid, *data[1:])\n",
      "  File \"/home/emma/anaconda3/envs/testextension/lib/python3.8/site-packages/socketio/server.py\", line 711, in _trigger_event\n",
      "    return self.handlers[namespace][event](*args)\n",
      "  File \"/home/emma/LLNL/nddav_nbextension/nddav_nbextension/nddavPackage.py\", line 104, in parsingMessage\n",
      "    registry.parsingMessage(msg)\n",
      "  File \"/home/emma/LLNL/nddav_nbextension/nddav_nbextension/hdanalysis/modules/ModuleUIRegistry.py\", line 65, in parsingMessage\n",
      "    self.addModule(uid, moduleName, listOfSignals)\n",
      "  File \"/home/emma/LLNL/nddav_nbextension/nddav_nbextension/hdanalysis/modules/ModuleUIRegistry.py\", line 94, in addModule\n",
      "    importlib.import_module(\"hdanalysis.modules.\"+moduleName),\n",
      "  File \"/home/emma/anaconda3/envs/testextension/lib/python3.8/importlib/__init__.py\", line 127, in import_module\n",
      "    return _bootstrap._gcd_import(name[level:], package, level)\n",
      "  File \"<frozen importlib._bootstrap>\", line 1014, in _gcd_import\n",
      "  File \"<frozen importlib._bootstrap>\", line 991, in _find_and_load\n",
      "  File \"<frozen importlib._bootstrap>\", line 961, in _find_and_load_unlocked\n",
      "  File \"<frozen importlib._bootstrap>\", line 219, in _call_with_frames_removed\n",
      "  File \"<frozen importlib._bootstrap>\", line 1014, in _gcd_import\n",
      "  File \"<frozen importlib._bootstrap>\", line 991, in _find_and_load\n",
      "  File \"<frozen importlib._bootstrap>\", line 961, in _find_and_load_unlocked\n",
      "  File \"<frozen importlib._bootstrap>\", line 219, in _call_with_frames_removed\n",
      "  File \"<frozen importlib._bootstrap>\", line 1014, in _gcd_import\n",
      "  File \"<frozen importlib._bootstrap>\", line 991, in _find_and_load\n",
      "  File \"<frozen importlib._bootstrap>\", line 973, in _find_and_load_unlocked\n",
      "ModuleNotFoundError: No module named 'hdanalysis'\n"
     ]
    },
    {
     "name": "stdout",
     "output_type": "stream",
     "text": [
      "####### parsingMessage #################### MSG.KEYS dict_keys(['type', 'uid', 'moduleName', 'listOfSignals'])\n",
      "add\n",
      "        addModule =>  NeighborhoodModule div_24246900-b282-11ea-9f48-f32e62561200 []\n"
     ]
    },
    {
     "name": "stderr",
     "output_type": "stream",
     "text": [
      "Exception in thread Thread-41:\n",
      "Traceback (most recent call last):\n",
      "  File \"/home/emma/anaconda3/envs/testextension/lib/python3.8/threading.py\", line 932, in _bootstrap_inner\n",
      "    self.run()\n",
      "  File \"/home/emma/anaconda3/envs/testextension/lib/python3.8/threading.py\", line 870, in run\n",
      "    self._target(*self._args, **self._kwargs)\n",
      "  File \"/home/emma/anaconda3/envs/testextension/lib/python3.8/site-packages/socketio/server.py\", line 682, in _handle_event_internal\n",
      "    r = server._trigger_event(data[0], namespace, sid, *data[1:])\n",
      "  File \"/home/emma/anaconda3/envs/testextension/lib/python3.8/site-packages/socketio/server.py\", line 711, in _trigger_event\n",
      "    return self.handlers[namespace][event](*args)\n",
      "  File \"/home/emma/LLNL/nddav_nbextension/nddav_nbextension/nddavPackage.py\", line 104, in parsingMessage\n",
      "    registry.parsingMessage(msg)\n",
      "  File \"/home/emma/LLNL/nddav_nbextension/nddav_nbextension/hdanalysis/modules/ModuleUIRegistry.py\", line 65, in parsingMessage\n",
      "    self.addModule(uid, moduleName, listOfSignals)\n",
      "  File \"/home/emma/LLNL/nddav_nbextension/nddav_nbextension/hdanalysis/modules/ModuleUIRegistry.py\", line 94, in addModule\n",
      "    importlib.import_module(\"hdanalysis.modules.\"+moduleName),\n",
      "  File \"/home/emma/anaconda3/envs/testextension/lib/python3.8/importlib/__init__.py\", line 127, in import_module\n",
      "    return _bootstrap._gcd_import(name[level:], package, level)\n",
      "  File \"<frozen importlib._bootstrap>\", line 1014, in _gcd_import\n",
      "  File \"<frozen importlib._bootstrap>\", line 991, in _find_and_load\n",
      "  File \"<frozen importlib._bootstrap>\", line 961, in _find_and_load_unlocked\n",
      "  File \"<frozen importlib._bootstrap>\", line 219, in _call_with_frames_removed\n",
      "  File \"<frozen importlib._bootstrap>\", line 1014, in _gcd_import\n",
      "  File \"<frozen importlib._bootstrap>\", line 991, in _find_and_load\n",
      "  File \"<frozen importlib._bootstrap>\", line 961, in _find_and_load_unlocked\n",
      "  File \"<frozen importlib._bootstrap>\", line 219, in _call_with_frames_removed\n",
      "  File \"<frozen importlib._bootstrap>\", line 1014, in _gcd_import\n",
      "  File \"<frozen importlib._bootstrap>\", line 991, in _find_and_load\n",
      "  File \"<frozen importlib._bootstrap>\", line 973, in _find_and_load_unlocked\n",
      "ModuleNotFoundError: No module named 'hdanalysis'\n"
     ]
    },
    {
     "name": "stdout",
     "output_type": "stream",
     "text": [
      "####### parsingMessage #################### MSG.KEYS dict_keys(['type', 'uid', 'function', 'parameter'])\n",
      "Call\n",
      "uid:  div_24246900-b282-11ea-9f48-f32e62561200 function:  getModuleInfoDict parameter:  {}\n"
     ]
    },
    {
     "name": "stderr",
     "output_type": "stream",
     "text": [
      "Exception in thread Thread-42:\n",
      "Traceback (most recent call last):\n",
      "  File \"/home/emma/anaconda3/envs/testextension/lib/python3.8/threading.py\", line 932, in _bootstrap_inner\n",
      "    self.run()\n",
      "  File \"/home/emma/anaconda3/envs/testextension/lib/python3.8/threading.py\", line 870, in run\n",
      "    self._target(*self._args, **self._kwargs)\n",
      "  File \"/home/emma/anaconda3/envs/testextension/lib/python3.8/site-packages/socketio/server.py\", line 682, in _handle_event_internal\n",
      "    r = server._trigger_event(data[0], namespace, sid, *data[1:])\n",
      "  File \"/home/emma/anaconda3/envs/testextension/lib/python3.8/site-packages/socketio/server.py\", line 711, in _trigger_event\n",
      "    return self.handlers[namespace][event](*args)\n",
      "  File \"/home/emma/LLNL/nddav_nbextension/nddav_nbextension/nddavPackage.py\", line 104, in parsingMessage\n",
      "    registry.parsingMessage(msg)\n",
      "  File \"/home/emma/LLNL/nddav_nbextension/nddav_nbextension/hdanalysis/modules/ModuleUIRegistry.py\", line 60, in parsingMessage\n",
      "    self.callModule(uid, function, parameter)\n",
      "  File \"/home/emma/LLNL/nddav_nbextension/nddav_nbextension/hdanalysis/modules/ModuleUIRegistry.py\", line 218, in callModule\n",
      "    func = getattr(self.uid2Module[uid],function)\n",
      "KeyError: 'div_24246900-b282-11ea-9f48-f32e62561200'\n"
     ]
    },
    {
     "name": "stdout",
     "output_type": "stream",
     "text": [
      "####### parsingMessage #################### MSG.KEYS dict_keys(['type', 'uid', 'moduleName', 'listOfSignals'])\n",
      "add\n",
      "        addModule =>  EGModule -1 []\n"
     ]
    },
    {
     "name": "stderr",
     "output_type": "stream",
     "text": [
      "Exception in thread Thread-43:\n",
      "Traceback (most recent call last):\n",
      "  File \"/home/emma/anaconda3/envs/testextension/lib/python3.8/threading.py\", line 932, in _bootstrap_inner\n",
      "    self.run()\n",
      "  File \"/home/emma/anaconda3/envs/testextension/lib/python3.8/threading.py\", line 870, in run\n",
      "    self._target(*self._args, **self._kwargs)\n",
      "  File \"/home/emma/anaconda3/envs/testextension/lib/python3.8/site-packages/socketio/server.py\", line 682, in _handle_event_internal\n",
      "    r = server._trigger_event(data[0], namespace, sid, *data[1:])\n",
      "  File \"/home/emma/anaconda3/envs/testextension/lib/python3.8/site-packages/socketio/server.py\", line 711, in _trigger_event\n",
      "    return self.handlers[namespace][event](*args)\n",
      "  File \"/home/emma/LLNL/nddav_nbextension/nddav_nbextension/nddavPackage.py\", line 104, in parsingMessage\n",
      "    registry.parsingMessage(msg)\n",
      "  File \"/home/emma/LLNL/nddav_nbextension/nddav_nbextension/hdanalysis/modules/ModuleUIRegistry.py\", line 65, in parsingMessage\n",
      "    self.addModule(uid, moduleName, listOfSignals)\n",
      "  File \"/home/emma/LLNL/nddav_nbextension/nddav_nbextension/hdanalysis/modules/ModuleUIRegistry.py\", line 94, in addModule\n",
      "    importlib.import_module(\"hdanalysis.modules.\"+moduleName),\n",
      "  File \"/home/emma/anaconda3/envs/testextension/lib/python3.8/importlib/__init__.py\", line 127, in import_module\n",
      "    return _bootstrap._gcd_import(name[level:], package, level)\n",
      "  File \"<frozen importlib._bootstrap>\", line 1014, in _gcd_import\n",
      "  File \"<frozen importlib._bootstrap>\", line 991, in _find_and_load\n",
      "  File \"<frozen importlib._bootstrap>\", line 961, in _find_and_load_unlocked\n",
      "  File \"<frozen importlib._bootstrap>\", line 219, in _call_with_frames_removed\n",
      "  File \"<frozen importlib._bootstrap>\", line 1014, in _gcd_import\n",
      "  File \"<frozen importlib._bootstrap>\", line 991, in _find_and_load\n",
      "  File \"<frozen importlib._bootstrap>\", line 961, in _find_and_load_unlocked\n",
      "  File \"<frozen importlib._bootstrap>\", line 219, in _call_with_frames_removed\n",
      "  File \"<frozen importlib._bootstrap>\", line 1014, in _gcd_import\n",
      "  File \"<frozen importlib._bootstrap>\", line 991, in _find_and_load\n",
      "  File \"<frozen importlib._bootstrap>\", line 973, in _find_and_load_unlocked\n",
      "ModuleNotFoundError: No module named 'hdanalysis'\n"
     ]
    },
    {
     "name": "stdout",
     "output_type": "stream",
     "text": [
      "####### parsingMessage #################### MSG.KEYS dict_keys(['type', 'uid', 'moduleName', 'listOfSignals'])\n",
      "add\n",
      "        addModule =>  TopospineModule div_242664d0-b282-11ea-9f48-f32e62561200 ['EGgraph', 'subselection', 'selectExt', 'brushedrange']\n"
     ]
    },
    {
     "name": "stderr",
     "output_type": "stream",
     "text": [
      "Exception in thread Thread-44:\n",
      "Traceback (most recent call last):\n",
      "  File \"/home/emma/anaconda3/envs/testextension/lib/python3.8/threading.py\", line 932, in _bootstrap_inner\n",
      "    self.run()\n",
      "  File \"/home/emma/anaconda3/envs/testextension/lib/python3.8/threading.py\", line 870, in run\n",
      "    self._target(*self._args, **self._kwargs)\n",
      "  File \"/home/emma/anaconda3/envs/testextension/lib/python3.8/site-packages/socketio/server.py\", line 682, in _handle_event_internal\n",
      "    r = server._trigger_event(data[0], namespace, sid, *data[1:])\n",
      "  File \"/home/emma/anaconda3/envs/testextension/lib/python3.8/site-packages/socketio/server.py\", line 711, in _trigger_event\n",
      "    return self.handlers[namespace][event](*args)\n",
      "  File \"/home/emma/LLNL/nddav_nbextension/nddav_nbextension/nddavPackage.py\", line 104, in parsingMessage\n",
      "    registry.parsingMessage(msg)\n",
      "  File \"/home/emma/LLNL/nddav_nbextension/nddav_nbextension/hdanalysis/modules/ModuleUIRegistry.py\", line 65, in parsingMessage\n",
      "    self.addModule(uid, moduleName, listOfSignals)\n",
      "  File \"/home/emma/LLNL/nddav_nbextension/nddav_nbextension/hdanalysis/modules/ModuleUIRegistry.py\", line 94, in addModule\n",
      "    importlib.import_module(\"hdanalysis.modules.\"+moduleName),\n",
      "  File \"/home/emma/anaconda3/envs/testextension/lib/python3.8/importlib/__init__.py\", line 127, in import_module\n",
      "    return _bootstrap._gcd_import(name[level:], package, level)\n",
      "  File \"<frozen importlib._bootstrap>\", line 1014, in _gcd_import\n",
      "  File \"<frozen importlib._bootstrap>\", line 991, in _find_and_load\n",
      "  File \"<frozen importlib._bootstrap>\", line 961, in _find_and_load_unlocked\n",
      "  File \"<frozen importlib._bootstrap>\", line 219, in _call_with_frames_removed\n",
      "  File \"<frozen importlib._bootstrap>\", line 1014, in _gcd_import\n",
      "  File \"<frozen importlib._bootstrap>\", line 991, in _find_and_load\n",
      "  File \"<frozen importlib._bootstrap>\", line 961, in _find_and_load_unlocked\n",
      "  File \"<frozen importlib._bootstrap>\", line 219, in _call_with_frames_removed\n",
      "  File \"<frozen importlib._bootstrap>\", line 1014, in _gcd_import\n",
      "  File \"<frozen importlib._bootstrap>\", line 991, in _find_and_load\n",
      "  File \"<frozen importlib._bootstrap>\", line 973, in _find_and_load_unlocked\n",
      "ModuleNotFoundError: No module named 'hdanalysis'\n"
     ]
    },
    {
     "name": "stdout",
     "output_type": "stream",
     "text": [
      "####### parsingMessage #################### MSG.KEYS dict_keys(['type', 'uid', 'moduleName', 'listOfSignals'])\n",
      "add\n",
      "        addModule =>  PlotModule div_24274f30-b282-11ea-9f48-f32e62561200 ['data', 'subselection']\n"
     ]
    },
    {
     "name": "stderr",
     "output_type": "stream",
     "text": [
      "Exception in thread Thread-45:\n",
      "Traceback (most recent call last):\n",
      "  File \"/home/emma/anaconda3/envs/testextension/lib/python3.8/threading.py\", line 932, in _bootstrap_inner\n",
      "    self.run()\n",
      "  File \"/home/emma/anaconda3/envs/testextension/lib/python3.8/threading.py\", line 870, in run\n",
      "    self._target(*self._args, **self._kwargs)\n",
      "  File \"/home/emma/anaconda3/envs/testextension/lib/python3.8/site-packages/socketio/server.py\", line 682, in _handle_event_internal\n",
      "    r = server._trigger_event(data[0], namespace, sid, *data[1:])\n",
      "  File \"/home/emma/anaconda3/envs/testextension/lib/python3.8/site-packages/socketio/server.py\", line 711, in _trigger_event\n",
      "    return self.handlers[namespace][event](*args)\n",
      "  File \"/home/emma/LLNL/nddav_nbextension/nddav_nbextension/nddavPackage.py\", line 104, in parsingMessage\n",
      "    registry.parsingMessage(msg)\n",
      "  File \"/home/emma/LLNL/nddav_nbextension/nddav_nbextension/hdanalysis/modules/ModuleUIRegistry.py\", line 65, in parsingMessage\n",
      "    self.addModule(uid, moduleName, listOfSignals)\n",
      "  File \"/home/emma/LLNL/nddav_nbextension/nddav_nbextension/hdanalysis/modules/ModuleUIRegistry.py\", line 94, in addModule\n",
      "    importlib.import_module(\"hdanalysis.modules.\"+moduleName),\n",
      "  File \"/home/emma/anaconda3/envs/testextension/lib/python3.8/importlib/__init__.py\", line 127, in import_module\n",
      "    return _bootstrap._gcd_import(name[level:], package, level)\n",
      "  File \"<frozen importlib._bootstrap>\", line 1014, in _gcd_import\n",
      "  File \"<frozen importlib._bootstrap>\", line 991, in _find_and_load\n",
      "  File \"<frozen importlib._bootstrap>\", line 961, in _find_and_load_unlocked\n",
      "  File \"<frozen importlib._bootstrap>\", line 219, in _call_with_frames_removed\n",
      "  File \"<frozen importlib._bootstrap>\", line 1014, in _gcd_import\n",
      "  File \"<frozen importlib._bootstrap>\", line 991, in _find_and_load\n",
      "  File \"<frozen importlib._bootstrap>\", line 961, in _find_and_load_unlocked\n",
      "  File \"<frozen importlib._bootstrap>\", line 219, in _call_with_frames_removed\n",
      "  File \"<frozen importlib._bootstrap>\", line 1014, in _gcd_import\n",
      "  File \"<frozen importlib._bootstrap>\", line 991, in _find_and_load\n",
      "  File \"<frozen importlib._bootstrap>\", line 973, in _find_and_load_unlocked\n",
      "ModuleNotFoundError: No module named 'hdanalysis'\n"
     ]
    },
    {
     "name": "stdout",
     "output_type": "stream",
     "text": [
      "####### parsingMessage #################### MSG.KEYS dict_keys(['type', 'uid', 'moduleName', 'listOfSignals'])\n",
      "add\n",
      "        addModule =>  PlotModule div_24279d50-b282-11ea-9f48-f32e62561200 ['data', 'subselection', 'seg', 'embedding']\n"
     ]
    },
    {
     "name": "stderr",
     "output_type": "stream",
     "text": [
      "Exception in thread Thread-46:\n",
      "Traceback (most recent call last):\n",
      "  File \"/home/emma/anaconda3/envs/testextension/lib/python3.8/threading.py\", line 932, in _bootstrap_inner\n",
      "    self.run()\n",
      "  File \"/home/emma/anaconda3/envs/testextension/lib/python3.8/threading.py\", line 870, in run\n",
      "    self._target(*self._args, **self._kwargs)\n",
      "  File \"/home/emma/anaconda3/envs/testextension/lib/python3.8/site-packages/socketio/server.py\", line 682, in _handle_event_internal\n",
      "    r = server._trigger_event(data[0], namespace, sid, *data[1:])\n",
      "  File \"/home/emma/anaconda3/envs/testextension/lib/python3.8/site-packages/socketio/server.py\", line 711, in _trigger_event\n",
      "    return self.handlers[namespace][event](*args)\n",
      "  File \"/home/emma/LLNL/nddav_nbextension/nddav_nbextension/nddavPackage.py\", line 104, in parsingMessage\n",
      "    registry.parsingMessage(msg)\n",
      "  File \"/home/emma/LLNL/nddav_nbextension/nddav_nbextension/hdanalysis/modules/ModuleUIRegistry.py\", line 65, in parsingMessage\n",
      "    self.addModule(uid, moduleName, listOfSignals)\n",
      "  File \"/home/emma/LLNL/nddav_nbextension/nddav_nbextension/hdanalysis/modules/ModuleUIRegistry.py\", line 94, in addModule\n",
      "    importlib.import_module(\"hdanalysis.modules.\"+moduleName),\n",
      "  File \"/home/emma/anaconda3/envs/testextension/lib/python3.8/importlib/__init__.py\", line 127, in import_module\n",
      "    return _bootstrap._gcd_import(name[level:], package, level)\n",
      "  File \"<frozen importlib._bootstrap>\", line 1014, in _gcd_import\n",
      "  File \"<frozen importlib._bootstrap>\", line 991, in _find_and_load\n",
      "  File \"<frozen importlib._bootstrap>\", line 961, in _find_and_load_unlocked\n",
      "  File \"<frozen importlib._bootstrap>\", line 219, in _call_with_frames_removed\n",
      "  File \"<frozen importlib._bootstrap>\", line 1014, in _gcd_import\n",
      "  File \"<frozen importlib._bootstrap>\", line 991, in _find_and_load\n",
      "  File \"<frozen importlib._bootstrap>\", line 961, in _find_and_load_unlocked\n",
      "  File \"<frozen importlib._bootstrap>\", line 219, in _call_with_frames_removed\n",
      "  File \"<frozen importlib._bootstrap>\", line 1014, in _gcd_import\n",
      "  File \"<frozen importlib._bootstrap>\", line 991, in _find_and_load\n",
      "  File \"<frozen importlib._bootstrap>\", line 973, in _find_and_load_unlocked\n",
      "ModuleNotFoundError: No module named 'hdanalysis'\n"
     ]
    },
    {
     "name": "stdout",
     "output_type": "stream",
     "text": [
      "\n",
      "\n",
      "!!!!!!!!! socketIO disconnected !!!!!!!!\n",
      "\n",
      " 11e3c86f520e4a478f3378324eb84286\n"
     ]
    },
    {
     "name": "stderr",
     "output_type": "stream",
     "text": [
      "127.0.0.1 - - [19/Jun/2020 19:11:08] \"GET /socket.io/?EIO=3&transport=websocket&sid=11e3c86f520e4a478f3378324eb84286 HTTP/1.1\" 200 0 8.153081\n",
      "127.0.0.1 - - [19/Jun/2020 19:11:09] \"GET /socket.io/?EIO=3&transport=polling&t=NBEsQGj HTTP/1.1\" 200 355 0.000390\n",
      "(21810) accepted ('127.0.0.1', 60414)\n",
      "127.0.0.1 - - [19/Jun/2020 19:11:09] \"POST /socket.io/?EIO=3&transport=polling&t=NBEsQIQ&sid=2c82751f4c564032b725d0fd5c5df65e HTTP/1.1\" 200 219 0.000232\n",
      "127.0.0.1 - - [19/Jun/2020 19:11:09] \"GET /socket.io/?EIO=3&transport=polling&t=NBEsQIa&sid=2c82751f4c564032b725d0fd5c5df65e HTTP/1.1\" 200 183 0.000229\n",
      "127.0.0.1 - - [19/Jun/2020 19:11:09] \"GET /socket.io/?EIO=3&transport=polling&t=NBEsQJT&sid=2c82751f4c564032b725d0fd5c5df65e HTTP/1.1\" 200 183 0.000166\n"
     ]
    },
    {
     "name": "stdout",
     "output_type": "stream",
     "text": [
      "####### parsingMessage #################### MSG.KEYS dict_keys(['type', 'name', 'uid'])\n",
      "subscribe\n",
      "subscribeData: componentLayout div_291eabf0-b282-11ea-bf6c-1dba6f7366b8\n",
      "data type:  <class 'dict'>\n",
      "converting py to js\n",
      "send to client: {'column': [{'row': ['Filtering', 'Neighborhood', 'Topological Spine']}, {'row': ['Parallel Coordinate', 'Scatter Plot']}]}  =>  {'data': {'column': [{'row': ['Filtering', 'Neighborhood', 'Topological Spine']}, {'row': ['Parallel Coordinate', 'Scatter Plot']}]}}\n",
      "sending to client\n",
      "####### parsingMessage #################### MSG.KEYS dict_keys(['type', 'name', 'uid'])\n",
      "####### parsingMessage #################### MSG.KEYS dict_keys(['type', 'uid', 'moduleName', 'listOfSignals'])\n",
      "add\n",
      "        addModule =>  DataModule div_29596b00-b282-11ea-bf6c-1dba6f7366b8 []\n"
     ]
    },
    {
     "name": "stderr",
     "output_type": "stream",
     "text": [
      "Exception in thread Thread-50:\n",
      "Traceback (most recent call last):\n",
      "  File \"/home/emma/anaconda3/envs/testextension/lib/python3.8/threading.py\", line 932, in _bootstrap_inner\n",
      "    self.run()\n",
      "  File \"/home/emma/anaconda3/envs/testextension/lib/python3.8/threading.py\", line 870, in run\n",
      "    self._target(*self._args, **self._kwargs)\n",
      "  File \"/home/emma/anaconda3/envs/testextension/lib/python3.8/site-packages/socketio/server.py\", line 682, in _handle_event_internal\n",
      "    r = server._trigger_event(data[0], namespace, sid, *data[1:])\n",
      "  File \"/home/emma/anaconda3/envs/testextension/lib/python3.8/site-packages/socketio/server.py\", line 711, in _trigger_event\n",
      "    return self.handlers[namespace][event](*args)\n",
      "  File \"/home/emma/LLNL/nddav_nbextension/nddav_nbextension/nddavPackage.py\", line 104, in parsingMessage\n",
      "    registry.parsingMessage(msg)\n",
      "  File \"/home/emma/LLNL/nddav_nbextension/nddav_nbextension/hdanalysis/modules/ModuleUIRegistry.py\", line 65, in parsingMessage\n",
      "    self.addModule(uid, moduleName, listOfSignals)\n",
      "  File \"/home/emma/LLNL/nddav_nbextension/nddav_nbextension/hdanalysis/modules/ModuleUIRegistry.py\", line 94, in addModule\n",
      "    importlib.import_module(\"hdanalysis.modules.\"+moduleName),\n",
      "  File \"/home/emma/anaconda3/envs/testextension/lib/python3.8/importlib/__init__.py\", line 127, in import_module\n",
      "    return _bootstrap._gcd_import(name[level:], package, level)\n",
      "  File \"<frozen importlib._bootstrap>\", line 1014, in _gcd_import\n",
      "  File \"<frozen importlib._bootstrap>\", line 991, in _find_and_load\n",
      "  File \"<frozen importlib._bootstrap>\", line 961, in _find_and_load_unlocked\n",
      "  File \"<frozen importlib._bootstrap>\", line 219, in _call_with_frames_removed\n",
      "  File \"<frozen importlib._bootstrap>\", line 1014, in _gcd_import\n",
      "  File \"<frozen importlib._bootstrap>\", line 991, in _find_and_load\n",
      "  File \"<frozen importlib._bootstrap>\", line 961, in _find_and_load_unlocked\n",
      "  File \"<frozen importlib._bootstrap>\", line 219, in _call_with_frames_removed\n",
      "  File \"<frozen importlib._bootstrap>\", line 1014, in _gcd_import\n",
      "  File \"<frozen importlib._bootstrap>\", line 991, in _find_and_load\n",
      "  File \"<frozen importlib._bootstrap>\", line 973, in _find_and_load_unlocked\n",
      "ModuleNotFoundError: No module named 'hdanalysis'\n"
     ]
    },
    {
     "name": "stdout",
     "output_type": "stream",
     "text": [
      "####### parsingMessage #################### MSG.KEYS dict_keys(['type', 'uid', 'moduleName', 'listOfSignals'])\n",
      "add\n",
      "        addModule =>  NeighborhoodModule div_295c2a20-b282-11ea-bf6c-1dba6f7366b8 []\n"
     ]
    },
    {
     "name": "stderr",
     "output_type": "stream",
     "text": [
      "Exception in thread Thread-51:\n",
      "Traceback (most recent call last):\n",
      "  File \"/home/emma/anaconda3/envs/testextension/lib/python3.8/threading.py\", line 932, in _bootstrap_inner\n",
      "    self.run()\n",
      "  File \"/home/emma/anaconda3/envs/testextension/lib/python3.8/threading.py\", line 870, in run\n",
      "    self._target(*self._args, **self._kwargs)\n",
      "  File \"/home/emma/anaconda3/envs/testextension/lib/python3.8/site-packages/socketio/server.py\", line 682, in _handle_event_internal\n",
      "    r = server._trigger_event(data[0], namespace, sid, *data[1:])\n",
      "  File \"/home/emma/anaconda3/envs/testextension/lib/python3.8/site-packages/socketio/server.py\", line 711, in _trigger_event\n",
      "    return self.handlers[namespace][event](*args)\n",
      "  File \"/home/emma/LLNL/nddav_nbextension/nddav_nbextension/nddavPackage.py\", line 104, in parsingMessage\n",
      "    registry.parsingMessage(msg)\n",
      "  File \"/home/emma/LLNL/nddav_nbextension/nddav_nbextension/hdanalysis/modules/ModuleUIRegistry.py\", line 65, in parsingMessage\n",
      "    self.addModule(uid, moduleName, listOfSignals)\n",
      "  File \"/home/emma/LLNL/nddav_nbextension/nddav_nbextension/hdanalysis/modules/ModuleUIRegistry.py\", line 94, in addModule\n",
      "    importlib.import_module(\"hdanalysis.modules.\"+moduleName),\n",
      "  File \"/home/emma/anaconda3/envs/testextension/lib/python3.8/importlib/__init__.py\", line 127, in import_module\n",
      "    return _bootstrap._gcd_import(name[level:], package, level)\n",
      "  File \"<frozen importlib._bootstrap>\", line 1014, in _gcd_import\n",
      "  File \"<frozen importlib._bootstrap>\", line 991, in _find_and_load\n",
      "  File \"<frozen importlib._bootstrap>\", line 961, in _find_and_load_unlocked\n",
      "  File \"<frozen importlib._bootstrap>\", line 219, in _call_with_frames_removed\n",
      "  File \"<frozen importlib._bootstrap>\", line 1014, in _gcd_import\n",
      "  File \"<frozen importlib._bootstrap>\", line 991, in _find_and_load\n",
      "  File \"<frozen importlib._bootstrap>\", line 961, in _find_and_load_unlocked\n",
      "  File \"<frozen importlib._bootstrap>\", line 219, in _call_with_frames_removed\n",
      "  File \"<frozen importlib._bootstrap>\", line 1014, in _gcd_import\n",
      "  File \"<frozen importlib._bootstrap>\", line 991, in _find_and_load\n",
      "  File \"<frozen importlib._bootstrap>\", line 973, in _find_and_load_unlocked\n",
      "ModuleNotFoundError: No module named 'hdanalysis'\n"
     ]
    },
    {
     "name": "stdout",
     "output_type": "stream",
     "text": [
      "####### parsingMessage #################### MSG.KEYS dict_keys(['type', 'uid', 'function', 'parameter'])\n",
      "Call\n",
      "uid:  div_295c2a20-b282-11ea-bf6c-1dba6f7366b8 function:  getModuleInfoDict parameter:  {}\n"
     ]
    },
    {
     "name": "stderr",
     "output_type": "stream",
     "text": [
      "Exception in thread Thread-52:\n",
      "Traceback (most recent call last):\n",
      "  File \"/home/emma/anaconda3/envs/testextension/lib/python3.8/threading.py\", line 932, in _bootstrap_inner\n",
      "    self.run()\n",
      "  File \"/home/emma/anaconda3/envs/testextension/lib/python3.8/threading.py\", line 870, in run\n",
      "    self._target(*self._args, **self._kwargs)\n",
      "  File \"/home/emma/anaconda3/envs/testextension/lib/python3.8/site-packages/socketio/server.py\", line 682, in _handle_event_internal\n",
      "    r = server._trigger_event(data[0], namespace, sid, *data[1:])\n",
      "  File \"/home/emma/anaconda3/envs/testextension/lib/python3.8/site-packages/socketio/server.py\", line 711, in _trigger_event\n",
      "    return self.handlers[namespace][event](*args)\n",
      "  File \"/home/emma/LLNL/nddav_nbextension/nddav_nbextension/nddavPackage.py\", line 104, in parsingMessage\n",
      "    registry.parsingMessage(msg)\n",
      "  File \"/home/emma/LLNL/nddav_nbextension/nddav_nbextension/hdanalysis/modules/ModuleUIRegistry.py\", line 60, in parsingMessage\n",
      "    self.callModule(uid, function, parameter)\n",
      "  File \"/home/emma/LLNL/nddav_nbextension/nddav_nbextension/hdanalysis/modules/ModuleUIRegistry.py\", line 218, in callModule\n",
      "    func = getattr(self.uid2Module[uid],function)\n",
      "KeyError: 'div_295c2a20-b282-11ea-bf6c-1dba6f7366b8'\n"
     ]
    },
    {
     "name": "stdout",
     "output_type": "stream",
     "text": [
      "####### parsingMessage #################### MSG.KEYS dict_keys(['type', 'uid', 'moduleName', 'listOfSignals'])\n",
      "add\n",
      "        addModule =>  EGModule -1 []\n"
     ]
    },
    {
     "name": "stderr",
     "output_type": "stream",
     "text": [
      "Exception in thread Thread-53:\n",
      "Traceback (most recent call last):\n",
      "  File \"/home/emma/anaconda3/envs/testextension/lib/python3.8/threading.py\", line 932, in _bootstrap_inner\n",
      "    self.run()\n",
      "  File \"/home/emma/anaconda3/envs/testextension/lib/python3.8/threading.py\", line 870, in run\n",
      "    self._target(*self._args, **self._kwargs)\n",
      "  File \"/home/emma/anaconda3/envs/testextension/lib/python3.8/site-packages/socketio/server.py\", line 682, in _handle_event_internal\n",
      "    r = server._trigger_event(data[0], namespace, sid, *data[1:])\n",
      "  File \"/home/emma/anaconda3/envs/testextension/lib/python3.8/site-packages/socketio/server.py\", line 711, in _trigger_event\n",
      "    return self.handlers[namespace][event](*args)\n",
      "  File \"/home/emma/LLNL/nddav_nbextension/nddav_nbextension/nddavPackage.py\", line 104, in parsingMessage\n",
      "    registry.parsingMessage(msg)\n",
      "  File \"/home/emma/LLNL/nddav_nbextension/nddav_nbextension/hdanalysis/modules/ModuleUIRegistry.py\", line 65, in parsingMessage\n",
      "    self.addModule(uid, moduleName, listOfSignals)\n",
      "  File \"/home/emma/LLNL/nddav_nbextension/nddav_nbextension/hdanalysis/modules/ModuleUIRegistry.py\", line 94, in addModule\n",
      "    importlib.import_module(\"hdanalysis.modules.\"+moduleName),\n",
      "  File \"/home/emma/anaconda3/envs/testextension/lib/python3.8/importlib/__init__.py\", line 127, in import_module\n",
      "    return _bootstrap._gcd_import(name[level:], package, level)\n",
      "  File \"<frozen importlib._bootstrap>\", line 1014, in _gcd_import\n",
      "  File \"<frozen importlib._bootstrap>\", line 991, in _find_and_load\n",
      "  File \"<frozen importlib._bootstrap>\", line 961, in _find_and_load_unlocked\n",
      "  File \"<frozen importlib._bootstrap>\", line 219, in _call_with_frames_removed\n",
      "  File \"<frozen importlib._bootstrap>\", line 1014, in _gcd_import\n",
      "  File \"<frozen importlib._bootstrap>\", line 991, in _find_and_load\n",
      "  File \"<frozen importlib._bootstrap>\", line 961, in _find_and_load_unlocked\n",
      "  File \"<frozen importlib._bootstrap>\", line 219, in _call_with_frames_removed\n",
      "  File \"<frozen importlib._bootstrap>\", line 1014, in _gcd_import\n",
      "  File \"<frozen importlib._bootstrap>\", line 991, in _find_and_load\n",
      "  File \"<frozen importlib._bootstrap>\", line 973, in _find_and_load_unlocked\n",
      "ModuleNotFoundError: No module named 'hdanalysis'\n"
     ]
    },
    {
     "name": "stdout",
     "output_type": "stream",
     "text": [
      "####### parsingMessage #################### MSG.KEYS dict_keys(['type', 'uid', 'moduleName', 'listOfSignals'])\n",
      "add\n",
      "        addModule =>  TopospineModule div_295dd7d0-b282-11ea-bf6c-1dba6f7366b8 ['EGgraph', 'subselection', 'selectExt', 'brushedrange']\n"
     ]
    },
    {
     "name": "stderr",
     "output_type": "stream",
     "text": [
      "Exception in thread Thread-54:\n",
      "Traceback (most recent call last):\n",
      "  File \"/home/emma/anaconda3/envs/testextension/lib/python3.8/threading.py\", line 932, in _bootstrap_inner\n",
      "    self.run()\n",
      "  File \"/home/emma/anaconda3/envs/testextension/lib/python3.8/threading.py\", line 870, in run\n",
      "    self._target(*self._args, **self._kwargs)\n",
      "  File \"/home/emma/anaconda3/envs/testextension/lib/python3.8/site-packages/socketio/server.py\", line 682, in _handle_event_internal\n",
      "    r = server._trigger_event(data[0], namespace, sid, *data[1:])\n",
      "  File \"/home/emma/anaconda3/envs/testextension/lib/python3.8/site-packages/socketio/server.py\", line 711, in _trigger_event\n",
      "    return self.handlers[namespace][event](*args)\n",
      "  File \"/home/emma/LLNL/nddav_nbextension/nddav_nbextension/nddavPackage.py\", line 104, in parsingMessage\n",
      "    registry.parsingMessage(msg)\n",
      "  File \"/home/emma/LLNL/nddav_nbextension/nddav_nbextension/hdanalysis/modules/ModuleUIRegistry.py\", line 65, in parsingMessage\n",
      "    self.addModule(uid, moduleName, listOfSignals)\n",
      "  File \"/home/emma/LLNL/nddav_nbextension/nddav_nbextension/hdanalysis/modules/ModuleUIRegistry.py\", line 94, in addModule\n",
      "    importlib.import_module(\"hdanalysis.modules.\"+moduleName),\n",
      "  File \"/home/emma/anaconda3/envs/testextension/lib/python3.8/importlib/__init__.py\", line 127, in import_module\n",
      "    return _bootstrap._gcd_import(name[level:], package, level)\n",
      "  File \"<frozen importlib._bootstrap>\", line 1014, in _gcd_import\n",
      "  File \"<frozen importlib._bootstrap>\", line 991, in _find_and_load\n",
      "  File \"<frozen importlib._bootstrap>\", line 961, in _find_and_load_unlocked\n",
      "  File \"<frozen importlib._bootstrap>\", line 219, in _call_with_frames_removed\n",
      "  File \"<frozen importlib._bootstrap>\", line 1014, in _gcd_import\n",
      "  File \"<frozen importlib._bootstrap>\", line 991, in _find_and_load\n",
      "  File \"<frozen importlib._bootstrap>\", line 961, in _find_and_load_unlocked\n",
      "  File \"<frozen importlib._bootstrap>\", line 219, in _call_with_frames_removed\n",
      "  File \"<frozen importlib._bootstrap>\", line 1014, in _gcd_import\n",
      "  File \"<frozen importlib._bootstrap>\", line 991, in _find_and_load\n",
      "  File \"<frozen importlib._bootstrap>\", line 973, in _find_and_load_unlocked\n",
      "ModuleNotFoundError: No module named 'hdanalysis'\n"
     ]
    },
    {
     "name": "stdout",
     "output_type": "stream",
     "text": [
      "####### parsingMessage #################### MSG.KEYS dict_keys(['type', 'uid', 'moduleName', 'listOfSignals'])\n",
      "add\n",
      "        addModule =>  PlotModule div_295e9b20-b282-11ea-bf6c-1dba6f7366b8 ['data', 'subselection']\n"
     ]
    },
    {
     "name": "stderr",
     "output_type": "stream",
     "text": [
      "Exception in thread Thread-55:\n",
      "Traceback (most recent call last):\n",
      "  File \"/home/emma/anaconda3/envs/testextension/lib/python3.8/threading.py\", line 932, in _bootstrap_inner\n",
      "    self.run()\n",
      "  File \"/home/emma/anaconda3/envs/testextension/lib/python3.8/threading.py\", line 870, in run\n",
      "    self._target(*self._args, **self._kwargs)\n",
      "  File \"/home/emma/anaconda3/envs/testextension/lib/python3.8/site-packages/socketio/server.py\", line 682, in _handle_event_internal\n",
      "    r = server._trigger_event(data[0], namespace, sid, *data[1:])\n",
      "  File \"/home/emma/anaconda3/envs/testextension/lib/python3.8/site-packages/socketio/server.py\", line 711, in _trigger_event\n",
      "    return self.handlers[namespace][event](*args)\n",
      "  File \"/home/emma/LLNL/nddav_nbextension/nddav_nbextension/nddavPackage.py\", line 104, in parsingMessage\n",
      "    registry.parsingMessage(msg)\n",
      "  File \"/home/emma/LLNL/nddav_nbextension/nddav_nbextension/hdanalysis/modules/ModuleUIRegistry.py\", line 65, in parsingMessage\n",
      "    self.addModule(uid, moduleName, listOfSignals)\n",
      "  File \"/home/emma/LLNL/nddav_nbextension/nddav_nbextension/hdanalysis/modules/ModuleUIRegistry.py\", line 94, in addModule\n",
      "    importlib.import_module(\"hdanalysis.modules.\"+moduleName),\n",
      "  File \"/home/emma/anaconda3/envs/testextension/lib/python3.8/importlib/__init__.py\", line 127, in import_module\n",
      "    return _bootstrap._gcd_import(name[level:], package, level)\n",
      "  File \"<frozen importlib._bootstrap>\", line 1014, in _gcd_import\n",
      "  File \"<frozen importlib._bootstrap>\", line 991, in _find_and_load\n",
      "  File \"<frozen importlib._bootstrap>\", line 961, in _find_and_load_unlocked\n",
      "  File \"<frozen importlib._bootstrap>\", line 219, in _call_with_frames_removed\n",
      "  File \"<frozen importlib._bootstrap>\", line 1014, in _gcd_import\n",
      "  File \"<frozen importlib._bootstrap>\", line 991, in _find_and_load\n",
      "  File \"<frozen importlib._bootstrap>\", line 961, in _find_and_load_unlocked\n",
      "  File \"<frozen importlib._bootstrap>\", line 219, in _call_with_frames_removed\n",
      "  File \"<frozen importlib._bootstrap>\", line 1014, in _gcd_import\n",
      "  File \"<frozen importlib._bootstrap>\", line 991, in _find_and_load\n",
      "  File \"<frozen importlib._bootstrap>\", line 973, in _find_and_load_unlocked\n",
      "ModuleNotFoundError: No module named 'hdanalysis'\n"
     ]
    },
    {
     "name": "stdout",
     "output_type": "stream",
     "text": [
      "####### parsingMessage #################### MSG.KEYS dict_keys(['type', 'uid', 'moduleName', 'listOfSignals'])\n",
      "add\n",
      "        addModule =>  PlotModule div_295f3760-b282-11ea-bf6c-1dba6f7366b8 ['data', 'subselection', 'seg', 'embedding']\n"
     ]
    },
    {
     "name": "stderr",
     "output_type": "stream",
     "text": [
      "Exception in thread Thread-56:\n",
      "Traceback (most recent call last):\n",
      "  File \"/home/emma/anaconda3/envs/testextension/lib/python3.8/threading.py\", line 932, in _bootstrap_inner\n",
      "    self.run()\n",
      "  File \"/home/emma/anaconda3/envs/testextension/lib/python3.8/threading.py\", line 870, in run\n",
      "    self._target(*self._args, **self._kwargs)\n",
      "  File \"/home/emma/anaconda3/envs/testextension/lib/python3.8/site-packages/socketio/server.py\", line 682, in _handle_event_internal\n",
      "    r = server._trigger_event(data[0], namespace, sid, *data[1:])\n",
      "  File \"/home/emma/anaconda3/envs/testextension/lib/python3.8/site-packages/socketio/server.py\", line 711, in _trigger_event\n",
      "    return self.handlers[namespace][event](*args)\n",
      "  File \"/home/emma/LLNL/nddav_nbextension/nddav_nbextension/nddavPackage.py\", line 104, in parsingMessage\n",
      "    registry.parsingMessage(msg)\n",
      "  File \"/home/emma/LLNL/nddav_nbextension/nddav_nbextension/hdanalysis/modules/ModuleUIRegistry.py\", line 65, in parsingMessage\n",
      "    self.addModule(uid, moduleName, listOfSignals)\n",
      "  File \"/home/emma/LLNL/nddav_nbextension/nddav_nbextension/hdanalysis/modules/ModuleUIRegistry.py\", line 94, in addModule\n",
      "    importlib.import_module(\"hdanalysis.modules.\"+moduleName),\n",
      "  File \"/home/emma/anaconda3/envs/testextension/lib/python3.8/importlib/__init__.py\", line 127, in import_module\n",
      "    return _bootstrap._gcd_import(name[level:], package, level)\n",
      "  File \"<frozen importlib._bootstrap>\", line 1014, in _gcd_import\n",
      "  File \"<frozen importlib._bootstrap>\", line 991, in _find_and_load\n",
      "  File \"<frozen importlib._bootstrap>\", line 961, in _find_and_load_unlocked\n",
      "  File \"<frozen importlib._bootstrap>\", line 219, in _call_with_frames_removed\n",
      "  File \"<frozen importlib._bootstrap>\", line 1014, in _gcd_import\n",
      "  File \"<frozen importlib._bootstrap>\", line 991, in _find_and_load\n",
      "  File \"<frozen importlib._bootstrap>\", line 961, in _find_and_load_unlocked\n",
      "  File \"<frozen importlib._bootstrap>\", line 219, in _call_with_frames_removed\n",
      "  File \"<frozen importlib._bootstrap>\", line 1014, in _gcd_import\n",
      "  File \"<frozen importlib._bootstrap>\", line 991, in _find_and_load\n",
      "  File \"<frozen importlib._bootstrap>\", line 973, in _find_and_load_unlocked\n",
      "ModuleNotFoundError: No module named 'hdanalysis'\n"
     ]
    },
    {
     "name": "stdout",
     "output_type": "stream",
     "text": [
      "\n",
      "\n",
      "!!!!!!!!! socketIO disconnected !!!!!!!!\n",
      "\n",
      " 2c82751f4c564032b725d0fd5c5df65e\n"
     ]
    },
    {
     "name": "stderr",
     "output_type": "stream",
     "text": [
      "127.0.0.1 - - [19/Jun/2020 19:11:16] \"GET /socket.io/?EIO=3&transport=websocket&sid=2c82751f4c564032b725d0fd5c5df65e HTTP/1.1\" 200 0 6.747617\n",
      "127.0.0.1 - - [19/Jun/2020 19:11:16] \"GET /socket.io/?EIO=3&transport=polling&t=NBEsS2l HTTP/1.1\" 200 355 0.000413\n",
      "(21810) accepted ('127.0.0.1', 32770)\n",
      "127.0.0.1 - - [19/Jun/2020 19:11:16] \"GET /socket.io/?EIO=3&transport=polling&t=NBEsS3Q&sid=c04c66150e0e4676b87020eae3abbff2 HTTP/1.1\" 200 183 0.000173\n",
      "127.0.0.1 - - [19/Jun/2020 19:11:16] \"POST /socket.io/?EIO=3&transport=polling&t=NBEsS3M&sid=c04c66150e0e4676b87020eae3abbff2 HTTP/1.1\" 200 219 0.000294\n",
      "127.0.0.1 - - [19/Jun/2020 19:11:16] \"GET /socket.io/?EIO=3&transport=polling&t=NBEsS4b&sid=c04c66150e0e4676b87020eae3abbff2 HTTP/1.1\" 200 183 0.000167\n"
     ]
    },
    {
     "name": "stdout",
     "output_type": "stream",
     "text": [
      "####### parsingMessage #################### MSG.KEYS dict_keys(['type', 'name', 'uid'])\n",
      "subscribe\n",
      "subscribeData: componentLayout div_2d781b00-b282-11ea-8f1c-c5dc2e62e131\n",
      "data type:  <class 'dict'>\n",
      "converting py to js\n",
      "send to client: {'column': [{'row': ['Filtering', 'Neighborhood', 'Topological Spine']}, {'row': ['Parallel Coordinate', 'Scatter Plot']}]}  =>  {'data': {'column': [{'row': ['Filtering', 'Neighborhood', 'Topological Spine']}, {'row': ['Parallel Coordinate', 'Scatter Plot']}]}}\n",
      "sending to client\n",
      "####### parsingMessage #################### MSG.KEYS dict_keys(['type', 'name', 'uid'])\n",
      "####### parsingMessage #################### MSG.KEYS dict_keys(['type', 'uid', 'moduleName', 'listOfSignals'])\n",
      "add\n",
      "        addModule =>  DataModule div_2da3bee0-b282-11ea-8f1c-c5dc2e62e131 []\n"
     ]
    },
    {
     "name": "stderr",
     "output_type": "stream",
     "text": [
      "Exception in thread Thread-60:\n",
      "Traceback (most recent call last):\n",
      "  File \"/home/emma/anaconda3/envs/testextension/lib/python3.8/threading.py\", line 932, in _bootstrap_inner\n",
      "    self.run()\n",
      "  File \"/home/emma/anaconda3/envs/testextension/lib/python3.8/threading.py\", line 870, in run\n",
      "    self._target(*self._args, **self._kwargs)\n",
      "  File \"/home/emma/anaconda3/envs/testextension/lib/python3.8/site-packages/socketio/server.py\", line 682, in _handle_event_internal\n",
      "    r = server._trigger_event(data[0], namespace, sid, *data[1:])\n",
      "  File \"/home/emma/anaconda3/envs/testextension/lib/python3.8/site-packages/socketio/server.py\", line 711, in _trigger_event\n",
      "    return self.handlers[namespace][event](*args)\n",
      "  File \"/home/emma/LLNL/nddav_nbextension/nddav_nbextension/nddavPackage.py\", line 104, in parsingMessage\n",
      "    registry.parsingMessage(msg)\n",
      "  File \"/home/emma/LLNL/nddav_nbextension/nddav_nbextension/hdanalysis/modules/ModuleUIRegistry.py\", line 65, in parsingMessage\n",
      "    self.addModule(uid, moduleName, listOfSignals)\n",
      "  File \"/home/emma/LLNL/nddav_nbextension/nddav_nbextension/hdanalysis/modules/ModuleUIRegistry.py\", line 94, in addModule\n",
      "    importlib.import_module(\"hdanalysis.modules.\"+moduleName),\n",
      "  File \"/home/emma/anaconda3/envs/testextension/lib/python3.8/importlib/__init__.py\", line 127, in import_module\n",
      "    return _bootstrap._gcd_import(name[level:], package, level)\n",
      "  File \"<frozen importlib._bootstrap>\", line 1014, in _gcd_import\n",
      "  File \"<frozen importlib._bootstrap>\", line 991, in _find_and_load\n",
      "  File \"<frozen importlib._bootstrap>\", line 961, in _find_and_load_unlocked\n",
      "  File \"<frozen importlib._bootstrap>\", line 219, in _call_with_frames_removed\n",
      "  File \"<frozen importlib._bootstrap>\", line 1014, in _gcd_import\n",
      "  File \"<frozen importlib._bootstrap>\", line 991, in _find_and_load\n",
      "  File \"<frozen importlib._bootstrap>\", line 961, in _find_and_load_unlocked\n",
      "  File \"<frozen importlib._bootstrap>\", line 219, in _call_with_frames_removed\n",
      "  File \"<frozen importlib._bootstrap>\", line 1014, in _gcd_import\n",
      "  File \"<frozen importlib._bootstrap>\", line 991, in _find_and_load\n",
      "  File \"<frozen importlib._bootstrap>\", line 973, in _find_and_load_unlocked\n",
      "ModuleNotFoundError: No module named 'hdanalysis'\n"
     ]
    },
    {
     "name": "stdout",
     "output_type": "stream",
     "text": [
      "####### parsingMessage #################### MSG.KEYS dict_keys(['type', 'uid', 'moduleName', 'listOfSignals'])\n",
      "add\n",
      "        addModule =>  NeighborhoodModule div_2da67e00-b282-11ea-8f1c-c5dc2e62e131 []\n"
     ]
    },
    {
     "name": "stderr",
     "output_type": "stream",
     "text": [
      "Exception in thread Thread-61:\n",
      "Traceback (most recent call last):\n",
      "  File \"/home/emma/anaconda3/envs/testextension/lib/python3.8/threading.py\", line 932, in _bootstrap_inner\n",
      "    self.run()\n",
      "  File \"/home/emma/anaconda3/envs/testextension/lib/python3.8/threading.py\", line 870, in run\n",
      "    self._target(*self._args, **self._kwargs)\n",
      "  File \"/home/emma/anaconda3/envs/testextension/lib/python3.8/site-packages/socketio/server.py\", line 682, in _handle_event_internal\n",
      "    r = server._trigger_event(data[0], namespace, sid, *data[1:])\n",
      "  File \"/home/emma/anaconda3/envs/testextension/lib/python3.8/site-packages/socketio/server.py\", line 711, in _trigger_event\n",
      "    return self.handlers[namespace][event](*args)\n",
      "  File \"/home/emma/LLNL/nddav_nbextension/nddav_nbextension/nddavPackage.py\", line 104, in parsingMessage\n",
      "    registry.parsingMessage(msg)\n",
      "  File \"/home/emma/LLNL/nddav_nbextension/nddav_nbextension/hdanalysis/modules/ModuleUIRegistry.py\", line 65, in parsingMessage\n",
      "    self.addModule(uid, moduleName, listOfSignals)\n",
      "  File \"/home/emma/LLNL/nddav_nbextension/nddav_nbextension/hdanalysis/modules/ModuleUIRegistry.py\", line 94, in addModule\n",
      "    importlib.import_module(\"hdanalysis.modules.\"+moduleName),\n",
      "  File \"/home/emma/anaconda3/envs/testextension/lib/python3.8/importlib/__init__.py\", line 127, in import_module\n",
      "    return _bootstrap._gcd_import(name[level:], package, level)\n",
      "  File \"<frozen importlib._bootstrap>\", line 1014, in _gcd_import\n",
      "  File \"<frozen importlib._bootstrap>\", line 991, in _find_and_load\n",
      "  File \"<frozen importlib._bootstrap>\", line 961, in _find_and_load_unlocked\n",
      "  File \"<frozen importlib._bootstrap>\", line 219, in _call_with_frames_removed\n",
      "  File \"<frozen importlib._bootstrap>\", line 1014, in _gcd_import\n",
      "  File \"<frozen importlib._bootstrap>\", line 991, in _find_and_load\n",
      "  File \"<frozen importlib._bootstrap>\", line 961, in _find_and_load_unlocked\n",
      "  File \"<frozen importlib._bootstrap>\", line 219, in _call_with_frames_removed\n",
      "  File \"<frozen importlib._bootstrap>\", line 1014, in _gcd_import\n",
      "  File \"<frozen importlib._bootstrap>\", line 991, in _find_and_load\n",
      "  File \"<frozen importlib._bootstrap>\", line 973, in _find_and_load_unlocked\n",
      "ModuleNotFoundError: No module named 'hdanalysis'\n"
     ]
    },
    {
     "name": "stdout",
     "output_type": "stream",
     "text": [
      "####### parsingMessage #################### MSG.KEYS dict_keys(['type', 'uid', 'function', 'parameter'])\n",
      "Call\n",
      "uid:  div_2da67e00-b282-11ea-8f1c-c5dc2e62e131 function:  getModuleInfoDict parameter:  {}\n"
     ]
    },
    {
     "name": "stderr",
     "output_type": "stream",
     "text": [
      "Exception in thread Thread-62:\n",
      "Traceback (most recent call last):\n",
      "  File \"/home/emma/anaconda3/envs/testextension/lib/python3.8/threading.py\", line 932, in _bootstrap_inner\n",
      "    self.run()\n",
      "  File \"/home/emma/anaconda3/envs/testextension/lib/python3.8/threading.py\", line 870, in run\n",
      "    self._target(*self._args, **self._kwargs)\n",
      "  File \"/home/emma/anaconda3/envs/testextension/lib/python3.8/site-packages/socketio/server.py\", line 682, in _handle_event_internal\n",
      "    r = server._trigger_event(data[0], namespace, sid, *data[1:])\n",
      "  File \"/home/emma/anaconda3/envs/testextension/lib/python3.8/site-packages/socketio/server.py\", line 711, in _trigger_event\n",
      "    return self.handlers[namespace][event](*args)\n",
      "  File \"/home/emma/LLNL/nddav_nbextension/nddav_nbextension/nddavPackage.py\", line 104, in parsingMessage\n",
      "    registry.parsingMessage(msg)\n",
      "  File \"/home/emma/LLNL/nddav_nbextension/nddav_nbextension/hdanalysis/modules/ModuleUIRegistry.py\", line 60, in parsingMessage\n",
      "    self.callModule(uid, function, parameter)\n",
      "  File \"/home/emma/LLNL/nddav_nbextension/nddav_nbextension/hdanalysis/modules/ModuleUIRegistry.py\", line 218, in callModule\n",
      "    func = getattr(self.uid2Module[uid],function)\n",
      "KeyError: 'div_2da67e00-b282-11ea-8f1c-c5dc2e62e131'\n"
     ]
    },
    {
     "name": "stdout",
     "output_type": "stream",
     "text": [
      "####### parsingMessage #################### MSG.KEYS dict_keys(['type', 'uid', 'moduleName', 'listOfSignals'])\n",
      "add\n",
      "        addModule =>  EGModule -1 []\n"
     ]
    },
    {
     "name": "stderr",
     "output_type": "stream",
     "text": [
      "Exception in thread Thread-63:\n",
      "Traceback (most recent call last):\n",
      "  File \"/home/emma/anaconda3/envs/testextension/lib/python3.8/threading.py\", line 932, in _bootstrap_inner\n",
      "    self.run()\n",
      "  File \"/home/emma/anaconda3/envs/testextension/lib/python3.8/threading.py\", line 870, in run\n",
      "    self._target(*self._args, **self._kwargs)\n",
      "  File \"/home/emma/anaconda3/envs/testextension/lib/python3.8/site-packages/socketio/server.py\", line 682, in _handle_event_internal\n",
      "    r = server._trigger_event(data[0], namespace, sid, *data[1:])\n",
      "  File \"/home/emma/anaconda3/envs/testextension/lib/python3.8/site-packages/socketio/server.py\", line 711, in _trigger_event\n",
      "    return self.handlers[namespace][event](*args)\n",
      "  File \"/home/emma/LLNL/nddav_nbextension/nddav_nbextension/nddavPackage.py\", line 104, in parsingMessage\n",
      "    registry.parsingMessage(msg)\n",
      "  File \"/home/emma/LLNL/nddav_nbextension/nddav_nbextension/hdanalysis/modules/ModuleUIRegistry.py\", line 65, in parsingMessage\n",
      "    self.addModule(uid, moduleName, listOfSignals)\n",
      "  File \"/home/emma/LLNL/nddav_nbextension/nddav_nbextension/hdanalysis/modules/ModuleUIRegistry.py\", line 94, in addModule\n",
      "    importlib.import_module(\"hdanalysis.modules.\"+moduleName),\n",
      "  File \"/home/emma/anaconda3/envs/testextension/lib/python3.8/importlib/__init__.py\", line 127, in import_module\n",
      "    return _bootstrap._gcd_import(name[level:], package, level)\n",
      "  File \"<frozen importlib._bootstrap>\", line 1014, in _gcd_import\n",
      "  File \"<frozen importlib._bootstrap>\", line 991, in _find_and_load\n",
      "  File \"<frozen importlib._bootstrap>\", line 961, in _find_and_load_unlocked\n",
      "  File \"<frozen importlib._bootstrap>\", line 219, in _call_with_frames_removed\n",
      "  File \"<frozen importlib._bootstrap>\", line 1014, in _gcd_import\n",
      "  File \"<frozen importlib._bootstrap>\", line 991, in _find_and_load\n",
      "  File \"<frozen importlib._bootstrap>\", line 961, in _find_and_load_unlocked\n",
      "  File \"<frozen importlib._bootstrap>\", line 219, in _call_with_frames_removed\n",
      "  File \"<frozen importlib._bootstrap>\", line 1014, in _gcd_import\n",
      "  File \"<frozen importlib._bootstrap>\", line 991, in _find_and_load\n",
      "  File \"<frozen importlib._bootstrap>\", line 973, in _find_and_load_unlocked\n",
      "ModuleNotFoundError: No module named 'hdanalysis'\n"
     ]
    },
    {
     "name": "stdout",
     "output_type": "stream",
     "text": [
      "####### parsingMessage #################### MSG.KEYS dict_keys(['type', 'uid', 'moduleName', 'listOfSignals'])\n",
      "add\n",
      "        addModule =>  TopospineModule div_2da852c0-b282-11ea-8f1c-c5dc2e62e131 ['EGgraph', 'subselection', 'selectExt', 'brushedrange']\n"
     ]
    },
    {
     "name": "stderr",
     "output_type": "stream",
     "text": [
      "Exception in thread Thread-64:\n",
      "Traceback (most recent call last):\n",
      "  File \"/home/emma/anaconda3/envs/testextension/lib/python3.8/threading.py\", line 932, in _bootstrap_inner\n",
      "    self.run()\n",
      "  File \"/home/emma/anaconda3/envs/testextension/lib/python3.8/threading.py\", line 870, in run\n",
      "    self._target(*self._args, **self._kwargs)\n",
      "  File \"/home/emma/anaconda3/envs/testextension/lib/python3.8/site-packages/socketio/server.py\", line 682, in _handle_event_internal\n",
      "    r = server._trigger_event(data[0], namespace, sid, *data[1:])\n",
      "  File \"/home/emma/anaconda3/envs/testextension/lib/python3.8/site-packages/socketio/server.py\", line 711, in _trigger_event\n",
      "    return self.handlers[namespace][event](*args)\n",
      "  File \"/home/emma/LLNL/nddav_nbextension/nddav_nbextension/nddavPackage.py\", line 104, in parsingMessage\n",
      "    registry.parsingMessage(msg)\n",
      "  File \"/home/emma/LLNL/nddav_nbextension/nddav_nbextension/hdanalysis/modules/ModuleUIRegistry.py\", line 65, in parsingMessage\n",
      "    self.addModule(uid, moduleName, listOfSignals)\n",
      "  File \"/home/emma/LLNL/nddav_nbextension/nddav_nbextension/hdanalysis/modules/ModuleUIRegistry.py\", line 94, in addModule\n",
      "    importlib.import_module(\"hdanalysis.modules.\"+moduleName),\n",
      "  File \"/home/emma/anaconda3/envs/testextension/lib/python3.8/importlib/__init__.py\", line 127, in import_module\n",
      "    return _bootstrap._gcd_import(name[level:], package, level)\n",
      "  File \"<frozen importlib._bootstrap>\", line 1014, in _gcd_import\n",
      "  File \"<frozen importlib._bootstrap>\", line 991, in _find_and_load\n",
      "  File \"<frozen importlib._bootstrap>\", line 961, in _find_and_load_unlocked\n",
      "  File \"<frozen importlib._bootstrap>\", line 219, in _call_with_frames_removed\n",
      "  File \"<frozen importlib._bootstrap>\", line 1014, in _gcd_import\n",
      "  File \"<frozen importlib._bootstrap>\", line 991, in _find_and_load\n",
      "  File \"<frozen importlib._bootstrap>\", line 961, in _find_and_load_unlocked\n",
      "  File \"<frozen importlib._bootstrap>\", line 219, in _call_with_frames_removed\n",
      "  File \"<frozen importlib._bootstrap>\", line 1014, in _gcd_import\n",
      "  File \"<frozen importlib._bootstrap>\", line 991, in _find_and_load\n",
      "  File \"<frozen importlib._bootstrap>\", line 973, in _find_and_load_unlocked\n",
      "ModuleNotFoundError: No module named 'hdanalysis'\n"
     ]
    },
    {
     "name": "stdout",
     "output_type": "stream",
     "text": [
      "####### parsingMessage #################### MSG.KEYS dict_keys(['type', 'uid', 'moduleName', 'listOfSignals'])\n",
      "add\n",
      "        addModule =>  PlotModule div_2da93d20-b282-11ea-8f1c-c5dc2e62e131 ['data', 'subselection']\n"
     ]
    },
    {
     "name": "stderr",
     "output_type": "stream",
     "text": [
      "Exception in thread Thread-65:\n",
      "Traceback (most recent call last):\n",
      "  File \"/home/emma/anaconda3/envs/testextension/lib/python3.8/threading.py\", line 932, in _bootstrap_inner\n",
      "    self.run()\n",
      "  File \"/home/emma/anaconda3/envs/testextension/lib/python3.8/threading.py\", line 870, in run\n",
      "    self._target(*self._args, **self._kwargs)\n",
      "  File \"/home/emma/anaconda3/envs/testextension/lib/python3.8/site-packages/socketio/server.py\", line 682, in _handle_event_internal\n",
      "    r = server._trigger_event(data[0], namespace, sid, *data[1:])\n",
      "  File \"/home/emma/anaconda3/envs/testextension/lib/python3.8/site-packages/socketio/server.py\", line 711, in _trigger_event\n",
      "    return self.handlers[namespace][event](*args)\n",
      "  File \"/home/emma/LLNL/nddav_nbextension/nddav_nbextension/nddavPackage.py\", line 104, in parsingMessage\n",
      "    registry.parsingMessage(msg)\n",
      "  File \"/home/emma/LLNL/nddav_nbextension/nddav_nbextension/hdanalysis/modules/ModuleUIRegistry.py\", line 65, in parsingMessage\n",
      "    self.addModule(uid, moduleName, listOfSignals)\n",
      "  File \"/home/emma/LLNL/nddav_nbextension/nddav_nbextension/hdanalysis/modules/ModuleUIRegistry.py\", line 94, in addModule\n",
      "    importlib.import_module(\"hdanalysis.modules.\"+moduleName),\n",
      "  File \"/home/emma/anaconda3/envs/testextension/lib/python3.8/importlib/__init__.py\", line 127, in import_module\n",
      "    return _bootstrap._gcd_import(name[level:], package, level)\n",
      "  File \"<frozen importlib._bootstrap>\", line 1014, in _gcd_import\n",
      "  File \"<frozen importlib._bootstrap>\", line 991, in _find_and_load\n",
      "  File \"<frozen importlib._bootstrap>\", line 961, in _find_and_load_unlocked\n",
      "  File \"<frozen importlib._bootstrap>\", line 219, in _call_with_frames_removed\n",
      "  File \"<frozen importlib._bootstrap>\", line 1014, in _gcd_import\n",
      "  File \"<frozen importlib._bootstrap>\", line 991, in _find_and_load\n",
      "  File \"<frozen importlib._bootstrap>\", line 961, in _find_and_load_unlocked\n",
      "  File \"<frozen importlib._bootstrap>\", line 219, in _call_with_frames_removed\n",
      "  File \"<frozen importlib._bootstrap>\", line 1014, in _gcd_import\n",
      "  File \"<frozen importlib._bootstrap>\", line 991, in _find_and_load\n",
      "  File \"<frozen importlib._bootstrap>\", line 973, in _find_and_load_unlocked\n",
      "ModuleNotFoundError: No module named 'hdanalysis'\n"
     ]
    },
    {
     "name": "stdout",
     "output_type": "stream",
     "text": [
      "####### parsingMessage #################### MSG.KEYS dict_keys(['type', 'uid', 'moduleName', 'listOfSignals'])\n",
      "add\n",
      "        addModule =>  PlotModule div_2da96430-b282-11ea-8f1c-c5dc2e62e131 ['data', 'subselection', 'seg', 'embedding']\n"
     ]
    },
    {
     "name": "stderr",
     "output_type": "stream",
     "text": [
      "Exception in thread Thread-66:\n",
      "Traceback (most recent call last):\n",
      "  File \"/home/emma/anaconda3/envs/testextension/lib/python3.8/threading.py\", line 932, in _bootstrap_inner\n",
      "    self.run()\n",
      "  File \"/home/emma/anaconda3/envs/testextension/lib/python3.8/threading.py\", line 870, in run\n",
      "    self._target(*self._args, **self._kwargs)\n",
      "  File \"/home/emma/anaconda3/envs/testextension/lib/python3.8/site-packages/socketio/server.py\", line 682, in _handle_event_internal\n",
      "    r = server._trigger_event(data[0], namespace, sid, *data[1:])\n",
      "  File \"/home/emma/anaconda3/envs/testextension/lib/python3.8/site-packages/socketio/server.py\", line 711, in _trigger_event\n",
      "    return self.handlers[namespace][event](*args)\n",
      "  File \"/home/emma/LLNL/nddav_nbextension/nddav_nbextension/nddavPackage.py\", line 104, in parsingMessage\n",
      "    registry.parsingMessage(msg)\n",
      "  File \"/home/emma/LLNL/nddav_nbextension/nddav_nbextension/hdanalysis/modules/ModuleUIRegistry.py\", line 65, in parsingMessage\n",
      "    self.addModule(uid, moduleName, listOfSignals)\n",
      "  File \"/home/emma/LLNL/nddav_nbextension/nddav_nbextension/hdanalysis/modules/ModuleUIRegistry.py\", line 94, in addModule\n",
      "    importlib.import_module(\"hdanalysis.modules.\"+moduleName),\n",
      "  File \"/home/emma/anaconda3/envs/testextension/lib/python3.8/importlib/__init__.py\", line 127, in import_module\n",
      "    return _bootstrap._gcd_import(name[level:], package, level)\n",
      "  File \"<frozen importlib._bootstrap>\", line 1014, in _gcd_import\n",
      "  File \"<frozen importlib._bootstrap>\", line 991, in _find_and_load\n",
      "  File \"<frozen importlib._bootstrap>\", line 961, in _find_and_load_unlocked\n",
      "  File \"<frozen importlib._bootstrap>\", line 219, in _call_with_frames_removed\n",
      "  File \"<frozen importlib._bootstrap>\", line 1014, in _gcd_import\n",
      "  File \"<frozen importlib._bootstrap>\", line 991, in _find_and_load\n",
      "  File \"<frozen importlib._bootstrap>\", line 961, in _find_and_load_unlocked\n",
      "  File \"<frozen importlib._bootstrap>\", line 219, in _call_with_frames_removed\n",
      "  File \"<frozen importlib._bootstrap>\", line 1014, in _gcd_import\n",
      "  File \"<frozen importlib._bootstrap>\", line 991, in _find_and_load\n",
      "  File \"<frozen importlib._bootstrap>\", line 973, in _find_and_load_unlocked\n",
      "ModuleNotFoundError: No module named 'hdanalysis'\n"
     ]
    }
   ],
   "source": [
    "nddav.startServer()"
   ]
  },
  {
   "cell_type": "code",
   "execution_count": 7,
   "metadata": {},
   "outputs": [
    {
     "data": {
      "text/html": [
       "\n",
       "        <iframe\n",
       "            width=\"800\"\n",
       "            height=\"800\"\n",
       "            src=\"http://127.0.0.1:5000\"\n",
       "            frameborder=\"0\"\n",
       "            allowfullscreen\n",
       "        ></iframe>\n",
       "        "
      ],
      "text/plain": [
       "<IPython.lib.display.IFrame at 0x7efddd321970>"
      ]
     },
     "execution_count": 7,
     "metadata": {},
     "output_type": "execute_result"
    }
   ],
   "source": [
    "IFrame(src='http://127.0.0.1:5000', width=800, height=800)"
   ]
  },
  {
   "cell_type": "code",
   "execution_count": null,
   "metadata": {},
   "outputs": [],
   "source": []
  }
 ],
 "metadata": {
  "kernelspec": {
   "display_name": "Python 3",
   "language": "python",
   "name": "python3"
  },
  "language_info": {
   "codemirror_mode": {
    "name": "ipython",
    "version": 3
   },
   "file_extension": ".py",
   "mimetype": "text/x-python",
   "name": "python",
   "nbconvert_exporter": "python",
   "pygments_lexer": "ipython3",
   "version": "3.8.3"
  }
 },
 "nbformat": 4,
 "nbformat_minor": 4
}
