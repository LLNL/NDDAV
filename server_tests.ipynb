{
 "cells": [
  {
   "cell_type": "code",
   "execution_count": 13,
   "metadata": {},
   "outputs": [],
   "source": [
    "# required to load data from a filename or numpy array\n",
    "from nddav_nbextension import nddav_nbextension as nddav\n",
    "import numpy as np"
   ]
  },
  {
   "cell_type": "code",
   "execution_count": 2,
   "metadata": {},
   "outputs": [],
   "source": [
    "# additional requirements for loading an HDFileModule\n",
    "from nddav_nbextension.hdanalysis.modules.HDFileModule import *\n",
    "from nddav_nbextension.hdanalysis.core.DataContext import *"
   ]
  },
  {
   "cell_type": "code",
   "execution_count": 3,
   "metadata": {},
   "outputs": [],
   "source": [
    "# additional requirements for loading an hdff DataCollectionHandle\n",
    "from hdff import *"
   ]
  },
  {
   "cell_type": "code",
   "execution_count": 2,
   "metadata": {},
   "outputs": [],
   "source": [
    "# example of loading data from a file (can be .txt or .hdff)\n",
    "# you can either specify a path: ex) '/home/username/project-data/terrain1.txt'\n",
    "# or move the file you want to the 'data' directory and just give the name of the file: ex) 'terrain1.txt'\n",
    "filename = 'terrain1.txt'"
   ]
  },
  {
   "cell_type": "code",
   "execution_count": 3,
   "metadata": {},
   "outputs": [
    {
     "name": "stdout",
     "output_type": "stream",
     "text": [
      "{}\n"
     ]
    },
    {
     "name": "stderr",
     "output_type": "stream",
     "text": [
      "(29935) wsgi starting up on http://127.0.0.1:51671\n",
      "(29935) accepted ('127.0.0.1', 49352)\n",
      "127.0.0.1 - - [16/Jul/2020 18:52:57] \"HEAD / HTTP/1.1\" 200 310 0.002064\n"
     ]
    },
    {
     "name": "stdout",
     "output_type": "stream",
     "text": [
      "29935\n"
     ]
    },
    {
     "name": "stderr",
     "output_type": "stream",
     "text": [
      "(29935) accepted ('127.0.0.1', 49358)\n",
      "127.0.0.1 - - [16/Jul/2020 18:52:58] \"GET / HTTP/1.1\" 200 7370 0.000618\n",
      "127.0.0.1 - - [16/Jul/2020 18:52:58] \"GET /static/css/bootstrap.min.css HTTP/1.1\" 200 151309 0.001503\n",
      "127.0.0.1 - - [16/Jul/2020 18:52:58] \"GET /static/css/scatter.css HTTP/1.1\" 200 358 0.000770\n",
      "127.0.0.1 - - [16/Jul/2020 18:52:58] \"GET /static/lib/d3.v3.min.js HTTP/1.1\" 200 152052 0.001114\n",
      "127.0.0.1 - - [16/Jul/2020 18:52:58] \"GET /static/lib/jquery.min.js HTTP/1.1\" 200 97488 0.001060\n",
      "127.0.0.1 - - [16/Jul/2020 18:52:58] \"GET /static/lib/tether.min.js HTTP/1.1\" 200 23708 0.000865\n",
      "127.0.0.1 - - [16/Jul/2020 18:52:58] \"GET /static/lib/bootstrap.min.js HTTP/1.1\" 200 46978 0.000649\n",
      "(29935) accepted ('127.0.0.1', 49364)\n",
      "(29935) accepted ('127.0.0.1', 49366)\n",
      "(29935) accepted ('127.0.0.1', 49368)\n",
      "(29935) accepted ('127.0.0.1', 49370)\n",
      "(29935) accepted ('127.0.0.1', 49372)\n",
      "127.0.0.1 - - [16/Jul/2020 18:52:58] \"GET /static/css/goldenlayout-light-theme.css HTTP/1.1\" 200 105028 0.000794\n",
      "127.0.0.1 - - [16/Jul/2020 18:52:58] \"GET /static/lib/goldenlayout.min.js HTTP/1.1\" 200 56489 0.000799\n",
      "127.0.0.1 - - [16/Jul/2020 18:52:58] \"GET /static/lib/socket.io.min.js HTTP/1.1\" 200 72527 0.000732\n",
      "127.0.0.1 - - [16/Jul/2020 18:52:58] \"GET /static/lib/chroma.min.js HTTP/1.1\" 200 34024 0.000759\n",
      "127.0.0.1 - - [16/Jul/2020 18:52:58] \"GET /static/css/goldenlayout-base.css HTTP/1.1\" 200 3078 0.001014\n",
      "127.0.0.1 - - [16/Jul/2020 18:52:58] \"GET /static/lib/utilityFunctions.js HTTP/1.1\" 200 462 0.000911\n",
      "127.0.0.1 - - [16/Jul/2020 18:52:58] \"GET /static/lib/mustache.min.js HTTP/1.1\" 200 9850 0.001049\n",
      "127.0.0.1 - - [16/Jul/2020 18:52:58] \"GET /static/lib/clipper.js HTTP/1.1\" 200 138532 0.001040\n",
      "127.0.0.1 - - [16/Jul/2020 18:52:58] \"GET /static/lib/uuidv1.js HTTP/1.1\" 200 2655 0.000830\n",
      "127.0.0.1 - - [16/Jul/2020 18:52:58] \"GET /static/lib/d3.centerScale.js HTTP/1.1\" 200 2077 0.000837\n",
      "127.0.0.1 - - [16/Jul/2020 18:52:58] \"GET /static/lib/d3-ForceEdgeBundling.js HTTP/1.1\" 200 13724 0.000789\n",
      "127.0.0.1 - - [16/Jul/2020 18:52:58] \"GET /static/css/app.css HTTP/1.1\" 200 2543 0.001122\n",
      "127.0.0.1 - - [16/Jul/2020 18:52:58] \"GET /static/lib/fabric.min.js HTTP/1.1\" 200 261653 0.001902\n",
      "127.0.0.1 - - [16/Jul/2020 18:52:58] \"GET /static/lib/d3UIitemSelector.js HTTP/1.1\" 200 3409 0.000703\n",
      "127.0.0.1 - - [16/Jul/2020 18:52:58] \"GET /static/lib/d3UIslider.js HTTP/1.1\" 200 3097 0.000705\n",
      "127.0.0.1 - - [16/Jul/2020 18:52:58] \"GET /static/lib/d3UIcolorMap.js HTTP/1.1\" 200 6461 0.000782\n",
      "127.0.0.1 - - [16/Jul/2020 18:52:58] \"GET /static/lib/d3UIglyph.js HTTP/1.1\" 200 12232 0.001013\n",
      "127.0.0.1 - - [16/Jul/2020 18:52:58] \"GET /static/css/d3.parcoords.css HTTP/1.1\" 200 950 0.001000\n",
      "127.0.0.1 - - [16/Jul/2020 18:52:58] \"GET /static/lib/d3.parcoords.js HTTP/1.1\" 200 72457 0.001175\n",
      "127.0.0.1 - - [16/Jul/2020 18:52:58] \"GET /static/lib/parallel.js HTTP/1.1\" 200 90077 0.000910\n",
      "127.0.0.1 - - [16/Jul/2020 18:52:58] \"GET /static/plots/basePlot.js HTTP/1.1\" 200 1178 0.000718\n",
      "127.0.0.1 - - [16/Jul/2020 18:52:58] \"GET /static/plots/scatterplots.js HTTP/1.1\" 200 13222 0.000956\n",
      "127.0.0.1 - - [16/Jul/2020 18:52:58] \"GET /static/css/slider.css HTTP/1.1\" 200 372 0.001237\n",
      "127.0.0.1 - - [16/Jul/2020 18:52:58] \"GET /static/plots/parallelcoordinatesPlot.js HTTP/1.1\" 200 5960 0.001038\n",
      "127.0.0.1 - - [16/Jul/2020 18:52:58] \"GET /static/plots/summaryparallelcoordinatesPlot.js HTTP/1.1\" 200 11536 0.000709\n",
      "127.0.0.1 - - [16/Jul/2020 18:52:58] \"GET /static/plots/heatmapPlot.js HTTP/1.1\" 200 3566 0.000794\n",
      "127.0.0.1 - - [16/Jul/2020 18:52:58] \"GET /static/plots/persistencePlot.js HTTP/1.1\" 200 11710 0.000978\n",
      "127.0.0.1 - - [16/Jul/2020 18:52:58] \"GET /static/plots/topospinesPlot.js HTTP/1.1\" 200 25707 0.000884\n",
      "127.0.0.1 - - [16/Jul/2020 18:52:58] \"GET /static/lib/vectorious.min.js HTTP/1.1\" 200 13938 0.000968\n",
      "127.0.0.1 - - [16/Jul/2020 18:52:59] \"GET /static/plots/optimalAxisAlignPlot.js HTTP/1.1\" 200 15625 0.001224\n",
      "127.0.0.1 - - [16/Jul/2020 18:52:59] \"GET /static/plots/dynamicProjPlot.js HTTP/1.1\" 200 4342 0.001163\n",
      "127.0.0.1 - - [16/Jul/2020 18:52:59] \"GET /static/plots/peelingPlot.js HTTP/1.1\" 200 412 0.000723\n",
      "127.0.0.1 - - [16/Jul/2020 18:52:59] \"GET /static/components/baseComponent.js HTTP/1.1\" 200 3651 0.000620\n",
      "127.0.0.1 - - [16/Jul/2020 18:52:59] \"GET /static/components/filterComponent.js HTTP/1.1\" 200 5032 0.000805\n",
      "127.0.0.1 - - [16/Jul/2020 18:52:59] \"GET /static/components/hdfileComponent.js HTTP/1.1\" 200 1450 0.000699\n",
      "127.0.0.1 - - [16/Jul/2020 18:52:59] \"GET /static/components/neighborhoodComponent.js HTTP/1.1\" 200 1721 0.000785\n",
      "127.0.0.1 - - [16/Jul/2020 18:52:59] \"GET /static/components/dimensionReductionComponent.js HTTP/1.1\" 200 1441 0.000991\n",
      "127.0.0.1 - - [16/Jul/2020 18:52:59] \"GET /static/components/clusteringComponent.js HTTP/1.1\" 200 2107 0.000958\n",
      "127.0.0.1 - - [16/Jul/2020 18:52:59] \"GET /static/components/tableComponent.js HTTP/1.1\" 200 2280 0.000900\n",
      "127.0.0.1 - - [16/Jul/2020 18:52:59] \"GET /static/components/parallelcoordinatesComponent.js HTTP/1.1\" 200 2284 0.000964\n",
      "127.0.0.1 - - [16/Jul/2020 18:52:59] \"GET /static/components/topospineComponent.js HTTP/1.1\" 200 5022 0.000898\n",
      "127.0.0.1 - - [16/Jul/2020 18:52:59] \"GET /static/components/summaryparallelcoordinatesComponent.js HTTP/1.1\" 200 2100 0.000833\n",
      "127.0.0.1 - - [16/Jul/2020 18:52:59] \"GET /static/components/summaryscatterplotsComponent.js HTTP/1.1\" 200 2578 0.000811\n",
      "127.0.0.1 - - [16/Jul/2020 18:52:59] \"GET /static/components/funcDistComponent.js HTTP/1.1\" 200 1477 0.000918\n",
      "127.0.0.1 - - [16/Jul/2020 18:52:59] \"GET /static/components/optimalAxisAlignComponent.js HTTP/1.1\" 200 1476 0.000673\n",
      "127.0.0.1 - - [16/Jul/2020 18:52:59] \"GET /static/components/dynamicProjComponent.js HTTP/1.1\" 200 2000 0.000651\n",
      "127.0.0.1 - - [16/Jul/2020 18:52:59] \"GET /static/components/peakShapeComponent.js HTTP/1.1\" 200 3268 0.000733\n",
      "127.0.0.1 - - [16/Jul/2020 18:52:59] \"GET /static/components/scatterplotPeelingComponent.js HTTP/1.1\" 200 2368 0.001051\n",
      "127.0.0.1 - - [16/Jul/2020 18:52:59] \"GET /static/components/imageComponent.js HTTP/1.1\" 200 5689 0.000904\n",
      "127.0.0.1 - - [16/Jul/2020 18:52:59] \"GET /static/components/viewGraphComponenet.js HTTP/1.1\" 200 6452 0.000680\n",
      "127.0.0.1 - - [16/Jul/2020 18:52:59] \"GET /static/glayout.js HTTP/1.1\" 200 4673 0.000774\n",
      "127.0.0.1 - - [16/Jul/2020 18:52:59] \"GET /static/main.js HTTP/1.1\" 200 4958 0.000932\n",
      "127.0.0.1 - - [16/Jul/2020 18:52:59] \"GET /static/lib/d3CheckBox.js HTTP/1.1\" 200 2880 0.001071\n",
      "127.0.0.1 - - [16/Jul/2020 18:52:59] \"GET /static/plots/summaryscatterplots.js HTTP/1.1\" 200 29491 0.000947\n",
      "127.0.0.1 - - [16/Jul/2020 18:52:59] \"GET /static/plots/slabPlot.js HTTP/1.1\" 200 16192 0.001113\n",
      "127.0.0.1 - - [16/Jul/2020 18:52:59] \"GET /static/components/multiTopospineComponent.js HTTP/1.1\" 200 2299 0.000986\n",
      "127.0.0.1 - - [16/Jul/2020 18:52:59] \"GET /static/components/scatterplotsComponent.js HTTP/1.1\" 200 2485 0.000913\n",
      "127.0.0.1 - - [16/Jul/2020 18:52:59] \"GET /socket.io/?EIO=3&transport=polling&t=NDPrBNh HTTP/1.1\" 200 355 0.000898\n",
      "(29935) accepted ('127.0.0.1', 49512)\n",
      "127.0.0.1 - - [16/Jul/2020 18:52:59] \"POST /socket.io/?EIO=3&transport=polling&t=NDPrBOh&sid=09b7521af65c40fca5101bd264207337 HTTP/1.1\" 200 220 0.000250\n",
      "127.0.0.1 - - [16/Jul/2020 18:52:59] \"GET /socket.io/?EIO=3&transport=polling&t=NDPrBOl&sid=09b7521af65c40fca5101bd264207337 HTTP/1.1\" 200 183 0.000133\n",
      "127.0.0.1 - - [16/Jul/2020 18:52:59] \"GET /neighborhood_view HTTP/1.1\" 200 1209 0.003477\n",
      "127.0.0.1 - - [16/Jul/2020 18:52:59] \"GET /template_view HTTP/1.1\" 200 347 0.003165\n",
      "127.0.0.1 - - [16/Jul/2020 18:52:59] \"GET /template_view HTTP/1.1\" 200 347 0.002226\n",
      "127.0.0.1 - - [16/Jul/2020 18:52:59] \"GET /template_view HTTP/1.1\" 200 347 0.002733\n"
     ]
    },
    {
     "name": "stdout",
     "output_type": "stream",
     "text": [
      "adding data\n",
      "adding file\n",
      "====== DataModule.__init__ <nddav_nbextension.hdanalysis.core.DataContext.DataContext object at 0x7f2aa2f2dc70> None None\n",
      "loading data in ModuleUIRegistry\n",
      "loading data in DataModule\n",
      "============= DataModule.computeFunction:\n",
      "  <class 'nddav_nbextension.hdanalysis.core.HDData.HDData'>\n",
      "['X0', 'X1'] X2\n",
      "none\n"
     ]
    },
    {
     "name": "stderr",
     "output_type": "stream",
     "text": [
      "/home/emma/LLNL/nddav_nbextension/nddav_nbextension/hdanalysis/core/HDWarning.py:4: HDWarning: Pointset not a function\n",
      "  warnings.warn(HDWarning(short,doc))\n"
     ]
    },
    {
     "name": "stdout",
     "output_type": "stream",
     "text": [
      "\n",
      "============ computeNeighborhood(self,function): ============\n",
      "\n",
      "construct_neighborhood :  RelaxedGabriel 20 0.7071067811865475 none\n",
      "######### TopospineModule::initTopoSpine ########\n"
     ]
    },
    {
     "name": "stderr",
     "output_type": "stream",
     "text": [
      "Warning: bad edge len \"0.0\" in ER - setting to 1.00\n"
     ]
    }
   ],
   "source": [
    "# the jsonLayout argument can either be the name of a file in the config/ directory\n",
    "# or a full path to a json file elsewhere on your machine\n",
    "display = nddav.createDisplay(layout=\"sample\", port=5000, data=filename)"
   ]
  },
  {
   "cell_type": "code",
   "execution_count": 4,
   "metadata": {},
   "outputs": [
    {
     "data": {
      "application/vnd.jupyter.widget-view+json": {
       "model_id": "22f9228c125b4099abdb2270f646cbc1",
       "version_major": 2,
       "version_minor": 0
      },
      "text/plain": [
       "NDDAVDisplay()"
      ]
     },
     "metadata": {},
     "output_type": "display_data"
    }
   ],
   "source": [
    "display"
   ]
  },
  {
   "cell_type": "code",
   "execution_count": 12,
   "metadata": {},
   "outputs": [],
   "source": [
    "#example of loading data from a numpy array\n",
    "filename = 'data/terrain1.txt'\n",
    "\n",
    "file = open(filename, 'r')\n",
    "dim = len(file.readline().split())\n",
    "file.close()\n",
    "\n",
    "contents = np.loadtxt(filename, dtype=np.float32)\n",
    "num_rows = int(len(contents)/3)\n",
    "contents = np.array(contents).astype(np.float32)"
   ]
  },
  {
   "cell_type": "code",
   "execution_count": 14,
   "metadata": {},
   "outputs": [
    {
     "data": {
      "text/plain": [
       "(1000, 3)"
      ]
     },
     "execution_count": 14,
     "metadata": {},
     "output_type": "execute_result"
    }
   ],
   "source": [
    "np.shape(contents)"
   ]
  },
  {
   "cell_type": "code",
   "execution_count": 13,
   "metadata": {},
   "outputs": [
    {
     "name": "stderr",
     "output_type": "stream",
     "text": [
      "(24002) wsgi starting up on http://127.0.0.1:44385\n",
      "(24002) accepted ('127.0.0.1', 54554)\n",
      "127.0.0.1 - - [16/Jul/2020 16:57:30] \"HEAD / HTTP/1.1\" 200 310 0.002331\n"
     ]
    },
    {
     "name": "stdout",
     "output_type": "stream",
     "text": [
      "24002\n"
     ]
    },
    {
     "name": "stderr",
     "output_type": "stream",
     "text": [
      "(24002) accepted ('127.0.0.1', 54564)\n",
      "127.0.0.1 - - [16/Jul/2020 16:57:36] \"GET / HTTP/1.1\" 200 7370 0.000629\n",
      "127.0.0.1 - - [16/Jul/2020 16:57:37] \"GET /static/css/bootstrap.min.css HTTP/1.1\" 200 151309 0.001621\n",
      "127.0.0.1 - - [16/Jul/2020 16:57:37] \"GET /static/css/scatter.css HTTP/1.1\" 200 358 0.000877\n",
      "127.0.0.1 - - [16/Jul/2020 16:57:37] \"GET /static/lib/d3.v3.min.js HTTP/1.1\" 200 152052 0.001705\n",
      "127.0.0.1 - - [16/Jul/2020 16:57:37] \"GET /static/lib/jquery.min.js HTTP/1.1\" 200 97488 0.001236\n",
      "(24002) accepted ('127.0.0.1', 54570)\n",
      "(24002) accepted ('127.0.0.1', 54572)\n",
      "(24002) accepted ('127.0.0.1', 54574)\n",
      "(24002) accepted ('127.0.0.1', 54576)\n",
      "(24002) accepted ('127.0.0.1', 54578)\n",
      "127.0.0.1 - - [16/Jul/2020 16:57:37] \"GET /static/css/goldenlayout-base.css HTTP/1.1\" 200 3078 0.000820\n",
      "127.0.0.1 - - [16/Jul/2020 16:57:37] \"GET /static/lib/tether.min.js HTTP/1.1\" 200 23708 0.001009\n",
      "127.0.0.1 - - [16/Jul/2020 16:57:37] \"GET /static/lib/bootstrap.min.js HTTP/1.1\" 200 46978 0.001056\n",
      "127.0.0.1 - - [16/Jul/2020 16:57:37] \"GET /static/css/goldenlayout-light-theme.css HTTP/1.1\" 200 105028 0.001280\n",
      "127.0.0.1 - - [16/Jul/2020 16:57:37] \"GET /static/lib/goldenlayout.min.js HTTP/1.1\" 200 56489 0.000885\n",
      "127.0.0.1 - - [16/Jul/2020 16:57:37] \"GET /static/lib/socket.io.min.js HTTP/1.1\" 200 72527 0.001261\n",
      "127.0.0.1 - - [16/Jul/2020 16:57:37] \"GET /static/lib/chroma.min.js HTTP/1.1\" 200 34024 0.000766\n",
      "127.0.0.1 - - [16/Jul/2020 16:57:37] \"GET /static/css/d3.parcoords.css HTTP/1.1\" 200 950 0.000759\n",
      "127.0.0.1 - - [16/Jul/2020 16:57:37] \"GET /static/lib/mustache.min.js HTTP/1.1\" 200 9850 0.001071\n",
      "127.0.0.1 - - [16/Jul/2020 16:57:37] \"GET /static/lib/clipper.js HTTP/1.1\" 200 138532 0.001636\n",
      "127.0.0.1 - - [16/Jul/2020 16:57:37] \"GET /static/lib/uuidv1.js HTTP/1.1\" 200 2655 0.001202\n",
      "127.0.0.1 - - [16/Jul/2020 16:57:37] \"GET /static/lib/d3.centerScale.js HTTP/1.1\" 200 2077 0.001153\n",
      "127.0.0.1 - - [16/Jul/2020 16:57:37] \"GET /static/lib/d3-ForceEdgeBundling.js HTTP/1.1\" 200 13724 0.000916\n",
      "127.0.0.1 - - [16/Jul/2020 16:57:37] \"GET /static/css/app.css HTTP/1.1\" 200 2543 0.001190\n",
      "127.0.0.1 - - [16/Jul/2020 16:57:37] \"GET /static/lib/vectorious.min.js HTTP/1.1\" 200 13938 0.001182\n",
      "127.0.0.1 - - [16/Jul/2020 16:57:37] \"GET /static/lib/d3UIitemSelector.js HTTP/1.1\" 200 3409 0.001042\n",
      "127.0.0.1 - - [16/Jul/2020 16:57:37] \"GET /static/lib/d3UIslider.js HTTP/1.1\" 200 3097 0.000897\n",
      "127.0.0.1 - - [16/Jul/2020 16:57:37] \"GET /static/lib/d3UIglyph.js HTTP/1.1\" 200 12232 0.001008\n",
      "127.0.0.1 - - [16/Jul/2020 16:57:37] \"GET /static/css/slider.css HTTP/1.1\" 200 372 0.000915\n",
      "127.0.0.1 - - [16/Jul/2020 16:57:37] \"GET /static/lib/d3.parcoords.js HTTP/1.1\" 200 72457 0.000974\n",
      "127.0.0.1 - - [16/Jul/2020 16:57:37] \"GET /static/lib/d3CheckBox.js HTTP/1.1\" 200 2880 0.000720\n",
      "127.0.0.1 - - [16/Jul/2020 16:57:37] \"GET /static/lib/parallel.js HTTP/1.1\" 200 90077 0.002363\n",
      "127.0.0.1 - - [16/Jul/2020 16:57:37] \"GET /static/plots/basePlot.js HTTP/1.1\" 200 1178 0.001074\n",
      "127.0.0.1 - - [16/Jul/2020 16:57:37] \"GET /static/plots/scatterplots.js HTTP/1.1\" 200 13222 0.001119\n",
      "127.0.0.1 - - [16/Jul/2020 16:57:37] \"GET /static/lib/utilityFunctions.js HTTP/1.1\" 200 462 0.001040\n",
      "127.0.0.1 - - [16/Jul/2020 16:57:37] \"GET /static/plots/summaryscatterplots.js HTTP/1.1\" 200 29491 0.001418\n",
      "127.0.0.1 - - [16/Jul/2020 16:57:37] \"GET /static/lib/d3UIcolorMap.js HTTP/1.1\" 200 6461 0.000893\n",
      "127.0.0.1 - - [16/Jul/2020 16:57:37] \"GET /static/plots/summaryparallelcoordinatesPlot.js HTTP/1.1\" 200 11536 0.001032\n",
      "127.0.0.1 - - [16/Jul/2020 16:57:37] \"GET /static/lib/fabric.min.js HTTP/1.1\" 200 261653 0.001810\n",
      "127.0.0.1 - - [16/Jul/2020 16:57:37] \"GET /static/plots/parallelcoordinatesPlot.js HTTP/1.1\" 200 5960 0.000630\n",
      "127.0.0.1 - - [16/Jul/2020 16:57:37] \"GET /static/plots/persistencePlot.js HTTP/1.1\" 200 11710 0.002069\n",
      "127.0.0.1 - - [16/Jul/2020 16:57:37] \"GET /static/plots/heatmapPlot.js HTTP/1.1\" 200 3566 0.000820\n",
      "127.0.0.1 - - [16/Jul/2020 16:57:37] \"GET /static/plots/topospinesPlot.js HTTP/1.1\" 200 25707 0.000955\n",
      "127.0.0.1 - - [16/Jul/2020 16:57:37] \"GET /static/plots/optimalAxisAlignPlot.js HTTP/1.1\" 200 15625 0.000772\n",
      "127.0.0.1 - - [16/Jul/2020 16:57:37] \"GET /static/plots/dynamicProjPlot.js HTTP/1.1\" 200 4342 0.000630\n",
      "127.0.0.1 - - [16/Jul/2020 16:57:37] \"GET /static/plots/slabPlot.js HTTP/1.1\" 200 16192 0.001264\n",
      "127.0.0.1 - - [16/Jul/2020 16:57:37] \"GET /static/plots/peelingPlot.js HTTP/1.1\" 200 412 0.000706\n",
      "127.0.0.1 - - [16/Jul/2020 16:57:37] \"GET /static/components/filterComponent.js HTTP/1.1\" 200 5032 0.000856\n",
      "127.0.0.1 - - [16/Jul/2020 16:57:37] \"GET /static/components/hdfileComponent.js HTTP/1.1\" 200 1450 0.000938\n",
      "127.0.0.1 - - [16/Jul/2020 16:57:37] \"GET /static/components/dimensionReductionComponent.js HTTP/1.1\" 200 1441 0.001062\n",
      "127.0.0.1 - - [16/Jul/2020 16:57:37] \"GET /static/components/tableComponent.js HTTP/1.1\" 200 2280 0.001210\n",
      "127.0.0.1 - - [16/Jul/2020 16:57:37] \"GET /static/components/scatterplotsComponent.js HTTP/1.1\" 200 2485 0.001035\n",
      "127.0.0.1 - - [16/Jul/2020 16:57:37] \"GET /static/components/topospineComponent.js HTTP/1.1\" 200 5022 0.001112\n",
      "127.0.0.1 - - [16/Jul/2020 16:57:37] \"GET /static/components/summaryparallelcoordinatesComponent.js HTTP/1.1\" 200 2100 0.001053\n",
      "127.0.0.1 - - [16/Jul/2020 16:57:37] \"GET /static/components/multiTopospineComponent.js HTTP/1.1\" 200 2299 0.000889\n",
      "127.0.0.1 - - [16/Jul/2020 16:57:37] \"GET /static/components/funcDistComponent.js HTTP/1.1\" 200 1477 0.000733\n",
      "127.0.0.1 - - [16/Jul/2020 16:57:37] \"GET /static/components/optimalAxisAlignComponent.js HTTP/1.1\" 200 1476 0.000901\n",
      "127.0.0.1 - - [16/Jul/2020 16:57:37] \"GET /static/components/dynamicProjComponent.js HTTP/1.1\" 200 2000 0.000950\n",
      "127.0.0.1 - - [16/Jul/2020 16:57:37] \"GET /static/components/peakShapeComponent.js HTTP/1.1\" 200 3268 0.001200\n",
      "127.0.0.1 - - [16/Jul/2020 16:57:37] \"GET /static/components/scatterplotPeelingComponent.js HTTP/1.1\" 200 2368 0.000669\n",
      "127.0.0.1 - - [16/Jul/2020 16:57:37] \"GET /static/components/imageComponent.js HTTP/1.1\" 200 5689 0.000660\n",
      "127.0.0.1 - - [16/Jul/2020 16:57:37] \"GET /static/components/viewGraphComponenet.js HTTP/1.1\" 200 6452 0.000907\n",
      "127.0.0.1 - - [16/Jul/2020 16:57:37] \"GET /static/glayout.js HTTP/1.1\" 200 4673 0.000918\n",
      "127.0.0.1 - - [16/Jul/2020 16:57:37] \"GET /static/main.js HTTP/1.1\" 200 4958 0.000981\n",
      "127.0.0.1 - - [16/Jul/2020 16:57:37] \"GET /static/components/baseComponent.js HTTP/1.1\" 200 3651 0.000979\n",
      "127.0.0.1 - - [16/Jul/2020 16:57:37] \"GET /static/components/neighborhoodComponent.js HTTP/1.1\" 200 1721 0.001122\n",
      "127.0.0.1 - - [16/Jul/2020 16:57:37] \"GET /static/components/parallelcoordinatesComponent.js HTTP/1.1\" 200 2284 0.000888\n",
      "127.0.0.1 - - [16/Jul/2020 16:57:37] \"GET /static/components/summaryscatterplotsComponent.js HTTP/1.1\" 200 2578 0.001180\n",
      "127.0.0.1 - - [16/Jul/2020 16:57:37] \"GET /static/components/clusteringComponent.js HTTP/1.1\" 200 2107 0.000889\n",
      "127.0.0.1 - - [16/Jul/2020 16:57:38] \"GET /socket.io/?EIO=3&transport=polling&t=NDPQneM HTTP/1.1\" 200 355 0.000893\n",
      "(24002) accepted ('127.0.0.1', 54718)\n",
      "127.0.0.1 - - [16/Jul/2020 16:57:38] \"GET /socket.io/?EIO=3&transport=polling&t=NDPQnfL&sid=e427224ed7044bdb9f333b052dbcaaae HTTP/1.1\" 200 183 0.000153\n",
      "127.0.0.1 - - [16/Jul/2020 16:57:38] \"POST /socket.io/?EIO=3&transport=polling&t=NDPQnfI&sid=e427224ed7044bdb9f333b052dbcaaae HTTP/1.1\" 200 220 0.000308\n",
      "127.0.0.1 - - [16/Jul/2020 16:57:38] \"GET /socket.io/?EIO=3&transport=polling&t=NDPQngo&sid=e427224ed7044bdb9f333b052dbcaaae HTTP/1.1\" 200 183 0.000139\n",
      "127.0.0.1 - - [16/Jul/2020 16:57:38] \"GET /neighborhood_view HTTP/1.1\" 200 1209 0.003348\n",
      "127.0.0.1 - - [16/Jul/2020 16:57:38] \"GET /template_view HTTP/1.1\" 200 347 0.002439\n",
      "127.0.0.1 - - [16/Jul/2020 16:57:38] \"GET /template_view HTTP/1.1\" 200 347 0.002690\n",
      "127.0.0.1 - - [16/Jul/2020 16:57:38] \"GET /template_view HTTP/1.1\" 200 347 0.002875\n"
     ]
    },
    {
     "name": "stdout",
     "output_type": "stream",
     "text": [
      "====== DataModule.__init__ <nddav_nbextension.hdanalysis.core.DataContext.DataContext object at 0x7fbfd3f81c70> None None\n",
      "============= DataModule.computeFunction:\n",
      "  <class 'nddav_nbextension.hdanalysis.core.HDData.HDData'>\n",
      "['X0', 'X1'] X2\n",
      "none\n"
     ]
    },
    {
     "name": "stderr",
     "output_type": "stream",
     "text": [
      "/home/emma/LLNL/nddav_nbextension/nddav_nbextension/hdanalysis/core/HDWarning.py:4: HDWarning: Pointset not a function\n",
      "  warnings.warn(HDWarning(short,doc))\n"
     ]
    },
    {
     "name": "stdout",
     "output_type": "stream",
     "text": [
      "DataHistory: checkHistory  proxy is invalid\n",
      "\n",
      "============ computeNeighborhood(self,function): ============\n",
      "\n",
      "construct_neighborhood :  RelaxedGabriel 20 0.7071067811865475 none\n",
      "######### TopospineModule::initTopoSpine ########\n"
     ]
    },
    {
     "name": "stderr",
     "output_type": "stream",
     "text": [
      "Warning: bad edge len \"0.0\" in ER - setting to 1.00\n"
     ]
    }
   ],
   "source": [
    "display = nddav.createDisplay(layout='sample', port=5000, data=contents)"
   ]
  },
  {
   "cell_type": "code",
   "execution_count": 14,
   "metadata": {},
   "outputs": [
    {
     "data": {
      "application/vnd.jupyter.widget-view+json": {
       "model_id": "46023ccbfb6b466aa8fbb97c983ca30e",
       "version_major": 2,
       "version_minor": 0
      },
      "text/plain": [
       "NDDAVDisplay()"
      ]
     },
     "metadata": {},
     "output_type": "display_data"
    }
   ],
   "source": [
    "display"
   ]
  },
  {
   "cell_type": "code",
   "execution_count": 26,
   "metadata": {},
   "outputs": [],
   "source": [
    "#example of loading an hdff DataCollectionHandle\n",
    "filename = 'summaryTopologyTest.hdff'\n",
    "\n",
    "collection = DataCollectionHandle()\n",
    "collection.attach(\"data/\"+filename)\n",
    "dataset = collection.dataset(0)\n",
    "handle = dataset.getDataBlock(0)"
   ]
  },
  {
   "cell_type": "code",
   "execution_count": 27,
   "metadata": {},
   "outputs": [
    {
     "name": "stdout",
     "output_type": "stream",
     "text": [
      "{'NuOvt3j2QgarSt799RWAmw': <Process name='Process-7' pid=20368 parent=19222 started>, 'IcDrsjE2RemJHoBof8b_MQ': <Process name='Process-8' pid=20558 parent=19222 started>}\n"
     ]
    },
    {
     "name": "stderr",
     "output_type": "stream",
     "text": [
      "(20809) wsgi starting up on http://127.0.0.1:34037\n",
      "(20809) accepted ('127.0.0.1', 42296)\n",
      "127.0.0.1 - - [16/Jul/2020 15:50:53] \"HEAD / HTTP/1.1\" 200 310 0.002958\n",
      "(20809) accepted ('127.0.0.1', 42338)\n",
      "127.0.0.1 - - [16/Jul/2020 15:50:56] \"GET / HTTP/1.1\" 200 7370 0.000632\n",
      "127.0.0.1 - - [16/Jul/2020 15:50:57] \"GET /static/css/bootstrap.min.css HTTP/1.1\" 200 151309 0.001351\n",
      "127.0.0.1 - - [16/Jul/2020 15:50:57] \"GET /static/css/scatter.css HTTP/1.1\" 200 358 0.000648\n",
      "127.0.0.1 - - [16/Jul/2020 15:50:57] \"GET /static/lib/d3.v3.min.js HTTP/1.1\" 200 152052 0.001164\n",
      "(20809) accepted ('127.0.0.1', 42344)\n",
      "(20809) accepted ('127.0.0.1', 42346)\n",
      "(20809) accepted ('127.0.0.1', 42348)\n",
      "(20809) accepted ('127.0.0.1', 42350)\n",
      "(20809) accepted ('127.0.0.1', 42352)\n",
      "127.0.0.1 - - [16/Jul/2020 15:50:57] \"GET /static/css/goldenlayout-light-theme.css HTTP/1.1\" 200 105028 0.000990\n",
      "127.0.0.1 - - [16/Jul/2020 15:50:57] \"GET /static/lib/jquery.min.js HTTP/1.1\" 200 97488 0.000734\n",
      "127.0.0.1 - - [16/Jul/2020 15:50:57] \"GET /static/css/goldenlayout-base.css HTTP/1.1\" 200 3078 0.000896\n",
      "127.0.0.1 - - [16/Jul/2020 15:50:57] \"GET /static/lib/tether.min.js HTTP/1.1\" 200 23708 0.000792\n",
      "127.0.0.1 - - [16/Jul/2020 15:50:57] \"GET /static/lib/bootstrap.min.js HTTP/1.1\" 200 46978 0.000948\n",
      "127.0.0.1 - - [16/Jul/2020 15:50:57] \"GET /static/css/d3.parcoords.css HTTP/1.1\" 200 950 0.001173\n",
      "127.0.0.1 - - [16/Jul/2020 15:50:57] \"GET /static/lib/socket.io.min.js HTTP/1.1\" 200 72527 0.000957\n",
      "127.0.0.1 - - [16/Jul/2020 15:50:57] \"GET /static/lib/chroma.min.js HTTP/1.1\" 200 34024 0.001020\n",
      "127.0.0.1 - - [16/Jul/2020 15:50:57] \"GET /static/lib/utilityFunctions.js HTTP/1.1\" 200 462 0.001050\n",
      "127.0.0.1 - - [16/Jul/2020 15:50:57] \"GET /static/lib/clipper.js HTTP/1.1\" 200 138532 0.001441\n",
      "127.0.0.1 - - [16/Jul/2020 15:50:57] \"GET /static/css/slider.css HTTP/1.1\" 200 372 0.001064\n",
      "127.0.0.1 - - [16/Jul/2020 15:50:57] \"GET /static/lib/uuidv1.js HTTP/1.1\" 200 2655 0.000813\n",
      "127.0.0.1 - - [16/Jul/2020 15:50:57] \"GET /static/lib/d3.centerScale.js HTTP/1.1\" 200 2077 0.000895\n",
      "127.0.0.1 - - [16/Jul/2020 15:50:57] \"GET /static/lib/d3-ForceEdgeBundling.js HTTP/1.1\" 200 13724 0.001243\n",
      "127.0.0.1 - - [16/Jul/2020 15:50:57] \"GET /static/css/app.css HTTP/1.1\" 200 2543 0.001230\n",
      "127.0.0.1 - - [16/Jul/2020 15:50:57] \"GET /static/lib/vectorious.min.js HTTP/1.1\" 200 13938 0.001528\n",
      "127.0.0.1 - - [16/Jul/2020 15:50:57] \"GET /static/lib/d3UIitemSelector.js HTTP/1.1\" 200 3409 0.001214\n",
      "127.0.0.1 - - [16/Jul/2020 15:50:57] \"GET /static/lib/d3UIslider.js HTTP/1.1\" 200 3097 0.000916\n",
      "127.0.0.1 - - [16/Jul/2020 15:50:57] \"GET /static/lib/d3UIcolorMap.js HTTP/1.1\" 200 6461 0.000979\n",
      "127.0.0.1 - - [16/Jul/2020 15:50:57] \"GET /static/lib/d3UIglyph.js HTTP/1.1\" 200 12232 0.000700\n",
      "127.0.0.1 - - [16/Jul/2020 15:50:57] \"GET /static/lib/mustache.min.js HTTP/1.1\" 200 9850 0.001592\n",
      "127.0.0.1 - - [16/Jul/2020 15:50:57] \"GET /static/lib/d3CheckBox.js HTTP/1.1\" 200 2880 0.001037\n",
      "127.0.0.1 - - [16/Jul/2020 15:50:57] \"GET /static/lib/parallel.js HTTP/1.1\" 200 90077 0.001219\n",
      "127.0.0.1 - - [16/Jul/2020 15:50:57] \"GET /static/lib/fabric.min.js HTTP/1.1\" 200 261653 0.001820\n",
      "127.0.0.1 - - [16/Jul/2020 15:50:57] \"GET /static/lib/goldenlayout.min.js HTTP/1.1\" 200 56489 0.001225\n",
      "127.0.0.1 - - [16/Jul/2020 15:50:57] \"GET /static/plots/scatterplots.js HTTP/1.1\" 200 13222 0.001203\n",
      "127.0.0.1 - - [16/Jul/2020 15:50:57] \"GET /static/lib/d3.parcoords.js HTTP/1.1\" 200 72457 0.000933\n",
      "127.0.0.1 - - [16/Jul/2020 15:50:57] \"GET /static/plots/summaryscatterplots.js HTTP/1.1\" 200 29491 0.001283\n",
      "127.0.0.1 - - [16/Jul/2020 15:50:57] \"GET /static/plots/basePlot.js HTTP/1.1\" 200 1178 0.001295\n",
      "127.0.0.1 - - [16/Jul/2020 15:50:57] \"GET /static/plots/summaryparallelcoordinatesPlot.js HTTP/1.1\" 200 11536 0.001169\n",
      "127.0.0.1 - - [16/Jul/2020 15:50:57] \"GET /static/plots/heatmapPlot.js HTTP/1.1\" 200 3566 0.001132\n",
      "127.0.0.1 - - [16/Jul/2020 15:50:57] \"GET /static/plots/optimalAxisAlignPlot.js HTTP/1.1\" 200 15625 0.000984\n",
      "127.0.0.1 - - [16/Jul/2020 15:50:57] \"GET /static/plots/dynamicProjPlot.js HTTP/1.1\" 200 4342 0.001298\n",
      "127.0.0.1 - - [16/Jul/2020 15:50:57] \"GET /static/plots/slabPlot.js HTTP/1.1\" 200 16192 0.001204\n",
      "127.0.0.1 - - [16/Jul/2020 15:50:57] \"GET /static/plots/peelingPlot.js HTTP/1.1\" 200 412 0.001387\n",
      "127.0.0.1 - - [16/Jul/2020 15:50:57] \"GET /static/components/baseComponent.js HTTP/1.1\" 200 3651 0.001218\n",
      "127.0.0.1 - - [16/Jul/2020 15:50:57] \"GET /static/components/hdfileComponent.js HTTP/1.1\" 200 1450 0.000860\n",
      "127.0.0.1 - - [16/Jul/2020 15:50:57] \"GET /static/components/neighborhoodComponent.js HTTP/1.1\" 200 1721 0.001221\n",
      "127.0.0.1 - - [16/Jul/2020 15:50:57] \"GET /static/components/dimensionReductionComponent.js HTTP/1.1\" 200 1441 0.001143\n",
      "127.0.0.1 - - [16/Jul/2020 15:50:57] \"GET /static/components/clusteringComponent.js HTTP/1.1\" 200 2107 0.002171\n",
      "127.0.0.1 - - [16/Jul/2020 15:50:57] \"GET /static/components/tableComponent.js HTTP/1.1\" 200 2280 0.002041\n",
      "127.0.0.1 - - [16/Jul/2020 15:50:57] \"GET /static/components/parallelcoordinatesComponent.js HTTP/1.1\" 200 2284 0.001218\n",
      "127.0.0.1 - - [16/Jul/2020 15:50:57] \"GET /static/components/topospineComponent.js HTTP/1.1\" 200 5022 0.001019\n",
      "127.0.0.1 - - [16/Jul/2020 15:50:57] \"GET /static/components/summaryparallelcoordinatesComponent.js HTTP/1.1\" 200 2100 0.001155\n",
      "127.0.0.1 - - [16/Jul/2020 15:50:57] \"GET /static/components/summaryscatterplotsComponent.js HTTP/1.1\" 200 2578 0.001083\n",
      "127.0.0.1 - - [16/Jul/2020 15:50:57] \"GET /static/components/multiTopospineComponent.js HTTP/1.1\" 200 2299 0.000947\n",
      "127.0.0.1 - - [16/Jul/2020 15:50:57] \"GET /static/components/funcDistComponent.js HTTP/1.1\" 200 1477 0.001206\n",
      "127.0.0.1 - - [16/Jul/2020 15:50:57] \"GET /static/components/optimalAxisAlignComponent.js HTTP/1.1\" 200 1476 0.001521\n",
      "127.0.0.1 - - [16/Jul/2020 15:50:57] \"GET /static/components/dynamicProjComponent.js HTTP/1.1\" 200 2000 0.001099\n",
      "127.0.0.1 - - [16/Jul/2020 15:50:57] \"GET /static/components/peakShapeComponent.js HTTP/1.1\" 200 3268 0.000797\n",
      "127.0.0.1 - - [16/Jul/2020 15:50:57] \"GET /static/components/scatterplotPeelingComponent.js HTTP/1.1\" 200 2368 0.000759\n",
      "127.0.0.1 - - [16/Jul/2020 15:50:57] \"GET /static/components/imageComponent.js HTTP/1.1\" 200 5689 0.001006\n",
      "127.0.0.1 - - [16/Jul/2020 15:50:57] \"GET /static/components/viewGraphComponenet.js HTTP/1.1\" 200 6452 0.001357\n",
      "127.0.0.1 - - [16/Jul/2020 15:50:57] \"GET /static/glayout.js HTTP/1.1\" 200 4673 0.001276\n",
      "127.0.0.1 - - [16/Jul/2020 15:50:57] \"GET /static/main.js HTTP/1.1\" 200 4958 0.001099\n",
      "127.0.0.1 - - [16/Jul/2020 15:50:57] \"GET /static/plots/persistencePlot.js HTTP/1.1\" 200 11710 0.001339\n",
      "127.0.0.1 - - [16/Jul/2020 15:50:57] \"GET /static/plots/parallelcoordinatesPlot.js HTTP/1.1\" 200 5960 0.001158\n",
      "127.0.0.1 - - [16/Jul/2020 15:50:57] \"GET /static/plots/topospinesPlot.js HTTP/1.1\" 200 25707 0.001146\n",
      "127.0.0.1 - - [16/Jul/2020 15:50:57] \"GET /static/components/scatterplotsComponent.js HTTP/1.1\" 200 2485 0.001180\n",
      "127.0.0.1 - - [16/Jul/2020 15:50:57] \"GET /static/components/filterComponent.js HTTP/1.1\" 200 5032 0.000765\n",
      "127.0.0.1 - - [16/Jul/2020 15:50:58] \"GET /socket.io/?EIO=3&transport=polling&t=NDPBX7Q HTTP/1.1\" 200 355 0.001343\n",
      "(20809) accepted ('127.0.0.1', 42492)\n",
      "127.0.0.1 - - [16/Jul/2020 15:50:58] \"POST /socket.io/?EIO=3&transport=polling&t=NDPBX8k&sid=11964e5fe2104014842332b7c4b50446 HTTP/1.1\" 200 220 0.000406\n",
      "127.0.0.1 - - [16/Jul/2020 15:50:58] \"GET /socket.io/?EIO=3&transport=polling&t=NDPBX8n&sid=11964e5fe2104014842332b7c4b50446 HTTP/1.1\" 200 183 0.000320\n",
      "127.0.0.1 - - [16/Jul/2020 15:50:58] \"GET /socket.io/?EIO=3&transport=polling&t=NDPBX9f&sid=11964e5fe2104014842332b7c4b50446 HTTP/1.1\" 200 183 0.000209\n",
      "127.0.0.1 - - [16/Jul/2020 15:50:58] \"GET /template_view HTTP/1.1\" 200 347 0.002760\n",
      "127.0.0.1 - - [16/Jul/2020 15:50:58] \"GET /template_view HTTP/1.1\" 200 347 0.002826\n",
      "127.0.0.1 - - [16/Jul/2020 15:50:58] \"GET /template_view HTTP/1.1\" 200 347 0.004373\n"
     ]
    },
    {
     "name": "stdout",
     "output_type": "stream",
     "text": [
      "######### TopospineModule::initTopoSpine ########\n"
     ]
    }
   ],
   "source": [
    "display3, vis = nddav.createDisplay(layout='summary', port=5000, data=handle)"
   ]
  },
  {
   "cell_type": "code",
   "execution_count": 28,
   "metadata": {},
   "outputs": [
    {
     "data": {
      "application/vnd.jupyter.widget-view+json": {
       "model_id": "1512baa000c346a2b0e87766b2bb8d29",
       "version_major": 2,
       "version_minor": 0
      },
      "text/plain": [
       "NDDAVDisplay()"
      ]
     },
     "metadata": {},
     "output_type": "display_data"
    }
   ],
   "source": [
    "display3"
   ]
  },
  {
   "cell_type": "code",
   "execution_count": null,
   "metadata": {},
   "outputs": [],
   "source": [
    "# example of loading an entire HDFileModule\n",
    "context = DataContext()\n",
    "test_hdf = HDFileModule(context)\n",
    "test_hdf.load('summaryTopologyTest.hdff')"
   ]
  },
  {
   "cell_type": "code",
   "execution_count": null,
   "metadata": {},
   "outputs": [],
   "source": [
    "display = nddav.createDisplay(jsonLayout='summaryDataHDVis_withoutLoaderUI.json', port=5000, data=test_hdf)"
   ]
  },
  {
   "cell_type": "code",
   "execution_count": null,
   "metadata": {},
   "outputs": [],
   "source": [
    "display"
   ]
  },
  {
   "cell_type": "code",
   "execution_count": 5,
   "metadata": {},
   "outputs": [
    {
     "data": {
      "application/javascript": [
       "var output_area = this;\n",
       "    // find my cell element\n",
       "    var cell_element = output_area.element.parents('.cell');\n",
       "    // which cell is it?\n",
       "    var cell_idx = Jupyter.notebook.get_cell_elements().index(cell_element);\n",
       "    IPython.notebook.kernel.execute('idx='+cell_idx);"
      ],
      "text/plain": [
       "<IPython.core.display.Javascript object>"
      ]
     },
     "execution_count": 5,
     "metadata": {},
     "output_type": "execute_result"
    }
   ],
   "source": [
    "nddav.cell_idx"
   ]
  },
  {
   "cell_type": "code",
   "execution_count": 6,
   "metadata": {},
   "outputs": [
    {
     "data": {
      "text/plain": [
       "15"
      ]
     },
     "execution_count": 6,
     "metadata": {},
     "output_type": "execute_result"
    }
   ],
   "source": [
    "idx"
   ]
  },
  {
   "cell_type": "code",
   "execution_count": null,
   "metadata": {},
   "outputs": [],
   "source": []
  },
  {
   "cell_type": "code",
   "execution_count": null,
   "metadata": {},
   "outputs": [],
   "source": []
  }
 ],
 "metadata": {
  "kernelspec": {
   "display_name": "Python 3",
   "language": "python",
   "name": "python3"
  },
  "language_info": {
   "codemirror_mode": {
    "name": "ipython",
    "version": 3
   },
   "file_extension": ".py",
   "mimetype": "text/x-python",
   "name": "python",
   "nbconvert_exporter": "python",
   "pygments_lexer": "ipython3",
   "version": "3.8.3"
  }
 },
 "nbformat": 4,
 "nbformat_minor": 4
}
