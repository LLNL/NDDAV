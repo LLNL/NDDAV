{
 "cells": [
  {
   "cell_type": "code",
   "execution_count": 1,
   "metadata": {},
   "outputs": [
    {
     "name": "stdout",
     "output_type": "stream",
     "text": [
      "OptimalAxisAlignModule not available\n",
      "DynamicProjModule not available\n",
      "ViewGraphModule not available\n"
     ]
    }
   ],
   "source": [
    "# required to load data from a filename or numpy array\n",
    "from nddav_nbextension import nddav_nbextension as nddav\n",
    "import numpy as np"
   ]
  },
  {
   "cell_type": "code",
   "execution_count": 2,
   "metadata": {},
   "outputs": [],
   "source": [
    "# additional requirements for loading an HDFileModule\n",
    "from nddav_nbextension.hdanalysis.modules.HDFileModule import *\n",
    "from nddav_nbextension.hdanalysis.core.DataContext import *"
   ]
  },
  {
   "cell_type": "code",
   "execution_count": 3,
   "metadata": {},
   "outputs": [],
   "source": [
    "# additional requirements for loading an hdff DataCollectionHandle\n",
    "from hdff import *"
   ]
  },
  {
   "cell_type": "code",
   "execution_count": 4,
   "metadata": {},
   "outputs": [],
   "source": [
    "# example of loading data from a file (can be .txt or .hdff)\n",
    "# you can either specify a path: ex) '/home/username/project-data/terrain1.txt'\n",
    "# or move the file you want to the 'data' directory and just give the name of the file: ex) 'terrain1.txt'\n",
    "filename = 'terrain1.txt'"
   ]
  },
  {
   "cell_type": "code",
   "execution_count": 5,
   "metadata": {},
   "outputs": [],
   "source": [
    "%%capture\n",
    "\n",
    "# the jsonLayout argument can either be the name of a file in the config/ directory\n",
    "# or a full path to a json file elsewhere on your machine\n",
    "display = nddav.createDisplay(jsonLayout='smallDataHDVis_withoutLoaderUI.json', port=5000, data=filename)"
   ]
  },
  {
   "cell_type": "code",
   "execution_count": 6,
   "metadata": {},
   "outputs": [
    {
     "data": {
      "application/vnd.jupyter.widget-view+json": {
       "model_id": "9eda6e5a55044f7eb680a7eacf5f5f75",
       "version_major": 2,
       "version_minor": 0
      },
      "text/plain": [
       "NDDAVDisplay()"
      ]
     },
     "metadata": {},
     "output_type": "display_data"
    }
   ],
   "source": [
    "display"
   ]
  },
  {
   "cell_type": "code",
   "execution_count": 5,
   "metadata": {},
   "outputs": [],
   "source": [
    "#example of loading data from a numpy array\n",
    "filename = 'data/terrain1.txt'\n",
    "\n",
    "file = open(filename, 'r')\n",
    "dim = len(file.readline().split())\n",
    "file.close()\n",
    "\n",
    "contents = np.loadtxt(filename, dtype=np.float32)\n",
    "num_rows = int(len(contents)/3)\n",
    "contents = np.array(contents).astype(np.float32)"
   ]
  },
  {
   "cell_type": "code",
   "execution_count": 6,
   "metadata": {},
   "outputs": [],
   "source": [
    "%%capture\n",
    "display = nddav.createDisplay(jsonLayout='smallDataHDVis_withoutLoaderUI.json', port=5000, data=contents)"
   ]
  },
  {
   "cell_type": "code",
   "execution_count": 7,
   "metadata": {},
   "outputs": [
    {
     "data": {
      "application/vnd.jupyter.widget-view+json": {
       "model_id": "31d78982c5c44e95ab7acdf3a9872f30",
       "version_major": 2,
       "version_minor": 0
      },
      "text/plain": [
       "NDDAVDisplay()"
      ]
     },
     "metadata": {},
     "output_type": "display_data"
    }
   ],
   "source": [
    "display"
   ]
  },
  {
   "cell_type": "code",
   "execution_count": 11,
   "metadata": {},
   "outputs": [],
   "source": [
    "#example of loading an hdff DataCollectionHandle\n",
    "filename = 'summaryTopologyTest.hdff'\n",
    "\n",
    "collection = DataCollectionHandle()\n",
    "collection.attach(\"data/\"+filename)\n",
    "dataset = collection.dataset(0)\n",
    "handle = dataset.getDataBlock(0)"
   ]
  },
  {
   "cell_type": "code",
   "execution_count": 12,
   "metadata": {},
   "outputs": [],
   "source": [
    "%%capture\n",
    "display = nddav.createDisplay(jsonLayout='summaryDataHDVis_withoutLoaderUI.json', port=5000, data=handle)"
   ]
  },
  {
   "cell_type": "code",
   "execution_count": 13,
   "metadata": {},
   "outputs": [
    {
     "data": {
      "application/vnd.jupyter.widget-view+json": {
       "model_id": "fb48f957a9ef438c895d74c12e618acf",
       "version_major": 2,
       "version_minor": 0
      },
      "text/plain": [
       "NDDAVDisplay()"
      ]
     },
     "metadata": {},
     "output_type": "display_data"
    }
   ],
   "source": [
    "display"
   ]
  },
  {
   "cell_type": "code",
   "execution_count": 15,
   "metadata": {},
   "outputs": [],
   "source": [
    "# example of loading an entire HDFileModule\n",
    "context = DataContext()\n",
    "test_hdf = HDFileModule(context,'summaryTopologyTest.hdff')"
   ]
  },
  {
   "cell_type": "code",
   "execution_count": 16,
   "metadata": {},
   "outputs": [],
   "source": [
    "%%capture\n",
    "display = nddav.createDisplay(jsonLayout='summaryDataHDVis_withoutLoaderUI.json', port=5000, data=test_hdf)"
   ]
  },
  {
   "cell_type": "code",
   "execution_count": 17,
   "metadata": {},
   "outputs": [
    {
     "data": {
      "application/vnd.jupyter.widget-view+json": {
       "model_id": "78c64b44564a433cadba2589818ba279",
       "version_major": 2,
       "version_minor": 0
      },
      "text/plain": [
       "NDDAVDisplay()"
      ]
     },
     "metadata": {},
     "output_type": "display_data"
    }
   ],
   "source": [
    "display"
   ]
  },
  {
   "cell_type": "code",
   "execution_count": null,
   "metadata": {},
   "outputs": [],
   "source": []
  }
 ],
 "metadata": {
  "kernelspec": {
   "display_name": "Python 3",
   "language": "python",
   "name": "python3"
  },
  "language_info": {
   "codemirror_mode": {
    "name": "ipython",
    "version": 3
   },
   "file_extension": ".py",
   "mimetype": "text/x-python",
   "name": "python",
   "nbconvert_exporter": "python",
   "pygments_lexer": "ipython3",
   "version": "3.8.3"
  }
 },
 "nbformat": 4,
 "nbformat_minor": 4
}
