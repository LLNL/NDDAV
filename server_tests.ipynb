{
 "cells": [
  {
   "cell_type": "code",
   "execution_count": 1,
   "metadata": {},
   "outputs": [
    {
     "name": "stdout",
     "output_type": "stream",
     "text": [
      "OptimalAxisAlignModule not available\n",
      "DynamicProjModule not available\n",
      "ViewGraphModule not available\n"
     ]
    }
   ],
   "source": [
    "# required to load data from a filename or numpy array\n",
    "from nddav_nbextension import nddav_nbextension as nddav\n",
    "import numpy as np"
   ]
  },
  {
   "cell_type": "code",
   "execution_count": 2,
   "metadata": {},
   "outputs": [],
   "source": [
    "# additional requirements for loading an HDFileModule\n",
    "from nddav_nbextension.hdanalysis.modules.HDFileModule import *\n",
    "from nddav_nbextension.hdanalysis.core.DataContext import *"
   ]
  },
  {
   "cell_type": "code",
   "execution_count": 3,
   "metadata": {},
   "outputs": [],
   "source": [
    "# additional requirements for loading an hdff DataCollectionHandle\n",
    "from hdff import *"
   ]
  },
  {
   "cell_type": "code",
   "execution_count": 15,
   "metadata": {},
   "outputs": [],
   "source": [
    "# example of loading data from a file (can be .txt or .hdff)\n",
    "# you can either specify a path: ex) '/home/username/project-data/terrain1.txt'\n",
    "# or move the file you want to the 'data' directory and just give the name of the file: ex) 'terrain1.txt'\n",
    "filename = 'summaryTopologyTest.hdff'"
   ]
  },
  {
   "cell_type": "code",
   "execution_count": null,
   "metadata": {},
   "outputs": [],
   "source": [
    "nddav.findPort()"
   ]
  },
  {
   "cell_type": "code",
   "execution_count": 16,
   "metadata": {},
   "outputs": [],
   "source": [
    "%%capture\n",
    "# the jsonLayout argument can either be the name of a file in the config/ directory\n",
    "# or a full path to a json file elsewhere on your machine\n",
    "display = nddav.createDisplay(layout=\"summary\", port=5000, data=filename)"
   ]
  },
  {
   "cell_type": "code",
   "execution_count": 17,
   "metadata": {},
   "outputs": [
    {
     "data": {
      "application/vnd.jupyter.widget-view+json": {
       "model_id": "92760340c4a74ef6a7a50ff5166b591c",
       "version_major": 2,
       "version_minor": 0
      },
      "text/plain": [
       "NDDAVDisplay()"
      ]
     },
     "metadata": {},
     "output_type": "display_data"
    }
   ],
   "source": [
    "display"
   ]
  },
  {
   "cell_type": "code",
   "execution_count": null,
   "metadata": {},
   "outputs": [],
   "source": [
    "#example of loading data from a numpy array\n",
    "filename = 'data/terrain1.txt'\n",
    "\n",
    "file = open(filename, 'r')\n",
    "dim = len(file.readline().split())\n",
    "file.close()\n",
    "\n",
    "contents = np.loadtxt(filename, dtype=np.float32)\n",
    "num_rows = int(len(contents)/3)\n",
    "contents = np.array(contents).astype(np.float32)"
   ]
  },
  {
   "cell_type": "code",
   "execution_count": null,
   "metadata": {},
   "outputs": [],
   "source": [
    "display2 = nddav.createDisplay(layout='sample', port=60487, data=contents)"
   ]
  },
  {
   "cell_type": "code",
   "execution_count": null,
   "metadata": {},
   "outputs": [],
   "source": [
    "display2"
   ]
  },
  {
   "cell_type": "code",
   "execution_count": null,
   "metadata": {},
   "outputs": [],
   "source": [
    "#example of loading an hdff DataCollectionHandle\n",
    "filename = 'summaryTopologyTest.hdff'\n",
    "\n",
    "collection = DataCollectionHandle()\n",
    "collection.attach(\"data/\"+filename)\n",
    "dataset = collection.dataset(0)\n",
    "handle = dataset.getDataBlock(0)"
   ]
  },
  {
   "cell_type": "code",
   "execution_count": null,
   "metadata": {},
   "outputs": [],
   "source": [
    "display3 = nddav.createDisplay(layout='summary', port=52134, data=handle)"
   ]
  },
  {
   "cell_type": "code",
   "execution_count": null,
   "metadata": {},
   "outputs": [],
   "source": [
    "display3"
   ]
  },
  {
   "cell_type": "code",
   "execution_count": 4,
   "metadata": {},
   "outputs": [],
   "source": [
    "# example of loading an entire HDFileModule\n",
    "context = DataContext()\n",
    "test_hdf = HDFileModule(context)\n",
    "test_hdf.load('summaryTopologyTest.hdff')"
   ]
  },
  {
   "cell_type": "code",
   "execution_count": 18,
   "metadata": {},
   "outputs": [
    {
     "name": "stdout",
     "output_type": "stream",
     "text": [
      "delete  <Process name='Process-4' pid=22705 parent=22433 started>\n",
      "{}\n"
     ]
    },
    {
     "name": "stderr",
     "output_type": "stream",
     "text": [
      "(22728) wsgi starting up on http://127.0.0.1:5000\n",
      "(22728) accepted ('127.0.0.1', 34826)\n"
     ]
    },
    {
     "name": "stdout",
     "output_type": "stream",
     "text": [
      "has module? True\n"
     ]
    },
    {
     "name": "stderr",
     "output_type": "stream",
     "text": [
      "127.0.0.1 - - [20/Jul/2020 16:11:44] \"HEAD / HTTP/1.1\" 200 310 0.014112\n",
      "(22728) accepted ('127.0.0.1', 34842)\n",
      "127.0.0.1 - - [20/Jul/2020 16:11:44] \"GET /socket.io/?EIO=3&transport=polling&t=NDjseLc HTTP/1.1\" 200 355 0.001094\n",
      "(22728) accepted ('127.0.0.1', 34848)\n",
      "(22728) accepted ('127.0.0.1', 34852)\n",
      "127.0.0.1 - - [20/Jul/2020 16:11:44] \"GET /socket.io/?EIO=3&transport=polling&t=NDjseLy&sid=8fd835412b7d447f8d114b8d6d3e69f3 HTTP/1.1\" 200 183 0.000114\n",
      "127.0.0.1 - - [20/Jul/2020 16:11:44] \"POST /socket.io/?EIO=3&transport=polling&t=NDjseLx&sid=8fd835412b7d447f8d114b8d6d3e69f3 HTTP/1.1\" 200 219 0.000296\n",
      "127.0.0.1 - - [20/Jul/2020 16:11:44] \"GET /socket.io/?EIO=3&transport=polling&t=NDjseMQ&sid=8fd835412b7d447f8d114b8d6d3e69f3 HTTP/1.1\" 200 183 0.000176\n",
      "127.0.0.1 - - [20/Jul/2020 16:11:45] \"GET /socket.io/?EIO=3&transport=polling&t=NDjseVO HTTP/1.1\" 200 355 0.000614\n",
      "(22728) accepted ('127.0.0.1', 34864)\n",
      "127.0.0.1 - - [20/Jul/2020 16:11:45] \"GET /socket.io/?EIO=3&transport=polling&t=NDjseWb&sid=82c9f76e26dd45c7b9af7ffd4dbd9337 HTTP/1.1\" 200 183 0.000170\n",
      "127.0.0.1 - - [20/Jul/2020 16:11:45] \"POST /socket.io/?EIO=3&transport=polling&t=NDjseWZ&sid=82c9f76e26dd45c7b9af7ffd4dbd9337 HTTP/1.1\" 200 219 0.000289\n"
     ]
    },
    {
     "name": "stdout",
     "output_type": "stream",
     "text": [
      "\n",
      "\n",
      "!!!!!!!!! socketIO disconnected !!!!!!!!\n",
      "\n",
      " 8fd835412b7d447f8d114b8d6d3e69f3\n"
     ]
    },
    {
     "name": "stderr",
     "output_type": "stream",
     "text": [
      "127.0.0.1 - - [20/Jul/2020 16:11:45] \"GET /socket.io/?EIO=3&transport=websocket&sid=8fd835412b7d447f8d114b8d6d3e69f3 HTTP/1.1\" 200 0 0.723436\n",
      "127.0.0.1 - - [20/Jul/2020 16:11:45] \"GET /socket.io/?EIO=3&transport=polling&t=NDjseXC&sid=82c9f76e26dd45c7b9af7ffd4dbd9337 HTTP/1.1\" 200 183 0.000159\n",
      "127.0.0.1 - - [20/Jul/2020 16:11:45] \"GET /socket.io/?EIO=3&transport=polling&t=NDjsedD HTTP/1.1\" 200 355 0.000259\n",
      "(22728) accepted ('127.0.0.1', 34886)\n",
      "127.0.0.1 - - [20/Jul/2020 16:11:45] \"POST /socket.io/?EIO=3&transport=polling&t=NDjsee4&sid=9a0275b9411946d790fb1ccc4c48f179 HTTP/1.1\" 200 219 0.000209\n",
      "127.0.0.1 - - [20/Jul/2020 16:11:45] \"GET /socket.io/?EIO=3&transport=polling&t=NDjsee6&sid=9a0275b9411946d790fb1ccc4c48f179 HTTP/1.1\" 200 183 0.000139\n",
      "127.0.0.1 - - [20/Jul/2020 16:11:45] \"GET /socket.io/?EIO=3&transport=polling&t=NDjsef5&sid=9a0275b9411946d790fb1ccc4c48f179 HTTP/1.1\" 200 183 0.000151\n"
     ]
    },
    {
     "name": "stdout",
     "output_type": "stream",
     "text": [
      "*************** Data Set ********************************\n",
      "\n",
      "*************** Data Set ********************************\n",
      "\n",
      "######### TopospineModule::initTopoSpine ########\n"
     ]
    },
    {
     "name": "stderr",
     "output_type": "stream",
     "text": [
      "(22728) accepted ('127.0.0.1', 35134)\n"
     ]
    }
   ],
   "source": [
    "display4 = nddav.createDisplay(layout='summary', port=5000, data=test_hdf)"
   ]
  },
  {
   "cell_type": "code",
   "execution_count": 19,
   "metadata": {},
   "outputs": [
    {
     "data": {
      "application/vnd.jupyter.widget-view+json": {
       "model_id": "98c95573a97e4ce08c3a98f0c0527633",
       "version_major": 2,
       "version_minor": 0
      },
      "text/plain": [
       "NDDAVDisplay()"
      ]
     },
     "metadata": {},
     "output_type": "display_data"
    }
   ],
   "source": [
    "display4"
   ]
  },
  {
   "cell_type": "code",
   "execution_count": null,
   "metadata": {},
   "outputs": [],
   "source": [
    "nddav.cell_idx"
   ]
  },
  {
   "cell_type": "code",
   "execution_count": null,
   "metadata": {},
   "outputs": [],
   "source": [
    "idx"
   ]
  },
  {
   "cell_type": "code",
   "execution_count": null,
   "metadata": {},
   "outputs": [],
   "source": [
    "import gc\n",
    "gc.collect()"
   ]
  },
  {
   "cell_type": "code",
   "execution_count": null,
   "metadata": {},
   "outputs": [],
   "source": []
  }
 ],
 "metadata": {
  "kernelspec": {
   "display_name": "Python 3",
   "language": "python",
   "name": "python3"
  },
  "language_info": {
   "codemirror_mode": {
    "name": "ipython",
    "version": 3
   },
   "file_extension": ".py",
   "mimetype": "text/x-python",
   "name": "python",
   "nbconvert_exporter": "python",
   "pygments_lexer": "ipython3",
   "version": "3.8.3"
  }
 },
 "nbformat": 4,
 "nbformat_minor": 4
}
