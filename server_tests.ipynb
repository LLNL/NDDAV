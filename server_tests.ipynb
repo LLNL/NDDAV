{
 "cells": [
  {
   "cell_type": "code",
   "execution_count": 1,
   "metadata": {},
   "outputs": [
    {
     "name": "stdout",
     "output_type": "stream",
     "text": [
      "OptimalAxisAlignModule not available\n",
      "DynamicProjModule not available\n",
      "ViewGraphModule not available\n"
     ]
    }
   ],
   "source": [
    "from vistest import vistest\n",
    "from IPython.display import IFrame"
   ]
  },
  {
   "cell_type": "code",
   "execution_count": null,
   "metadata": {},
   "outputs": [
    {
     "name": "stdout",
     "output_type": "stream",
     "text": [
      "{'column': [{'row': ['Filtering', 'Neighborhood', 'Topological Spine']}, {'row': ['Parallel Coordinate', 'Scatter Plot']}]}\n"
     ]
    },
    {
     "name": "stderr",
     "output_type": "stream",
     "text": [
      "(4407) wsgi starting up on http://127.0.0.1:5000\n",
      "(4407) accepted ('127.0.0.1', 50226)\n",
      "127.0.0.1 - - [19/Jun/2020 13:01:36] \"GET /socket.io/?EIO=3&transport=polling&t=NBDXqwj HTTP/1.1\" 200 355 0.000518\n",
      "127.0.0.1 - - [19/Jun/2020 13:01:36] \"POST /socket.io/?EIO=3&transport=polling&t=NBDXqxH&sid=23139a059f7242d580725eba44311992 HTTP/1.1\" 200 219 0.000308\n",
      "(4407) accepted ('127.0.0.1', 50228)\n",
      "(4407) accepted ('127.0.0.1', 50230)\n",
      "127.0.0.1 - - [19/Jun/2020 13:01:36] \"GET /socket.io/?EIO=3&transport=polling&t=NBDXqxI&sid=23139a059f7242d580725eba44311992 HTTP/1.1\" 200 191 0.000180\n",
      "127.0.0.1 - - [19/Jun/2020 13:01:36] \"GET /socket.io/?EIO=3&transport=polling&t=NBDXqxx.0&sid=23139a059f7242d580725eba44311992 HTTP/1.1\" 200 183 0.000166\n",
      "127.0.0.1 - - [19/Jun/2020 13:01:36] \"POST /socket.io/?EIO=3&transport=polling&t=NBDXqxx&sid=23139a059f7242d580725eba44311992 HTTP/1.1\" 200 219 0.001716\n"
     ]
    },
    {
     "name": "stdout",
     "output_type": "stream",
     "text": [
      "####### parsingMessage #################### MSG.KEYS dict_keys(['type', 'name', 'uid'])\n",
      "subscribe\n",
      "subscribeData: componentLayout div_77af6cc0-b24e-11ea-b4fd-19d2c275b14f\n"
     ]
    },
    {
     "name": "stderr",
     "output_type": "stream",
     "text": [
      "(4407) accepted ('127.0.0.1', 50232)\n",
      "127.0.0.1 - - [19/Jun/2020 13:01:37] \"GET /socket.io/?EIO=3&transport=polling&t=NBDXr9Y HTTP/1.1\" 200 355 0.000397\n",
      "127.0.0.1 - - [19/Jun/2020 13:01:37] \"POST /socket.io/?EIO=3&transport=polling&t=NBDXr9-&sid=0e85c9dc748e449294aabf35ed5ccc5e HTTP/1.1\" 200 219 0.000323\n",
      "(4407) accepted ('127.0.0.1', 50234)\n",
      "(4407) accepted ('127.0.0.1', 50236)\n",
      "127.0.0.1 - - [19/Jun/2020 13:01:37] \"GET /socket.io/?EIO=3&transport=polling&t=NBDXrA1&sid=0e85c9dc748e449294aabf35ed5ccc5e HTTP/1.1\" 200 183 0.000274\n",
      "127.0.0.1 - - [19/Jun/2020 13:01:37] \"GET /socket.io/?EIO=3&transport=polling&t=NBDXrBq&sid=0e85c9dc748e449294aabf35ed5ccc5e HTTP/1.1\" 200 183 0.000190\n"
     ]
    },
    {
     "name": "stdout",
     "output_type": "stream",
     "text": [
      "####### parsingMessage #################### MSG.KEYS dict_keys(['type', 'name', 'uid'])\n",
      "subscribe\n",
      "subscribeData: componentLayout div_65ae9e70-b24d-11ea-8765-bfbb69fa8938\n"
     ]
    }
   ],
   "source": [
    "vistest.startServer()"
   ]
  },
  {
   "cell_type": "code",
   "execution_count": 3,
   "metadata": {},
   "outputs": [
    {
     "data": {
      "text/plain": [
       "<function IPython.core.display.display(*objs, include=None, exclude=None, metadata=None, transient=None, display_id=None, **kwargs)>"
      ]
     },
     "execution_count": 3,
     "metadata": {},
     "output_type": "execute_result"
    }
   ],
   "source": [
    "display"
   ]
  },
  {
   "cell_type": "code",
   "execution_count": 4,
   "metadata": {},
   "outputs": [
    {
     "data": {
      "text/html": [
       "\n",
       "        <iframe\n",
       "            width=\"700\"\n",
       "            height=\"600\"\n",
       "            src=\"http://127.0.0.1:5000\"\n",
       "            frameborder=\"0\"\n",
       "            allowfullscreen\n",
       "        ></iframe>\n",
       "        "
      ],
      "text/plain": [
       "<IPython.lib.display.IFrame at 0x7ff64a2afbb0>"
      ]
     },
     "execution_count": 4,
     "metadata": {},
     "output_type": "execute_result"
    }
   ],
   "source": [
    "IFrame(src='http://127.0.0.1:5000', width=700, height=600)"
   ]
  },
  {
   "cell_type": "code",
   "execution_count": null,
   "metadata": {},
   "outputs": [],
   "source": []
  }
 ],
 "metadata": {
  "kernelspec": {
   "display_name": "Python 3",
   "language": "python",
   "name": "python3"
  },
  "language_info": {
   "codemirror_mode": {
    "name": "ipython",
    "version": 3
   },
   "file_extension": ".py",
   "mimetype": "text/x-python",
   "name": "python",
   "nbconvert_exporter": "python",
   "pygments_lexer": "ipython3",
   "version": "3.8.3"
  }
 },
 "nbformat": 4,
 "nbformat_minor": 4
}
