{
 "cells": [
  {
   "cell_type": "code",
   "execution_count": 1,
   "metadata": {},
   "outputs": [
    {
     "name": "stdout",
     "output_type": "stream",
     "text": [
      "OptimalAxisAlignModule not available\n",
      "DynamicProjModule not available\n",
      "ViewGraphModule not available\n"
     ]
    }
   ],
   "source": [
    "# required to load data from a filename or numpy array\n",
    "from nddav_nbextension import nddav_nbextension as nddav\n",
    "import numpy as np"
   ]
  },
  {
   "cell_type": "code",
   "execution_count": 2,
   "metadata": {},
   "outputs": [],
   "source": [
    "# additional requirements for loading an HDFileModule\n",
    "from nddav_nbextension.hdanalysis.modules.HDFileModule import *\n",
    "from nddav_nbextension.hdanalysis.core.DataContext import *"
   ]
  },
  {
   "cell_type": "code",
   "execution_count": 3,
   "metadata": {},
   "outputs": [],
   "source": [
    "# additional requirements for loading an hdff DataCollectionHandle\n",
    "from hdff import *"
   ]
  },
  {
   "cell_type": "code",
   "execution_count": 4,
   "metadata": {},
   "outputs": [
    {
     "data": {
      "text/plain": [
       "59181"
      ]
     },
     "execution_count": 4,
     "metadata": {},
     "output_type": "execute_result"
    }
   ],
   "source": [
    "nddav.findPort()"
   ]
  },
  {
   "cell_type": "code",
   "execution_count": 5,
   "metadata": {},
   "outputs": [],
   "source": [
    "# example of loading data from a file (can be .txt or .hdff)\n",
    "# you can either specify a path: ex) '/home/username/project-data/terrain1.txt'\n",
    "# or move the file you want to the 'data' directory and just give the name of the file: ex) 'terrain1.txt'\n",
    "filename = 'summaryTopologyTest.hdff'"
   ]
  },
  {
   "cell_type": "code",
   "execution_count": 6,
   "metadata": {},
   "outputs": [],
   "source": [
    "%%capture\n",
    "# the jsonLayout argument can either be the name of a file in the config/ directory\n",
    "# or a full path to a json file elsewhere on your machine\n",
    "display = nddav.createDisplay(layout=\"summary\", port=5000, data=filename)"
   ]
  },
  {
   "cell_type": "code",
   "execution_count": 7,
   "metadata": {},
   "outputs": [
    {
     "data": {
      "application/vnd.jupyter.widget-view+json": {
       "model_id": "81335f3d1385408e9369d5a100095cf5",
       "version_major": 2,
       "version_minor": 0
      },
      "text/plain": [
       "NDDAVDisplay()"
      ]
     },
     "metadata": {},
     "output_type": "display_data"
    }
   ],
   "source": [
    "display"
   ]
  },
  {
   "cell_type": "code",
   "execution_count": 8,
   "metadata": {},
   "outputs": [],
   "source": [
    "#example of loading data from a numpy array\n",
    "filename = 'data/terrain1.txt'\n",
    "\n",
    "file = open(filename, 'r')\n",
    "dim = len(file.readline().split())\n",
    "file.close()\n",
    "\n",
    "contents = np.loadtxt(filename, dtype=np.float32)\n",
    "num_rows = int(len(contents)/3)\n",
    "contents = np.array(contents).astype(np.float32)"
   ]
  },
  {
   "cell_type": "code",
   "execution_count": 14,
   "metadata": {},
   "outputs": [],
   "source": [
    "%%capture\n",
    "display2 = nddav.createDisplay(layout='sample', port=60487, data=contents)"
   ]
  },
  {
   "cell_type": "code",
   "execution_count": 10,
   "metadata": {},
   "outputs": [
    {
     "data": {
      "application/vnd.jupyter.widget-view+json": {
       "model_id": "0449cebb66dd449898c6c86bdb5c2fc6",
       "version_major": 2,
       "version_minor": 0
      },
      "text/plain": [
       "NDDAVDisplay()"
      ]
     },
     "metadata": {},
     "output_type": "display_data"
    }
   ],
   "source": [
    "display2"
   ]
  },
  {
   "cell_type": "code",
   "execution_count": null,
   "metadata": {},
   "outputs": [],
   "source": [
    "#example of loading an hdff DataCollectionHandle\n",
    "filename = 'summaryTopologyTest.hdff'\n",
    "\n",
    "collection = DataCollectionHandle()\n",
    "collection.attach(\"data/\"+filename)\n",
    "dataset = collection.dataset(0)\n",
    "handle = dataset.getDataBlock(0)"
   ]
  },
  {
   "cell_type": "code",
   "execution_count": null,
   "metadata": {},
   "outputs": [],
   "source": [
    "display3 = nddav.createDisplay(layout='summary', port=52134, data=handle)"
   ]
  },
  {
   "cell_type": "code",
   "execution_count": null,
   "metadata": {},
   "outputs": [],
   "source": [
    "display3"
   ]
  },
  {
   "cell_type": "code",
   "execution_count": 11,
   "metadata": {},
   "outputs": [
    {
     "name": "stdout",
     "output_type": "stream",
     "text": [
      "##### Load file: summaryTopologyTest.hdff   ######\n"
     ]
    }
   ],
   "source": [
    "# example of loading an entire HDFileModule\n",
    "context = DataContext()\n",
    "test_hdf = HDFileModule(context)\n",
    "test_hdf.load('summaryTopologyTest.hdff')"
   ]
  },
  {
   "cell_type": "code",
   "execution_count": 15,
   "metadata": {},
   "outputs": [],
   "source": [
    "%%capture\n",
    "display4 = nddav.createDisplay(layout='summary', port=5000, data=test_hdf)"
   ]
  },
  {
   "cell_type": "code",
   "execution_count": 13,
   "metadata": {},
   "outputs": [
    {
     "data": {
      "application/vnd.jupyter.widget-view+json": {
       "model_id": "d058fdd9c1ee4139a24e64aba79b0abc",
       "version_major": 2,
       "version_minor": 0
      },
      "text/plain": [
       "NDDAVDisplay()"
      ]
     },
     "metadata": {},
     "output_type": "display_data"
    }
   ],
   "source": [
    "display4"
   ]
  }
 ],
 "metadata": {
  "kernelspec": {
   "display_name": "Python 3",
   "language": "python",
   "name": "python3"
  },
  "language_info": {
   "codemirror_mode": {
    "name": "ipython",
    "version": 3
   },
   "file_extension": ".py",
   "mimetype": "text/x-python",
   "name": "python",
   "nbconvert_exporter": "python",
   "pygments_lexer": "ipython3",
   "version": "3.8.3"
  }
 },
 "nbformat": 4,
 "nbformat_minor": 4
}
