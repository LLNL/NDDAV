{
 "cells": [
  {
   "cell_type": "code",
   "execution_count": 1,
   "metadata": {},
   "outputs": [],
   "source": [
    "import sys\n",
    "from IPython.display import display, Javascript, HTML\n",
    "import json\n",
    "import socketio"
   ]
  },
  {
   "cell_type": "code",
   "execution_count": 2,
   "metadata": {},
   "outputs": [
    {
     "name": "stdout",
     "output_type": "stream",
     "text": [
      "['/home/emma/LLNL/NDDAV-master/hdanalysis/modules', '/home/emma/anaconda3/lib/python37.zip', '/home/emma/anaconda3/lib/python3.7', '/home/emma/anaconda3/lib/python3.7/lib-dynload', '', '/home/emma/anaconda3/lib/python3.7/site-packages', '/home/emma/anaconda3/lib/python3.7/site-packages/IPython/extensions', '/home/emma/.ipython', '/home/emma/LLNL/NDDAV-master']\n"
     ]
    }
   ],
   "source": [
    "sys.path.append('/home/emma/LLNL/NDDAV-master')\n",
    "print(sys.path)"
   ]
  },
  {
   "cell_type": "code",
   "execution_count": 3,
   "metadata": {},
   "outputs": [
    {
     "name": "stdout",
     "output_type": "stream",
     "text": [
      "OptimalAxisAlignModule not available\n"
     ]
    }
   ],
   "source": [
    "from hdanalysis.modules import *\n",
    "from hdanalysis.core import *"
   ]
  },
  {
   "cell_type": "code",
   "execution_count": 4,
   "metadata": {},
   "outputs": [
    {
     "data": {
      "text/html": [
       "<script type=\"text/javascript\" src=\"/home/emma/LLNL/NDDAV-master/static/plots/basePlot.js\"></script>\n",
       "<script type=\"text/javascript\" src=\"/home/emma/LLNL/NDDAV-master/static/plots/scatterplots.js\"></script>\n",
       "<script type=\"text/javascript\" src=\"/home/emma/LLNL/NDDAV-master/static/plots/summaryscatterplots.js\"></script>\n",
       "<script type=\"text/javascript\" src=\"/home/emma/LLNL/NDDAV-master/static/plots/parallelcoordinatesPlot.js\"></script>\n",
       "<script type=\"text/javascript\" src=\"/home/emma/LLNL/NDDAV-master/static/plots/summaryparallelcoordinatesPlot.js\"></script>\n",
       "\n",
       "<script type=\"text/javascript\" src=\"/home/emma/LLNL/NDDAV-master/static/components/baseComponent.js\"></script>\n",
       "<script type=\"text/javascript\" src=\"/home/emma/LLNL/NDDAV-master/static/components/topospineComponent.js\"></script>\n",
       "<script type=\"text/javascript\" src=\"/home/emma/LLNL/NDDAV-master/static/components/scatterplotsComponent.js\"></script>\n",
       "<script type=\"text/javascript\" src=\"/home/emma/LLNL/NDDAV-master/static/components/parallelcoordinatesComponent.js\"></script>\n",
       "<script type=\"text/javascript\" src=\"/home/emma/LLNL/NDDAV-master/static/components/summaryparallelcoordinatesComponent.js\"></script>\n",
       "<script type=\"text/javascript\" src=\"/home/emma/LLNL/NDDAV-master/static/components/summaryscatterplotsComponent.js\"></script>\n"
      ],
      "text/plain": [
       "<IPython.core.display.HTML object>"
      ]
     },
     "metadata": {},
     "output_type": "display_data"
    }
   ],
   "source": [
    "%%HTML\n",
    "<script type=\"text/javascript\" src=\"/home/emma/LLNL/NDDAV-master/static/plots/basePlot.js\"></script>\n",
    "<script type=\"text/javascript\" src=\"/home/emma/LLNL/NDDAV-master/static/plots/scatterplots.js\"></script>\n",
    "<script type=\"text/javascript\" src=\"/home/emma/LLNL/NDDAV-master/static/plots/summaryscatterplots.js\"></script>\n",
    "<script type=\"text/javascript\" src=\"/home/emma/LLNL/NDDAV-master/static/plots/parallelcoordinatesPlot.js\"></script>\n",
    "<script type=\"text/javascript\" src=\"/home/emma/LLNL/NDDAV-master/static/plots/summaryparallelcoordinatesPlot.js\"></script>\n",
    "\n",
    "<script type=\"text/javascript\" src=\"/home/emma/LLNL/NDDAV-master/static/components/baseComponent.js\"></script>\n",
    "<script type=\"text/javascript\" src=\"/home/emma/LLNL/NDDAV-master/static/components/topospineComponent.js\"></script>\n",
    "<script type=\"text/javascript\" src=\"/home/emma/LLNL/NDDAV-master/static/components/scatterplotsComponent.js\"></script>\n",
    "<script type=\"text/javascript\" src=\"/home/emma/LLNL/NDDAV-master/static/components/parallelcoordinatesComponent.js\"></script>\n",
    "<script type=\"text/javascript\" src=\"/home/emma/LLNL/NDDAV-master/static/components/summaryparallelcoordinatesComponent.js\"></script>\n",
    "<script type=\"text/javascript\" src=\"/home/emma/LLNL/NDDAV-master/static/components/summaryscatterplotsComponent.js\"></script>"
   ]
  },
  {
   "cell_type": "code",
   "execution_count": 6,
   "metadata": {},
   "outputs": [],
   "source": [
    "sio = socketio.Server(ping_timeout=12000, ping_interval=12000)\n",
    "registry = ModuleUIRegistry(sio)"
   ]
  },
  {
   "cell_type": "code",
   "execution_count": 7,
   "metadata": {},
   "outputs": [],
   "source": [
    "collection = DataCollectionHandle()\n",
    "collection.attach(\"/home/emma/LLNL/NDDAV-master/data/summaryTopologyTest.hdff\")\n",
    "dataset = collection.dataset(0)\n",
    "handle = dataset.getDataBlock(0)"
   ]
  },
  {
   "cell_type": "code",
   "execution_count": 8,
   "metadata": {},
   "outputs": [
    {
     "data": {
      "text/plain": [
       "{'column': [{'row': ['HDFile', 'Summary P.C.']},\n",
       "  {'row': ['Topological Spine', 'Summary Scatter']}]}"
      ]
     },
     "execution_count": 8,
     "metadata": {},
     "output_type": "execute_result"
    }
   ],
   "source": [
    "with open('/home/emma/LLNL/NDDAV-master/config/summaryDataHDVis.json', 'r') as file:\n",
    "    layout = json.load(file)\n",
    "layout"
   ]
  },
  {
   "cell_type": "code",
   "execution_count": 9,
   "metadata": {},
   "outputs": [
    {
     "name": "stdout",
     "output_type": "stream",
     "text": [
      "setData in M_UI_Reg  componentLayout {'column': [{'row': ['HDFile', 'Summary P.C.']}, {'row': ['Topological Spine', 'Summary Scatter']}]}\n"
     ]
    }
   ],
   "source": [
    "registry.setData(\"componentLayout\", layout)"
   ]
  },
  {
   "cell_type": "code",
   "execution_count": 10,
   "metadata": {},
   "outputs": [
    {
     "name": "stdout",
     "output_type": "stream",
     "text": [
      "subscribeData: componentLayout div_320829d0-a6a2-11ea-88f7-b1deb0f3d9ef\n",
      "send to client: {'column': [{'row': ['HDFile', 'Summary P.C.']}, {'row': ['Topological Spine', 'Summary Scatter']}]}  =>  {'data': {'column': [{'row': ['HDFile', 'Summary P.C.']}, {'row': ['Topological Spine', 'Summary Scatter']}]}}\n",
      "sending to client\n"
     ]
    },
    {
     "data": {
      "text/plain": [
       "{'componentLayout': {'div_320829d0-a6a2-11ea-88f7-b1deb0f3d9ef'}}"
      ]
     },
     "execution_count": 10,
     "metadata": {},
     "output_type": "execute_result"
    }
   ],
   "source": [
    "registry.subscribeData(\"componentLayout\", \"div_320829d0-a6a2-11ea-88f7-b1deb0f3d9ef\")\n",
    "registry.data2ID"
   ]
  },
  {
   "cell_type": "code",
   "execution_count": 11,
   "metadata": {},
   "outputs": [
    {
     "name": "stdout",
     "output_type": "stream",
     "text": [
      "        addModule =>  HDFileModule div_b8315180-a6b6-11ea-8eb2-799c73f5b00e []\n",
      "DataContext.addSubModule <class 'hdanalysis.modules.HDFileModule.HDFileModule'> {}\n"
     ]
    }
   ],
   "source": [
    "registry.addModule(\"div_b8315180-a6b6-11ea-8eb2-799c73f5b00e\", \"HDFileModule\", [])"
   ]
  },
  {
   "cell_type": "code",
   "execution_count": 12,
   "metadata": {},
   "outputs": [
    {
     "name": "stdout",
     "output_type": "stream",
     "text": [
      "        addModule =>  SumParallelCoordinateModule div_323469f0-a6a2-11ea-88f7-b1deb0f3d9ef ['sumdata', 'curPC', 'globalMinMax', 'selectPC', 'selectExt']\n",
      "DataContext.addSubModule <class 'hdanalysis.modules.SumParallelCoordinateModule.SumParallelCoordinateModule'> {}\n",
      "########## Signal  ############## sumdata\n",
      "########## Register  ############## sumdata\n",
      "=============== Get Signal ==================\n",
      "<hdanalysis.modules.SumParallelCoordinateModule.SumParallelCoordinateModule object at 0x7f75aabaee10>\n",
      "sumdata\n",
      "<class 'NoneType'>\n",
      "None\n",
      "########## Signal  ############## curPC\n",
      "########## Register  ############## curPC\n",
      "=============== Get Signal ==================\n",
      "<hdanalysis.modules.SumParallelCoordinateModule.SumParallelCoordinateModule object at 0x7f75aabaee10>\n",
      "curPC\n",
      "<class 'NoneType'>\n",
      "None\n",
      "########## Signal  ############## globalMinMax\n",
      "########## Register  ############## globalMinMax\n",
      "=============== Get Signal ==================\n",
      "<hdanalysis.modules.SumParallelCoordinateModule.SumParallelCoordinateModule object at 0x7f75aabaee10>\n",
      "globalMinMax\n",
      "<class 'dict'>\n",
      "{}\n",
      "sending to client\n",
      "########## Signal  ############## selectPC\n",
      "########## Register  ############## selectPC\n",
      "=============== Get Signal ==================\n",
      "<hdanalysis.modules.SumParallelCoordinateModule.SumParallelCoordinateModule object at 0x7f75aabaee10>\n",
      "selectPC\n",
      "<class 'int'>\n",
      "1\n",
      "sending to client\n",
      "########## Signal  ############## selectExt\n",
      "########## Register  ############## selectExt\n",
      "=============== Get Signal ==================\n",
      "<hdanalysis.modules.SumParallelCoordinateModule.SumParallelCoordinateModule object at 0x7f75aabaee10>\n",
      "selectExt\n",
      "<class 'int'>\n",
      "-1\n",
      "sending to client\n"
     ]
    }
   ],
   "source": [
    "registry.addModule(\"div_323469f0-a6a2-11ea-88f7-b1deb0f3d9ef\", \"SumParallelCoordinateModule\", ['sumdata', 'curPC', 'globalMinMax', 'selectPC', 'selectExt'])"
   ]
  },
  {
   "cell_type": "code",
   "execution_count": 13,
   "metadata": {},
   "outputs": [
    {
     "name": "stdout",
     "output_type": "stream",
     "text": [
      "        addModule =>  EGModule -1 []\n",
      "DataContext.addSubModule <class 'hdanalysis.modules.EGModule.EGModule'> {}\n",
      "Proxy already exits for : <class 'hdanalysis.core.ExtremumGraph.ExtremumGraph'>\n",
      "[<hdanalysis.core.DataProxy.DataProxy object at 0x7f75aabae710>]\n"
     ]
    }
   ],
   "source": [
    "registry.addModule(\"-1\", \"EGModule\", [])"
   ]
  },
  {
   "cell_type": "code",
   "execution_count": 14,
   "metadata": {},
   "outputs": [
    {
     "name": "stdout",
     "output_type": "stream",
     "text": [
      "        addModule =>  TopospineModule div_3235c980-a6a2-11ea-88f7-b1deb0f3d9ef ['EGgraph', 'subselection', 'selectExt', 'brushedrange']\n",
      "DataContext.addSubModule <class 'hdanalysis.modules.TopospineModule.TopospineModule'> {}\n",
      "########## Signal  ############## EGgraph\n",
      "########## Register  ############## EGgraph\n",
      "=============== Get Signal ==================\n",
      "<hdanalysis.modules.TopospineModule.TopospineModule object at 0x7f75aab3c350>\n",
      "EGgraph\n",
      "<class 'NoneType'>\n",
      "None\n",
      "########## Signal  ############## subselection\n",
      "########## Register  ############## subselection\n",
      "=============== Get Signal ==================\n",
      "<hdanalysis.modules.TopospineModule.TopospineModule object at 0x7f75aab3c350>\n",
      "subselection\n",
      "<class 'numpy.ndarray'>\n",
      "[-1]\n",
      "sending to client\n",
      "########## Signal  ############## selectExt\n",
      "=============== Get Signal ==================\n",
      "<hdanalysis.modules.TopospineModule.TopospineModule object at 0x7f75aab3c350>\n",
      "selectExt\n",
      "<class 'int'>\n",
      "-1\n",
      "sending to client\n",
      "########## Signal  ############## brushedrange\n",
      "########## Register  ############## brushedrange\n",
      "=============== Get Signal ==================\n",
      "<hdanalysis.modules.TopospineModule.TopospineModule object at 0x7f75aab3c350>\n",
      "brushedrange\n",
      "<class 'dict'>\n",
      "{}\n",
      "sending to client\n"
     ]
    }
   ],
   "source": [
    "registry.addModule(\"div_3235c980-a6a2-11ea-88f7-b1deb0f3d9ef\",\"TopospineModule\", ['EGgraph', 'subselection', 'selectExt', 'brushedrange'])"
   ]
  },
  {
   "cell_type": "code",
   "execution_count": 15,
   "metadata": {},
   "outputs": [
    {
     "name": "stdout",
     "output_type": "stream",
     "text": [
      "        addModule =>  SumScatterPlotModule div_b8365a90-a6b6-11ea-8eb2-799c73f5b00e ['sumdata', 'subselection', 'curSP', 'selectExt', 'globalMinMax']\n",
      "DataContext.addSubModule <class 'hdanalysis.modules.SumScatterPlotModule.SumScatterPlotModule'> {}\n",
      "Proxy already exits for : <class 'hdanalysis.core.SummaryData.GlobalSummary'>\n",
      "[<hdanalysis.core.DataProxy.DataProxy object at 0x7f75aabaee50>]\n",
      "########## Signal  ############## sumdata\n",
      "=============== Get Signal ==================\n",
      "<hdanalysis.modules.SumScatterPlotModule.SumScatterPlotModule object at 0x7f75aabe57d0>\n",
      "sumdata\n",
      "<class 'NoneType'>\n",
      "None\n",
      "########## Signal  ############## subselection\n",
      "=============== Get Signal ==================\n",
      "<hdanalysis.modules.SumScatterPlotModule.SumScatterPlotModule object at 0x7f75aabe57d0>\n",
      "subselection\n",
      "<class 'numpy.ndarray'>\n",
      "[-1]\n",
      "sending to client\n",
      "########## Signal  ############## curSP\n",
      "########## Register  ############## curSP\n",
      "=============== Get Signal ==================\n",
      "<hdanalysis.modules.SumScatterPlotModule.SumScatterPlotModule object at 0x7f75aabe57d0>\n",
      "curSP\n",
      "<class 'NoneType'>\n",
      "None\n",
      "########## Signal  ############## selectExt\n",
      "=============== Get Signal ==================\n",
      "<hdanalysis.modules.SumScatterPlotModule.SumScatterPlotModule object at 0x7f75aabe57d0>\n",
      "selectExt\n",
      "<class 'int'>\n",
      "-1\n",
      "sending to client\n",
      "########## Signal  ############## globalMinMax\n",
      "=============== Get Signal ==================\n",
      "<hdanalysis.modules.SumScatterPlotModule.SumScatterPlotModule object at 0x7f75aabe57d0>\n",
      "globalMinMax\n",
      "<class 'dict'>\n",
      "{}\n",
      "sending to client\n"
     ]
    }
   ],
   "source": [
    "registry.addModule(\"div_b8365a90-a6b6-11ea-8eb2-799c73f5b00e\", \"SumScatterPlotModule\", ['sumdata', 'subselection', 'curSP', 'selectExt', 'globalMinMax'])"
   ]
  },
  {
   "cell_type": "code",
   "execution_count": null,
   "metadata": {},
   "outputs": [],
   "source": [
    "registry.callModule(\"div_b8315180-a6b6-11ea-8eb2-799c73f5b00e\", \"load\", {'filename': 'summaryTopologyTest.hdff', 'isIncludeFunctionIndexInfo': False, 'cube_dim': 2})"
   ]
  },
  {
   "cell_type": "code",
   "execution_count": 19,
   "metadata": {},
   "outputs": [
    {
     "ename": "AttributeError",
     "evalue": "'NoneType' object has no attribute 'registerOutput'",
     "output_type": "error",
     "traceback": [
      "\u001b[0;31m---------------------------------------------------------------------------\u001b[0m",
      "\u001b[0;31mAttributeError\u001b[0m                            Traceback (most recent call last)",
      "\u001b[0;32m<ipython-input-19-734f166dbd6d>\u001b[0m in \u001b[0;36m<module>\u001b[0;34m\u001b[0m\n\u001b[0;32m----> 1\u001b[0;31m \u001b[0mHDFileModule\u001b[0m\u001b[0;34m(\u001b[0m\u001b[0;34m)\u001b[0m\u001b[0;34m.\u001b[0m\u001b[0mload\u001b[0m\u001b[0;34m(\u001b[0m\u001b[0;34m'summaryTopologyTest.hdff'\u001b[0m\u001b[0;34m)\u001b[0m\u001b[0;34m\u001b[0m\u001b[0;34m\u001b[0m\u001b[0m\n\u001b[0m",
      "\u001b[0;32m~/LLNL/NDDAV-master/hdanalysis/modules/HDFileModule.py\u001b[0m in \u001b[0;36m__init__\u001b[0;34m(self, parent)\u001b[0m\n\u001b[1;32m      5\u001b[0m     \u001b[0;32mdef\u001b[0m \u001b[0m__init__\u001b[0m\u001b[0;34m(\u001b[0m\u001b[0mself\u001b[0m\u001b[0;34m,\u001b[0m \u001b[0mparent\u001b[0m\u001b[0;34m=\u001b[0m\u001b[0;32mNone\u001b[0m\u001b[0;34m)\u001b[0m\u001b[0;34m:\u001b[0m\u001b[0;34m\u001b[0m\u001b[0;34m\u001b[0m\u001b[0m\n\u001b[1;32m      6\u001b[0m         \u001b[0msuper\u001b[0m\u001b[0;34m(\u001b[0m\u001b[0mHDFileModule\u001b[0m\u001b[0;34m,\u001b[0m \u001b[0mself\u001b[0m\u001b[0;34m)\u001b[0m\u001b[0;34m.\u001b[0m\u001b[0m__init__\u001b[0m\u001b[0;34m(\u001b[0m\u001b[0mparent\u001b[0m\u001b[0;34m)\u001b[0m\u001b[0;34m\u001b[0m\u001b[0;34m\u001b[0m\u001b[0m\n\u001b[0;32m----> 7\u001b[0;31m         \u001b[0mself\u001b[0m\u001b[0;34m.\u001b[0m\u001b[0mmakeOutputPort\u001b[0m\u001b[0;34m(\u001b[0m\u001b[0;34m\"EGgraph\"\u001b[0m\u001b[0;34m,\u001b[0m \u001b[0mExtremumGraph\u001b[0m\u001b[0;34m)\u001b[0m\u001b[0;34m\u001b[0m\u001b[0;34m\u001b[0m\u001b[0m\n\u001b[0m\u001b[1;32m      8\u001b[0m         \u001b[0mself\u001b[0m\u001b[0;34m.\u001b[0m\u001b[0mmakeOutputPort\u001b[0m\u001b[0;34m(\u001b[0m\u001b[0;34m\"data\"\u001b[0m\u001b[0;34m,\u001b[0m \u001b[0mHDData\u001b[0m\u001b[0;34m)\u001b[0m\u001b[0;34m\u001b[0m\u001b[0;34m\u001b[0m\u001b[0m\n\u001b[1;32m      9\u001b[0m \u001b[0;34m\u001b[0m\u001b[0m\n",
      "\u001b[0;32m~/LLNL/NDDAV-master/hdanalysis/modules/Module.py\u001b[0m in \u001b[0;36mmakeOutputPort\u001b[0;34m(self, name, proxyType)\u001b[0m\n\u001b[1;32m     22\u001b[0m \u001b[0;34m\u001b[0m\u001b[0m\n\u001b[1;32m     23\u001b[0m     \u001b[0;32mdef\u001b[0m \u001b[0mmakeOutputPort\u001b[0m\u001b[0;34m(\u001b[0m\u001b[0mself\u001b[0m\u001b[0;34m,\u001b[0m\u001b[0mname\u001b[0m\u001b[0;34m,\u001b[0m\u001b[0mproxyType\u001b[0m\u001b[0;34m)\u001b[0m\u001b[0;34m:\u001b[0m\u001b[0;34m\u001b[0m\u001b[0;34m\u001b[0m\u001b[0m\n\u001b[0;32m---> 24\u001b[0;31m         \u001b[0mproxy\u001b[0m \u001b[0;34m=\u001b[0m \u001b[0mself\u001b[0m\u001b[0;34m.\u001b[0m\u001b[0m_context\u001b[0m\u001b[0;34m.\u001b[0m\u001b[0mregisterOutput\u001b[0m\u001b[0;34m(\u001b[0m\u001b[0mproxyType\u001b[0m\u001b[0;34m)\u001b[0m\u001b[0;34m\u001b[0m\u001b[0;34m\u001b[0m\u001b[0m\n\u001b[0m\u001b[1;32m     25\u001b[0m         \u001b[0msetattr\u001b[0m\u001b[0;34m(\u001b[0m\u001b[0mself\u001b[0m\u001b[0;34m,\u001b[0m\u001b[0mname\u001b[0m\u001b[0;34m,\u001b[0m\u001b[0mproxy\u001b[0m\u001b[0;34m)\u001b[0m\u001b[0;34m\u001b[0m\u001b[0;34m\u001b[0m\u001b[0m\n\u001b[1;32m     26\u001b[0m         \u001b[0mself\u001b[0m\u001b[0;34m.\u001b[0m\u001b[0m_outputPorts\u001b[0m\u001b[0;34m.\u001b[0m\u001b[0mappend\u001b[0m\u001b[0;34m(\u001b[0m\u001b[0mgetattr\u001b[0m\u001b[0;34m(\u001b[0m\u001b[0mself\u001b[0m\u001b[0;34m,\u001b[0m\u001b[0mname\u001b[0m\u001b[0;34m)\u001b[0m\u001b[0;34m)\u001b[0m\u001b[0;34m\u001b[0m\u001b[0;34m\u001b[0m\u001b[0m\n",
      "\u001b[0;31mAttributeError\u001b[0m: 'NoneType' object has no attribute 'registerOutput'"
     ]
    }
   ],
   "source": [
    "HDFileModule().load('summaryTopologyTest.hdff')"
   ]
  },
  {
   "cell_type": "code",
   "execution_count": null,
   "metadata": {},
   "outputs": [],
   "source": []
  },
  {
   "cell_type": "code",
   "execution_count": 5,
   "metadata": {},
   "outputs": [
    {
     "data": {
      "application/javascript": [
       "require.config({paths: {d3: 'https://d3js.org/d3.v5.min'}});"
      ],
      "text/plain": [
       "<IPython.core.display.Javascript object>"
      ]
     },
     "metadata": {},
     "output_type": "display_data"
    },
    {
     "data": {
      "application/javascript": [
       "//console.log('http://' + document.domain + ':' + location.port +\n",
       "// namespace);\n",
       "console.log(\"base component\")\n",
       "\n",
       "class baseComponent {\n",
       "  constructor(uuid) {\n",
       "    // this.uuid = guid();\n",
       "    // this.div = \"#div_\" + this.uuid;\n",
       "    this.uuid = uuid;\n",
       "    this.div = \"#\" + this.uuid;\n",
       "    socket.on(this.uuid, this.parseMessage.bind(this));\n",
       "    console.log(\"########## based class ###########\"+this.uuid);\n",
       "  }\n",
       "\n",
       "  getDiv() {\n",
       "    return this.div.slice(1, this.div.length);\n",
       "  }\n",
       "\n",
       "  resize() {\n",
       "\n",
       "  }\n",
       "\n",
       "  // this function will be extended by the subclasses\n",
       "  parseSignalCallback(msg) {\n",
       "    console.log(\"parse signal callback base\\n\");\n",
       "  }\n",
       "\n",
       "  // this function will be extended by the subclasses\n",
       "  parseFunctionReturn(msg) {\n",
       "    console.log(\"parse function return base\\n\");\n",
       "  }\n",
       "\n",
       "  parseDataUpdate(msg) {\n",
       "    console.log(\"parse data return base\\n\");\n",
       "  }\n",
       "\n",
       "  parseMessage(msg) {\n",
       "    console.log(\"\\nparse message in base class\\n\", msg);\n",
       "    switch (msg['type']) {\n",
       "      case 'signalCallback':\n",
       "        this.parseSignalCallback(msg);\n",
       "        break;\n",
       "      case 'functionReturn':\n",
       "        this.parseFunctionReturn(msg);\n",
       "        return;\n",
       "      case 'data':\n",
       "        this.parseDataUpdate(msg);\n",
       "    }\n",
       "  }\n",
       "\n",
       "  // subscribeData(dataType) {\n",
       "  //     var msg = {\n",
       "  //         \"type\": \"subscribeData\",\n",
       "  //         \"name\": \"dataType\",\n",
       "  //         \"uid\": this.uuid\n",
       "  //     };\n",
       "  //     socket.emit(\"message\", msg);\n",
       "  // }\n",
       "  //\n",
       "  //\n",
       "  // setData(data, dataType) {\n",
       "  //     this.data[name] = data;\n",
       "  //     var msg = {\n",
       "  //         \"type\": \"setData\",\n",
       "  //         \"name\": name,\n",
       "  //         \"data\": data,\n",
       "  //         \"uid\": this.uuid\n",
       "  //     };\n",
       "  //     // console.log(msg);\n",
       "  //     socket.emit('message', msg);\n",
       "  // }\n",
       "\n",
       "  // register callback signal\n",
       "  registerSignal(signal) {\n",
       "    var msg = {\n",
       "      \"type\": \"registerSignal\",\n",
       "      \"uid\": this.uuid,\n",
       "      \"signal\": signal\n",
       "    };\n",
       "    socket.emit('message', msg);\n",
       "    console.log(\"registerSignal\", msg);\n",
       "  }\n",
       "\n",
       "  //set signal value in module\n",
       "  setSignal(signal, value) {\n",
       "    var msg = {\n",
       "      \"type\": \"setSignal\",\n",
       "      \"uid\": this.uuid,\n",
       "      \"signal\": signal,\n",
       "      \"value\": value\n",
       "    };\n",
       "    socket.emit('message', msg);\n",
       "    console.log(\"setSignal\", msg);\n",
       "  }\n",
       "\n",
       "  addModule(moduleName, listOfSignals = [], trackSignal = true) {\n",
       "    var msg = {\n",
       "      \"type\": \"addModule\",\n",
       "      \"uid\": trackSignal ? this.uuid : -1,\n",
       "      \"moduleName\": moduleName,\n",
       "      \"listOfSignals\": listOfSignals\n",
       "    };\n",
       "    console.log(msg);\n",
       "    socket.emit('message', msg);\n",
       "    console.log(\"addModule\", msg, \"moduleName: \", moduleName, \"listofSignals: \", listOfSignals);\n",
       "  }\n",
       "\n",
       "  removeModule() {\n",
       "    var msg = {\n",
       "      \"type\": \"removeModule\",\n",
       "      \"uid\": this.uuid\n",
       "    };\n",
       "    console.log(msg);\n",
       "    socket.emit('message', msg);\n",
       "  }\n",
       "\n",
       "  callModule(func, parameter = {}) {\n",
       "    //{} indicate no parameter\n",
       "    console.log(func, parameter);\n",
       "    var msg = {\n",
       "      \"type\": \"callModule\",\n",
       "      \"uid\": this.uuid,\n",
       "      \"function\": func,\n",
       "      \"parameter\": parameter\n",
       "    };\n",
       "    socket.emit('message', msg);\n",
       "    console.log(\"callMod\", msg);\n",
       "  }\n",
       "\n",
       "  updateWidthHeight() {\n",
       "    //resize width height\n",
       "    //parent width, height\n",
       "    this.width = $(this.div).parent().parent().width();\n",
       "    this.height = $(this.div).parent().parent().height();\n",
       "    // console.log(this.pwidth, this.pheight);\n",
       "\n",
       "    //setup single plot data\n",
       "    // this.width = this.pwidth - this.margin.left - this.margin.right;\n",
       "    // this.height = this.pheight - this.margin.top - this.margin.bottom;\n",
       "    // console.log(this.width, this.height);\n",
       "  }\n",
       "\n",
       "}\n"
      ],
      "text/plain": [
       "<IPython.core.display.Javascript object>"
      ]
     },
     "metadata": {},
     "output_type": "display_data"
    }
   ],
   "source": [
    "display(Javascript(\"require.config({paths: {d3: 'https://d3js.org/d3.v5.min'}});\"))\n",
    "display(Javascript(filename=\"/home/emma/LLNL/NDDAV-master/static/components/baseComponent.js\"))"
   ]
  },
  {
   "cell_type": "code",
   "execution_count": 6,
   "metadata": {},
   "outputs": [
    {
     "data": {
      "application/javascript": [
       "define('egraph', ['d3'], function (d3) {\n",
       "    b = new baseComponent(\"div_b8315180-a6b6-11ea-8eb2-799c73f5b00e\")\n",
       "});"
      ],
      "text/plain": [
       "<IPython.core.display.Javascript object>"
      ]
     },
     "metadata": {},
     "output_type": "display_data"
    }
   ],
   "source": [
    "display(Javascript(\"\"\"define('egraph', ['d3'], function (d3) {\n",
    "    b = new baseComponent(\"div_b8315180-a6b6-11ea-8eb2-799c73f5b00e\")\n",
    "});\"\"\"))"
   ]
  },
  {
   "cell_type": "code",
   "execution_count": 7,
   "metadata": {},
   "outputs": [
    {
     "data": {
      "application/javascript": [
       "class hdfileComponent extends baseComponent {\n",
       "  constructor(uuid) {\n",
       "    super(uuid);\n",
       "    console.log(\"########## hdfileComponent class ###########\");\n",
       "    this.addModule(\"HDFileModule\");\n",
       "    this._setupUI();\n",
       "  }\n",
       "\n",
       "  loadFile(f) {\n",
       "    console.log(\"hdfileComponent=>loadFile\", f.name);\n",
       "    //var selectedDim=document.getElementById(\"data_cube\").value;\n",
       "\n",
       "    var mycheck = document.getElementById(\"cube_dim\").checked;\n",
       "    var selectedDim;\n",
       "\n",
       "    if(mycheck)\n",
       "      selectedDim = 3;\n",
       "    else\n",
       "      selectedDim = 2;\n",
       "\n",
       "    console.log(selectedDim);\n",
       "\n",
       "    this.callModule(\"load\", {\n",
       "      \"filename\": f.name,\n",
       "      \"isIncludeFunctionIndexInfo\":false, \n",
       "      \"cube_dim\": parseInt(selectedDim)\n",
       "    });\n",
       "  }\n",
       "\n",
       "  parseFunctionReturn(msg) {\n",
       "      console.log(msg)\n",
       "      switch (msg['function']) {}\n",
       "    } //end of parseFunctionReturn()\n",
       "\n",
       "  _setupUI() {\n",
       "    $(this.div + 'file-input').on('change', function(e) {\n",
       "      this.loadFile(e.target.files[0]);\n",
       "      console.log(e.target.files[0]);\n",
       "    }.bind(this));\n",
       "\n",
       "    //relay the load function button to file-input\n",
       "    $(this.div + 'load_function').on('click', function() {\n",
       "      $(this.div + 'file-input').click();\n",
       "    }.bind(this));\n",
       "\n",
       "  }\n",
       "} //end of class\n"
      ],
      "text/plain": [
       "<IPython.core.display.Javascript object>"
      ]
     },
     "metadata": {},
     "output_type": "display_data"
    }
   ],
   "source": [
    "display(Javascript(filename=\"/home/emma/LLNL/NDDAV-master/static/components/hdfileComponent.js\"))"
   ]
  },
  {
   "cell_type": "code",
   "execution_count": null,
   "metadata": {},
   "outputs": [],
   "source": []
  },
  {
   "cell_type": "code",
   "execution_count": 16,
   "metadata": {},
   "outputs": [
    {
     "data": {
      "text/plain": [
       "{'data': <hdff.hdff.DatasetHandle; proxy of <Swig Object of type 'HDFileFormat::DatasetHandle *' at 0x7f75aac2bf00> >}"
      ]
     },
     "execution_count": 16,
     "metadata": {},
     "output_type": "execute_result"
    }
   ],
   "source": [
    "data = dataMapper.Py2Js(dataset)\n",
    "data"
   ]
  },
  {
   "cell_type": "code",
   "execution_count": 20,
   "metadata": {},
   "outputs": [],
   "source": [
    "eg = ExtremumGraph()\n",
    "eg.load(handle, False, 2)"
   ]
  },
  {
   "cell_type": "code",
   "execution_count": 23,
   "metadata": {},
   "outputs": [
    {
     "data": {
      "text/plain": [
       "<hdanalysis.core.ExtremumGraph.ExtremumGraph at 0x7f75aabb7510>"
      ]
     },
     "execution_count": 23,
     "metadata": {},
     "output_type": "execute_result"
    }
   ],
   "source": [
    "eg"
   ]
  },
  {
   "cell_type": "code",
   "execution_count": 13,
   "metadata": {},
   "outputs": [
    {
     "name": "stdout",
     "output_type": "stream",
     "text": [
      "The jupyter_require extension is already loaded. To reload it, use:\n",
      "  %reload_ext jupyter_require\n"
     ]
    }
   ],
   "source": [
    "%load_ext jupyter_require\n",
    "%requirejs d3 https://d3js.org/d3.v5.min\n",
    "%requirejs d3-hierarchy https://d3js.org/d3-hierarchy.v1.min"
   ]
  },
  {
   "cell_type": "code",
   "execution_count": 14,
   "metadata": {
    "require": [
     "d3"
    ]
   },
   "outputs": [
    {
     "data": {},
     "metadata": {
      "display": {
       "element": {
        "0": {},
        "length": 1
       }
      },
      "finalized": false,
      "frozen": true,
      "frozen_output": {}
     },
     "output_type": "display_data"
    }
   ],
   "source": [
    "from pathlib import Path\n",
    "from jupyter_require import execute_with_requirements\n",
    "\n",
    "script = Path('/home/emma/LLNL/NDDAV-master/static/components/baseComponent.js').read_text()\n",
    "execute_with_requirements(script, required=['d3'])"
   ]
  },
  {
   "cell_type": "code",
   "execution_count": 16,
   "metadata": {},
   "outputs": [
    {
     "ename": "JupyterRequireError",
     "evalue": "baseComponent is not defined",
     "output_type": "error",
     "traceback": [
      "anonymous@http://localhost:8888/nbextensions/jupyter-require/core.js?v=20200605161519 line 355 > AsyncFunction:3:1",
      "execute_with_requirements/</<@http://localhost:8888/nbextensions/jupyter-require/core.js?v=20200605161519:317:26",
      "execCb@http://localhost:8888/static/components/requirejs/require.js?v=951f856e81496aaeec2e71a1c2c0d51f:1693:33",
      "check@http://localhost:8888/static/components/requirejs/require.js?v=951f856e81496aaeec2e71a1c2c0d51f:881:51",
      "enable@http://localhost:8888/static/components/requirejs/require.js?v=951f856e81496aaeec2e71a1c2c0d51f:1173:22",
      "init@http://localhost:8888/static/components/requirejs/require.js?v=951f856e81496aaeec2e71a1c2c0d51f:786:26",
      "localRequire/<@http://localhost:8888/static/components/requirejs/require.js?v=951f856e81496aaeec2e71a1c2c0d51f:1457:36",
      ""
     ]
    }
   ],
   "source": [
    "execute_with_requirements('b = new baseComponent(\"div_b8315180-a6b6-11ea-8eb2-799c73f5b00e\");', required=['d3'])"
   ]
  },
  {
   "cell_type": "code",
   "execution_count": 17,
   "metadata": {},
   "outputs": [
    {
     "ename": "JupyterRequireError",
     "evalue": "baseComponent is not defined",
     "output_type": "error",
     "traceback": [
      "anonymous@http://localhost:8888/nbextensions/jupyter-require/core.js?v=20200605161519 line 355 > AsyncFunction:3:1",
      "execute_with_requirements/</<@http://localhost:8888/nbextensions/jupyter-require/core.js?v=20200605161519:317:26",
      "execCb@http://localhost:8888/static/components/requirejs/require.js?v=951f856e81496aaeec2e71a1c2c0d51f:1693:33",
      "check@http://localhost:8888/static/components/requirejs/require.js?v=951f856e81496aaeec2e71a1c2c0d51f:881:51",
      "enable@http://localhost:8888/static/components/requirejs/require.js?v=951f856e81496aaeec2e71a1c2c0d51f:1173:22",
      "init@http://localhost:8888/static/components/requirejs/require.js?v=951f856e81496aaeec2e71a1c2c0d51f:786:26",
      "localRequire/<@http://localhost:8888/static/components/requirejs/require.js?v=951f856e81496aaeec2e71a1c2c0d51f:1457:36",
      ""
     ]
    }
   ],
   "source": [
    "script = Path('/home/emma/LLNL/NDDAV-master/static/components/topospineComponent.js').read_text()\n",
    "execute_with_requirements(script, required=['d3'])"
   ]
  },
  {
   "cell_type": "code",
   "execution_count": null,
   "metadata": {},
   "outputs": [],
   "source": []
  }
 ],
 "metadata": {
  "kernelspec": {
   "display_name": "Python 3",
   "language": "python",
   "name": "python3"
  },
  "language_info": {
   "codemirror_mode": {
    "name": "ipython",
    "version": 3
   },
   "file_extension": ".py",
   "mimetype": "text/x-python",
   "name": "python",
   "nbconvert_exporter": "python",
   "pygments_lexer": "ipython3",
   "version": "3.7.6"
  },
  "require": {
   "paths": {
    "d3": "https://d3js.org/d3.v5.min",
    "d3-hierarchy": "https://d3js.org/d3-hierarchy.v1.min"
   },
   "shim": {}
  }
 },
 "nbformat": 4,
 "nbformat_minor": 4
}
